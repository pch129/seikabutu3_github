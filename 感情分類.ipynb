{
 "cells": [
  {
   "cell_type": "markdown",
   "metadata": {},
   "source": [
    "感情分類について初めはこちらを試しました。BERTモデルにLSTMとCNNを加えたモデルを作りました。時間的な処理と特徴抽出をして精度を高める狙いがあります。データに偏りがあるため、クラスごとの重み付け計算を行いました。今回は感情の大きさが大きいデータが少なく、データ拡張で埋めきることはできなかったこと、推論時に感情が全て0のパターンがあったことで断念しました。今回のデータセットの傾向を考えると感情が大きい文章を大量に生成して埋めることは無理だと思われます。今後は８つの感情(例：[0,0,1,1,0,0,0,0])をセットで一つのデータとして扱い、基数を計算して求まった値でラベル付けし、ラベルごとに個数が1以上になったものを文章生成で補うことで偏りを無くしたいと思います。"
   ]
  },
  {
   "cell_type": "code",
   "execution_count": 1,
   "metadata": {
    "colab": {
     "base_uri": "https://localhost:8080/"
    },
    "id": "e0V4CNSfV0UE",
    "outputId": "7b449145-12ab-4ac4-daca-2e0035217895"
   },
   "outputs": [
    {
     "name": "stdout",
     "output_type": "stream",
     "text": [
      "Mounted at /content/drive/\n"
     ]
    }
   ],
   "source": [
    "from google.colab import drive\n",
    "drive.mount('/content/drive/')"
   ]
  },
  {
   "cell_type": "code",
   "execution_count": 2,
   "metadata": {
    "colab": {
     "base_uri": "https://localhost:8080/"
    },
    "id": "kHvETTCvB-KX",
    "outputId": "8167411a-4bdb-4f9d-9b63-1dfd35910938"
   },
   "outputs": [
    {
     "name": "stdout",
     "output_type": "stream",
     "text": [
      "Collecting git+https://github.com/huggingface/transformers\n",
      "  Cloning https://github.com/huggingface/transformers to /tmp/pip-req-build-6gvajoqj\n",
      "  Running command git clone --filter=blob:none --quiet https://github.com/huggingface/transformers /tmp/pip-req-build-6gvajoqj\n",
      "  Resolved https://github.com/huggingface/transformers to commit 5fa35344755d8d9c29610b57d175efd03776ae9e\n",
      "  Installing build dependencies ... \u001b[?25l\u001b[?25hdone\n",
      "  Getting requirements to build wheel ... \u001b[?25l\u001b[?25hdone\n",
      "  Preparing metadata (pyproject.toml) ... \u001b[?25l\u001b[?25hdone\n",
      "Requirement already satisfied: filelock in /usr/local/lib/python3.11/dist-packages (from transformers==4.49.0.dev0) (3.16.1)\n",
      "Requirement already satisfied: huggingface-hub<1.0,>=0.24.0 in /usr/local/lib/python3.11/dist-packages (from transformers==4.49.0.dev0) (0.27.1)\n",
      "Requirement already satisfied: numpy>=1.17 in /usr/local/lib/python3.11/dist-packages (from transformers==4.49.0.dev0) (1.26.4)\n",
      "Requirement already satisfied: packaging>=20.0 in /usr/local/lib/python3.11/dist-packages (from transformers==4.49.0.dev0) (24.2)\n",
      "Requirement already satisfied: pyyaml>=5.1 in /usr/local/lib/python3.11/dist-packages (from transformers==4.49.0.dev0) (6.0.2)\n",
      "Requirement already satisfied: regex!=2019.12.17 in /usr/local/lib/python3.11/dist-packages (from transformers==4.49.0.dev0) (2024.11.6)\n",
      "Requirement already satisfied: requests in /usr/local/lib/python3.11/dist-packages (from transformers==4.49.0.dev0) (2.32.3)\n",
      "Requirement already satisfied: tokenizers<0.22,>=0.21 in /usr/local/lib/python3.11/dist-packages (from transformers==4.49.0.dev0) (0.21.0)\n",
      "Requirement already satisfied: safetensors>=0.4.1 in /usr/local/lib/python3.11/dist-packages (from transformers==4.49.0.dev0) (0.5.2)\n",
      "Requirement already satisfied: tqdm>=4.27 in /usr/local/lib/python3.11/dist-packages (from transformers==4.49.0.dev0) (4.67.1)\n",
      "Requirement already satisfied: fsspec>=2023.5.0 in /usr/local/lib/python3.11/dist-packages (from huggingface-hub<1.0,>=0.24.0->transformers==4.49.0.dev0) (2024.10.0)\n",
      "Requirement already satisfied: typing-extensions>=3.7.4.3 in /usr/local/lib/python3.11/dist-packages (from huggingface-hub<1.0,>=0.24.0->transformers==4.49.0.dev0) (4.12.2)\n",
      "Requirement already satisfied: charset-normalizer<4,>=2 in /usr/local/lib/python3.11/dist-packages (from requests->transformers==4.49.0.dev0) (3.4.1)\n",
      "Requirement already satisfied: idna<4,>=2.5 in /usr/local/lib/python3.11/dist-packages (from requests->transformers==4.49.0.dev0) (3.10)\n",
      "Requirement already satisfied: urllib3<3,>=1.21.1 in /usr/local/lib/python3.11/dist-packages (from requests->transformers==4.49.0.dev0) (2.3.0)\n",
      "Requirement already satisfied: certifi>=2017.4.17 in /usr/local/lib/python3.11/dist-packages (from requests->transformers==4.49.0.dev0) (2024.12.14)\n",
      "Building wheels for collected packages: transformers\n",
      "  Building wheel for transformers (pyproject.toml) ... \u001b[?25l\u001b[?25hdone\n",
      "  Created wheel for transformers: filename=transformers-4.49.0.dev0-py3-none-any.whl size=10474239 sha256=485d668875214797813db060d19448a4c87e1d524b9a34954817481febe02618\n",
      "  Stored in directory: /tmp/pip-ephem-wheel-cache-ahbzhyc2/wheels/04/a3/f1/b88775f8e1665827525b19ac7590250f1038d947067beba9fb\n",
      "Successfully built transformers\n",
      "Installing collected packages: transformers\n",
      "  Attempting uninstall: transformers\n",
      "    Found existing installation: transformers 4.47.1\n",
      "    Uninstalling transformers-4.47.1:\n",
      "      Successfully uninstalled transformers-4.47.1\n",
      "Successfully installed transformers-4.49.0.dev0\n",
      "Collecting git+https://github.com/huggingface/accelerate\n",
      "  Cloning https://github.com/huggingface/accelerate to /tmp/pip-req-build-9p5ue61r\n",
      "  Running command git clone --filter=blob:none --quiet https://github.com/huggingface/accelerate /tmp/pip-req-build-9p5ue61r\n",
      "  Resolved https://github.com/huggingface/accelerate to commit 78b8126bff9882a66074a082cb2a80aa89026118\n",
      "  Installing build dependencies ... \u001b[?25l\u001b[?25hdone\n",
      "  Getting requirements to build wheel ... \u001b[?25l\u001b[?25hdone\n",
      "  Preparing metadata (pyproject.toml) ... \u001b[?25l\u001b[?25hdone\n",
      "Requirement already satisfied: numpy<3.0.0,>=1.17 in /usr/local/lib/python3.11/dist-packages (from accelerate==1.4.0.dev0) (1.26.4)\n",
      "Requirement already satisfied: packaging>=20.0 in /usr/local/lib/python3.11/dist-packages (from accelerate==1.4.0.dev0) (24.2)\n",
      "Requirement already satisfied: psutil in /usr/local/lib/python3.11/dist-packages (from accelerate==1.4.0.dev0) (5.9.5)\n",
      "Requirement already satisfied: pyyaml in /usr/local/lib/python3.11/dist-packages (from accelerate==1.4.0.dev0) (6.0.2)\n",
      "Requirement already satisfied: torch>=2.0.0 in /usr/local/lib/python3.11/dist-packages (from accelerate==1.4.0.dev0) (2.5.1+cu121)\n",
      "Requirement already satisfied: huggingface_hub>=0.21.0 in /usr/local/lib/python3.11/dist-packages (from accelerate==1.4.0.dev0) (0.27.1)\n",
      "Requirement already satisfied: safetensors>=0.4.3 in /usr/local/lib/python3.11/dist-packages (from accelerate==1.4.0.dev0) (0.5.2)\n",
      "Requirement already satisfied: filelock in /usr/local/lib/python3.11/dist-packages (from huggingface_hub>=0.21.0->accelerate==1.4.0.dev0) (3.16.1)\n",
      "Requirement already satisfied: fsspec>=2023.5.0 in /usr/local/lib/python3.11/dist-packages (from huggingface_hub>=0.21.0->accelerate==1.4.0.dev0) (2024.10.0)\n",
      "Requirement already satisfied: requests in /usr/local/lib/python3.11/dist-packages (from huggingface_hub>=0.21.0->accelerate==1.4.0.dev0) (2.32.3)\n",
      "Requirement already satisfied: tqdm>=4.42.1 in /usr/local/lib/python3.11/dist-packages (from huggingface_hub>=0.21.0->accelerate==1.4.0.dev0) (4.67.1)\n",
      "Requirement already satisfied: typing-extensions>=3.7.4.3 in /usr/local/lib/python3.11/dist-packages (from huggingface_hub>=0.21.0->accelerate==1.4.0.dev0) (4.12.2)\n",
      "Requirement already satisfied: networkx in /usr/local/lib/python3.11/dist-packages (from torch>=2.0.0->accelerate==1.4.0.dev0) (3.4.2)\n",
      "Requirement already satisfied: jinja2 in /usr/local/lib/python3.11/dist-packages (from torch>=2.0.0->accelerate==1.4.0.dev0) (3.1.5)\n",
      "Requirement already satisfied: nvidia-cuda-nvrtc-cu12==12.1.105 in /usr/local/lib/python3.11/dist-packages (from torch>=2.0.0->accelerate==1.4.0.dev0) (12.1.105)\n",
      "Requirement already satisfied: nvidia-cuda-runtime-cu12==12.1.105 in /usr/local/lib/python3.11/dist-packages (from torch>=2.0.0->accelerate==1.4.0.dev0) (12.1.105)\n",
      "Requirement already satisfied: nvidia-cuda-cupti-cu12==12.1.105 in /usr/local/lib/python3.11/dist-packages (from torch>=2.0.0->accelerate==1.4.0.dev0) (12.1.105)\n",
      "Requirement already satisfied: nvidia-cudnn-cu12==9.1.0.70 in /usr/local/lib/python3.11/dist-packages (from torch>=2.0.0->accelerate==1.4.0.dev0) (9.1.0.70)\n",
      "Requirement already satisfied: nvidia-cublas-cu12==12.1.3.1 in /usr/local/lib/python3.11/dist-packages (from torch>=2.0.0->accelerate==1.4.0.dev0) (12.1.3.1)\n",
      "Requirement already satisfied: nvidia-cufft-cu12==11.0.2.54 in /usr/local/lib/python3.11/dist-packages (from torch>=2.0.0->accelerate==1.4.0.dev0) (11.0.2.54)\n",
      "Requirement already satisfied: nvidia-curand-cu12==10.3.2.106 in /usr/local/lib/python3.11/dist-packages (from torch>=2.0.0->accelerate==1.4.0.dev0) (10.3.2.106)\n",
      "Requirement already satisfied: nvidia-cusolver-cu12==11.4.5.107 in /usr/local/lib/python3.11/dist-packages (from torch>=2.0.0->accelerate==1.4.0.dev0) (11.4.5.107)\n",
      "Requirement already satisfied: nvidia-cusparse-cu12==12.1.0.106 in /usr/local/lib/python3.11/dist-packages (from torch>=2.0.0->accelerate==1.4.0.dev0) (12.1.0.106)\n",
      "Requirement already satisfied: nvidia-nccl-cu12==2.21.5 in /usr/local/lib/python3.11/dist-packages (from torch>=2.0.0->accelerate==1.4.0.dev0) (2.21.5)\n",
      "Requirement already satisfied: nvidia-nvtx-cu12==12.1.105 in /usr/local/lib/python3.11/dist-packages (from torch>=2.0.0->accelerate==1.4.0.dev0) (12.1.105)\n",
      "Requirement already satisfied: triton==3.1.0 in /usr/local/lib/python3.11/dist-packages (from torch>=2.0.0->accelerate==1.4.0.dev0) (3.1.0)\n",
      "Requirement already satisfied: sympy==1.13.1 in /usr/local/lib/python3.11/dist-packages (from torch>=2.0.0->accelerate==1.4.0.dev0) (1.13.1)\n",
      "Requirement already satisfied: nvidia-nvjitlink-cu12 in /usr/local/lib/python3.11/dist-packages (from nvidia-cusolver-cu12==11.4.5.107->torch>=2.0.0->accelerate==1.4.0.dev0) (12.6.85)\n",
      "Requirement already satisfied: mpmath<1.4,>=1.1.0 in /usr/local/lib/python3.11/dist-packages (from sympy==1.13.1->torch>=2.0.0->accelerate==1.4.0.dev0) (1.3.0)\n",
      "Requirement already satisfied: MarkupSafe>=2.0 in /usr/local/lib/python3.11/dist-packages (from jinja2->torch>=2.0.0->accelerate==1.4.0.dev0) (3.0.2)\n",
      "Requirement already satisfied: charset-normalizer<4,>=2 in /usr/local/lib/python3.11/dist-packages (from requests->huggingface_hub>=0.21.0->accelerate==1.4.0.dev0) (3.4.1)\n",
      "Requirement already satisfied: idna<4,>=2.5 in /usr/local/lib/python3.11/dist-packages (from requests->huggingface_hub>=0.21.0->accelerate==1.4.0.dev0) (3.10)\n",
      "Requirement already satisfied: urllib3<3,>=1.21.1 in /usr/local/lib/python3.11/dist-packages (from requests->huggingface_hub>=0.21.0->accelerate==1.4.0.dev0) (2.3.0)\n",
      "Requirement already satisfied: certifi>=2017.4.17 in /usr/local/lib/python3.11/dist-packages (from requests->huggingface_hub>=0.21.0->accelerate==1.4.0.dev0) (2024.12.14)\n",
      "Building wheels for collected packages: accelerate\n",
      "  Building wheel for accelerate (pyproject.toml) ... \u001b[?25l\u001b[?25hdone\n",
      "  Created wheel for accelerate: filename=accelerate-1.4.0.dev0-py3-none-any.whl size=336958 sha256=454151d42b7e63c06d1f5f6254a6a5c56254a4838345bb696ee04b5739c11914\n",
      "  Stored in directory: /tmp/pip-ephem-wheel-cache-25rckcxc/wheels/18/af/f7/facfc4ea8d2484e23fc8489825221fe5826625fad79301dd99\n",
      "Successfully built accelerate\n",
      "Installing collected packages: accelerate\n",
      "  Attempting uninstall: accelerate\n",
      "    Found existing installation: accelerate 1.2.1\n",
      "    Uninstalling accelerate-1.2.1:\n",
      "      Successfully uninstalled accelerate-1.2.1\n",
      "Successfully installed accelerate-1.4.0.dev0\n",
      "Collecting datasets\n",
      "  Downloading datasets-3.2.0-py3-none-any.whl.metadata (20 kB)\n",
      "Requirement already satisfied: filelock in /usr/local/lib/python3.11/dist-packages (from datasets) (3.16.1)\n",
      "Requirement already satisfied: numpy>=1.17 in /usr/local/lib/python3.11/dist-packages (from datasets) (1.26.4)\n",
      "Requirement already satisfied: pyarrow>=15.0.0 in /usr/local/lib/python3.11/dist-packages (from datasets) (17.0.0)\n",
      "Collecting dill<0.3.9,>=0.3.0 (from datasets)\n",
      "  Downloading dill-0.3.8-py3-none-any.whl.metadata (10 kB)\n",
      "Requirement already satisfied: pandas in /usr/local/lib/python3.11/dist-packages (from datasets) (2.2.2)\n",
      "Requirement already satisfied: requests>=2.32.2 in /usr/local/lib/python3.11/dist-packages (from datasets) (2.32.3)\n",
      "Requirement already satisfied: tqdm>=4.66.3 in /usr/local/lib/python3.11/dist-packages (from datasets) (4.67.1)\n",
      "Collecting xxhash (from datasets)\n",
      "  Downloading xxhash-3.5.0-cp311-cp311-manylinux_2_17_x86_64.manylinux2014_x86_64.whl.metadata (12 kB)\n",
      "Collecting multiprocess<0.70.17 (from datasets)\n",
      "  Downloading multiprocess-0.70.16-py311-none-any.whl.metadata (7.2 kB)\n",
      "Collecting fsspec<=2024.9.0,>=2023.1.0 (from fsspec[http]<=2024.9.0,>=2023.1.0->datasets)\n",
      "  Downloading fsspec-2024.9.0-py3-none-any.whl.metadata (11 kB)\n",
      "Requirement already satisfied: aiohttp in /usr/local/lib/python3.11/dist-packages (from datasets) (3.11.11)\n",
      "Requirement already satisfied: huggingface-hub>=0.23.0 in /usr/local/lib/python3.11/dist-packages (from datasets) (0.27.1)\n",
      "Requirement already satisfied: packaging in /usr/local/lib/python3.11/dist-packages (from datasets) (24.2)\n",
      "Requirement already satisfied: pyyaml>=5.1 in /usr/local/lib/python3.11/dist-packages (from datasets) (6.0.2)\n",
      "Requirement already satisfied: aiohappyeyeballs>=2.3.0 in /usr/local/lib/python3.11/dist-packages (from aiohttp->datasets) (2.4.4)\n",
      "Requirement already satisfied: aiosignal>=1.1.2 in /usr/local/lib/python3.11/dist-packages (from aiohttp->datasets) (1.3.2)\n",
      "Requirement already satisfied: attrs>=17.3.0 in /usr/local/lib/python3.11/dist-packages (from aiohttp->datasets) (24.3.0)\n",
      "Requirement already satisfied: frozenlist>=1.1.1 in /usr/local/lib/python3.11/dist-packages (from aiohttp->datasets) (1.5.0)\n",
      "Requirement already satisfied: multidict<7.0,>=4.5 in /usr/local/lib/python3.11/dist-packages (from aiohttp->datasets) (6.1.0)\n",
      "Requirement already satisfied: propcache>=0.2.0 in /usr/local/lib/python3.11/dist-packages (from aiohttp->datasets) (0.2.1)\n",
      "Requirement already satisfied: yarl<2.0,>=1.17.0 in /usr/local/lib/python3.11/dist-packages (from aiohttp->datasets) (1.18.3)\n",
      "Requirement already satisfied: typing-extensions>=3.7.4.3 in /usr/local/lib/python3.11/dist-packages (from huggingface-hub>=0.23.0->datasets) (4.12.2)\n",
      "Requirement already satisfied: charset-normalizer<4,>=2 in /usr/local/lib/python3.11/dist-packages (from requests>=2.32.2->datasets) (3.4.1)\n",
      "Requirement already satisfied: idna<4,>=2.5 in /usr/local/lib/python3.11/dist-packages (from requests>=2.32.2->datasets) (3.10)\n",
      "Requirement already satisfied: urllib3<3,>=1.21.1 in /usr/local/lib/python3.11/dist-packages (from requests>=2.32.2->datasets) (2.3.0)\n",
      "Requirement already satisfied: certifi>=2017.4.17 in /usr/local/lib/python3.11/dist-packages (from requests>=2.32.2->datasets) (2024.12.14)\n",
      "Requirement already satisfied: python-dateutil>=2.8.2 in /usr/local/lib/python3.11/dist-packages (from pandas->datasets) (2.8.2)\n",
      "Requirement already satisfied: pytz>=2020.1 in /usr/local/lib/python3.11/dist-packages (from pandas->datasets) (2024.2)\n",
      "Requirement already satisfied: tzdata>=2022.7 in /usr/local/lib/python3.11/dist-packages (from pandas->datasets) (2024.2)\n",
      "Requirement already satisfied: six>=1.5 in /usr/local/lib/python3.11/dist-packages (from python-dateutil>=2.8.2->pandas->datasets) (1.17.0)\n",
      "Downloading datasets-3.2.0-py3-none-any.whl (480 kB)\n",
      "\u001b[2K   \u001b[90m━━━━━━━━━━━━━━━━━━━━━━━━━━━━━━━━━━━━━━━━\u001b[0m \u001b[32m480.6/480.6 kB\u001b[0m \u001b[31m22.4 MB/s\u001b[0m eta \u001b[36m0:00:00\u001b[0m\n",
      "\u001b[?25hDownloading dill-0.3.8-py3-none-any.whl (116 kB)\n",
      "\u001b[2K   \u001b[90m━━━━━━━━━━━━━━━━━━━━━━━━━━━━━━━━━━━━━━━━\u001b[0m \u001b[32m116.3/116.3 kB\u001b[0m \u001b[31m11.6 MB/s\u001b[0m eta \u001b[36m0:00:00\u001b[0m\n",
      "\u001b[?25hDownloading fsspec-2024.9.0-py3-none-any.whl (179 kB)\n",
      "\u001b[2K   \u001b[90m━━━━━━━━━━━━━━━━━━━━━━━━━━━━━━━━━━━━━━━━\u001b[0m \u001b[32m179.3/179.3 kB\u001b[0m \u001b[31m18.1 MB/s\u001b[0m eta \u001b[36m0:00:00\u001b[0m\n",
      "\u001b[?25hDownloading multiprocess-0.70.16-py311-none-any.whl (143 kB)\n",
      "\u001b[2K   \u001b[90m━━━━━━━━━━━━━━━━━━━━━━━━━━━━━━━━━━━━━━━━\u001b[0m \u001b[32m143.5/143.5 kB\u001b[0m \u001b[31m13.4 MB/s\u001b[0m eta \u001b[36m0:00:00\u001b[0m\n",
      "\u001b[?25hDownloading xxhash-3.5.0-cp311-cp311-manylinux_2_17_x86_64.manylinux2014_x86_64.whl (194 kB)\n",
      "\u001b[2K   \u001b[90m━━━━━━━━━━━━━━━━━━━━━━━━━━━━━━━━━━━━━━━━\u001b[0m \u001b[32m194.8/194.8 kB\u001b[0m \u001b[31m19.5 MB/s\u001b[0m eta \u001b[36m0:00:00\u001b[0m\n",
      "\u001b[?25hInstalling collected packages: xxhash, fsspec, dill, multiprocess, datasets\n",
      "  Attempting uninstall: fsspec\n",
      "    Found existing installation: fsspec 2024.10.0\n",
      "    Uninstalling fsspec-2024.10.0:\n",
      "      Successfully uninstalled fsspec-2024.10.0\n",
      "\u001b[31mERROR: pip's dependency resolver does not currently take into account all the packages that are installed. This behaviour is the source of the following dependency conflicts.\n",
      "gcsfs 2024.10.0 requires fsspec==2024.10.0, but you have fsspec 2024.9.0 which is incompatible.\u001b[0m\u001b[31m\n",
      "\u001b[0mSuccessfully installed datasets-3.2.0 dill-0.3.8 fsspec-2024.9.0 multiprocess-0.70.16 xxhash-3.5.0\n",
      "Collecting fugashi\n",
      "  Downloading fugashi-1.4.0-cp311-cp311-manylinux_2_17_x86_64.manylinux2014_x86_64.whl.metadata (6.9 kB)\n",
      "Collecting ipadic\n",
      "  Downloading ipadic-1.0.0.tar.gz (13.4 MB)\n",
      "\u001b[2K     \u001b[90m━━━━━━━━━━━━━━━━━━━━━━━━━━━━━━━━━━━━━━━━\u001b[0m \u001b[32m13.4/13.4 MB\u001b[0m \u001b[31m75.9 MB/s\u001b[0m eta \u001b[36m0:00:00\u001b[0m\n",
      "\u001b[?25h  Preparing metadata (setup.py) ... \u001b[?25l\u001b[?25hdone\n",
      "Downloading fugashi-1.4.0-cp311-cp311-manylinux_2_17_x86_64.manylinux2014_x86_64.whl (698 kB)\n",
      "\u001b[2K   \u001b[90m━━━━━━━━━━━━━━━━━━━━━━━━━━━━━━━━━━━━━━━━\u001b[0m \u001b[32m698.0/698.0 kB\u001b[0m \u001b[31m39.1 MB/s\u001b[0m eta \u001b[36m0:00:00\u001b[0m\n",
      "\u001b[?25hBuilding wheels for collected packages: ipadic\n",
      "  Building wheel for ipadic (setup.py) ... \u001b[?25l\u001b[?25hdone\n",
      "  Created wheel for ipadic: filename=ipadic-1.0.0-py3-none-any.whl size=13556704 sha256=00cf5ab92aab857444964a3ff1828328aa94d0413ed67f72db61b43da781486a\n",
      "  Stored in directory: /root/.cache/pip/wheels/44/56/37/f543963822b85260c9f948df8fac8c20169c80dc71b24dc407\n",
      "Successfully built ipadic\n",
      "Installing collected packages: ipadic, fugashi\n",
      "Successfully installed fugashi-1.4.0 ipadic-1.0.0\n",
      "Collecting unidic-lite\n",
      "  Downloading unidic-lite-1.0.8.tar.gz (47.4 MB)\n",
      "\u001b[2K     \u001b[90m━━━━━━━━━━━━━━━━━━━━━━━━━━━━━━━━━━━━━━━━\u001b[0m \u001b[32m47.4/47.4 MB\u001b[0m \u001b[31m13.4 MB/s\u001b[0m eta \u001b[36m0:00:00\u001b[0m\n",
      "\u001b[?25h  Preparing metadata (setup.py) ... \u001b[?25l\u001b[?25hdone\n",
      "Building wheels for collected packages: unidic-lite\n",
      "  Building wheel for unidic-lite (setup.py) ... \u001b[?25l\u001b[?25hdone\n",
      "  Created wheel for unidic-lite: filename=unidic_lite-1.0.8-py3-none-any.whl size=47658818 sha256=bba1a71820a5abf506986a67bdda4cb62061fb4b2a8f77f9619523cfd07cb0f6\n",
      "  Stored in directory: /root/.cache/pip/wheels/b7/fd/e9/ea4459b868e6d2902e8d80e82dbacb6203e05b3b3a58c64966\n",
      "Successfully built unidic-lite\n",
      "Installing collected packages: unidic-lite\n",
      "Successfully installed unidic-lite-1.0.8\n"
     ]
    }
   ],
   "source": [
    "! pip install git+https://github.com/huggingface/transformers\n",
    "! pip install git+https://github.com/huggingface/accelerate\n",
    "! pip install datasets\n",
    "! pip install fugashi ipadic\n",
    "! pip install unidic-lite\n",
    "#! wget https://github.com/ids-cv/wrime/raw/master/wrime-ver1.tsv"
   ]
  },
  {
   "cell_type": "code",
   "execution_count": null,
   "metadata": {
    "colab": {
     "base_uri": "https://localhost:8080/"
    },
    "id": "2HWHuKSYI6qD",
    "outputId": "6b8940b2-0291-4567-dd8c-17fdf9c1a8fc"
   },
   "outputs": [
    {
     "name": "stdout",
     "output_type": "stream",
     "text": [
      "Archive:  /content/drive/MyDrive/成果物3/use_model-20241228T021209Z-001.zip\n",
      "  inflating: use_model/model_name__epoch001__20241227_1021.pth  \n"
     ]
    }
   ],
   "source": [
    "#! unzip /content/drive/MyDrive/成果物3/use_model-20241228T021209Z-001.zip"
   ]
  },
  {
   "cell_type": "code",
   "execution_count": 3,
   "metadata": {
    "id": "Uv6AzWBhTpfp"
   },
   "outputs": [],
   "source": [
    "import pandas as pd\n",
    "import numpy as np\n",
    "import unidic_lite\n",
    "import torch\n",
    "import torch.nn as nn\n",
    "import torch.optim as optim\n",
    "from torch.nn import CrossEntropyLoss\n",
    "from torch.utils.data import DataLoader\n",
    "from datasets import Dataset\n",
    "import os\n",
    "import random\n",
    "from transformers import BertModel, BertConfig, BertTokenizer\n",
    "from transformers import get_linear_schedule_with_warmup\n",
    "from transformers.modeling_outputs import SequenceClassifierOutput\n",
    "from sklearn.model_selection import train_test_split\n",
    "from sklearn.metrics import accuracy_score, f1_score, precision_score, recall_score\n",
    "from tqdm import tqdm\n",
    "import datetime as dt\n",
    "import matplotlib.pyplot as plt\n",
    "import copy"
   ]
  },
  {
   "cell_type": "code",
   "execution_count": 4,
   "metadata": {
    "colab": {
     "base_uri": "https://localhost:8080/",
     "height": 258
    },
    "id": "0_f10bLK46Ta",
    "outputId": "4b39e21b-295f-4bef-8b72-8fa063fd97ab"
   },
   "outputs": [
    {
     "name": "stdout",
     "output_type": "stream",
     "text": [
      "/content/drive/MyDrive/成果物3\n"
     ]
    },
    {
     "data": {
      "text/html": [
       "<div>\n",
       "<style scoped>\n",
       "    .dataframe tbody tr th:only-of-type {\n",
       "        vertical-align: middle;\n",
       "    }\n",
       "\n",
       "    .dataframe tbody tr th {\n",
       "        vertical-align: top;\n",
       "    }\n",
       "\n",
       "    .dataframe thead th {\n",
       "        text-align: right;\n",
       "    }\n",
       "</style>\n",
       "<table border=\"1\" class=\"dataframe\">\n",
       "  <thead>\n",
       "    <tr style=\"text-align: right;\">\n",
       "      <th></th>\n",
       "      <th>count</th>\n",
       "    </tr>\n",
       "    <tr>\n",
       "      <th>Avg. Readers_Anger</th>\n",
       "      <th></th>\n",
       "    </tr>\n",
       "  </thead>\n",
       "  <tbody>\n",
       "    <tr>\n",
       "      <th>0</th>\n",
       "      <td>0.262916</td>\n",
       "    </tr>\n",
       "    <tr>\n",
       "      <th>1</th>\n",
       "      <td>8.604046</td>\n",
       "    </tr>\n",
       "    <tr>\n",
       "      <th>2</th>\n",
       "      <td>18.762605</td>\n",
       "    </tr>\n",
       "    <tr>\n",
       "      <th>3</th>\n",
       "      <td>37.058091</td>\n",
       "    </tr>\n",
       "  </tbody>\n",
       "</table>\n",
       "</div><br><label><b>dtype:</b> float64</label>"
      ],
      "text/plain": [
       "Avg. Readers_Anger\n",
       "0     0.262916\n",
       "1     8.604046\n",
       "2    18.762605\n",
       "3    37.058091\n",
       "Name: count, dtype: float64"
      ]
     },
     "execution_count": 4,
     "metadata": {},
     "output_type": "execute_result"
    }
   ],
   "source": [
    "emotions = ['Joy', 'Sadness', 'Anticipation', 'Surprise', 'Anger', 'Fear', 'Disgust', 'Trust']\n",
    "emotion=emotions[4]\n",
    "\n",
    "target_columns = ['Sentence'] + ['Avg. Readers_'+emotion]\n",
    "%cd '/content/drive/MyDrive/成果物3/'\n",
    "df_wrime_aug = pd.read_csv('wrime_sqlSimCSE_2_filtered.csv')\n",
    "df_wrime = pd.read_csv('words_filtered_wrime-ver1_2.csv')\n",
    "df_wrime = pd.concat([df_wrime[target_columns], df_wrime_aug[target_columns]], ignore_index=True, axis=0)\n",
    "df_train, df_val = train_test_split(df_wrime, test_size=0.4, random_state=42)\n",
    "\n",
    "# インデックスは整数のままにして値のカウントを取得\n",
    "class_counts = (df_train['Avg. Readers_'+emotion].value_counts().sort_index()).astype(float)\n",
    "total_samples = len(df_train)\n",
    "class_weights = total_samples / (len(class_counts) * class_counts)\n",
    "class_weights"
   ]
  },
  {
   "cell_type": "code",
   "execution_count": 5,
   "metadata": {
    "colab": {
     "base_uri": "https://localhost:8080/"
    },
    "id": "hIP9YSCBkrkF",
    "outputId": "92fb7c67-b190-4ff9-8fd0-9461365170d7"
   },
   "outputs": [
    {
     "name": "stdout",
     "output_type": "stream",
     "text": [
      "Using cuda\n"
     ]
    }
   ],
   "source": [
    "os.environ[\"CUDA_VISIBLE_DEVICES\"]='0,1,2,3'\n",
    "device = torch.device(\"cuda\" if torch.cuda.is_available() else \"cpu\")\n",
    "print(f\"Using {device}\")\n",
    "model_name_dict = {\n",
    "    \"tohoku\": 'tohoku-nlp/bert-base-japanese-v3',\n",
    "}\n",
    "class Hparams:\n",
    "    def __init__(self):\n",
    "        self.random_seed = 42\n",
    "        self.data_dir = './data'\n",
    "        self.output_dir = emotion+'bert+_norm/'\n",
    "        self.batch_size = 16\n",
    "        self.token_max_length = 256\n",
    "        self.model_name = model_name_dict['tohoku']\n",
    "        self.model_state = self.output_dir+'tohoku-nlp_bert-base-japanese-v3__epoch001__20250110_1151.pth'\n",
    "        self.emotion = emotion\n",
    "        self.num_epochs = 2\n",
    "        self.class_weights = [class_counts.iloc[i] for i in range(4)] #実際のクラスごとのサンプル数\n",
    "\n",
    "hps = Hparams()\n",
    "\n",
    "def seed_torch(seed:int):\n",
    "    os.environ[\"PYTHONHASHSEED\"] = str(seed)\n",
    "    np.random.seed(seed)\n",
    "    random.seed(seed)\n",
    "    torch.manual_seed(seed)\n",
    "    torch.cuda.manual_seed(seed)\n",
    "    torch.cuda.manual_seed_all(seed)\n",
    "    torch.backends.cudnn.deterministic = True\n",
    "\n",
    "seed_torch(hps.random_seed)"
   ]
  },
  {
   "cell_type": "code",
   "execution_count": 6,
   "metadata": {
    "id": "IpgYfoAyoZFC"
   },
   "outputs": [],
   "source": [
    "class BertLstmCnnModel(nn.Module):\n",
    "    def __init__(self, model_name=hps.model_name, use_hidden_n=10):\n",
    "        super(BertLstmCnnModel, self).__init__()\n",
    "        self.config = BertConfig.from_pretrained(model_name)\n",
    "        self.bert = BertModel.from_pretrained(model_name, config=self.config)\n",
    "        self.hidden_size = self.config.hidden_size\n",
    "        self.use_hidden_n = use_hidden_n\n",
    "        self.lstm = nn.LSTM(self.hidden_size, self.hidden_size, batch_first=True, bidirectional=True)\n",
    "        self.leakyrelu = nn.LeakyReLU()\n",
    "        self.dropout = nn.Dropout(p=0.3)\n",
    "        self.conv1d = nn.Conv1d(in_channels=self.use_hidden_n, out_channels=1, kernel_size=3, padding='same')\n",
    "        self.batchnorm1d = nn.BatchNorm1d(1)\n",
    "        self.classifier = nn.Linear(self.hidden_size * 2, 4)  # 4クラス分類のため、出力ノード数を4に設定\n",
    "\n",
    "    def forward(self, input_ids, attention_mask):\n",
    "        outputs = self.bert(input_ids=input_ids, attention_mask=attention_mask, output_hidden_states=True)\n",
    "        hidden_states_list = [outputs.hidden_states[-1*i] for i in range(1, self.use_hidden_n+1)]\n",
    "        self.lstm.flatten_parameters()\n",
    "        out_list = [\n",
    "            self.dropout(\n",
    "                self.leakyrelu(\n",
    "                    self.lstm(hidden_state)[0] # lstmシーケンス全体の出力(隠れ、セル状態は省く)\n",
    "                )[:, -1, :] # 最後のタイムステップはシーケンス全体の文脈情報が集約されている\n",
    "            ).view(-1, 1, self.hidden_size * 2)\n",
    "            for hidden_state in hidden_states_list\n",
    "        ]\n",
    "        out = torch.cat(out_list, dim=1)\n",
    "        out = self.dropout(self.leakyrelu(self.batchnorm1d(self.conv1d(out))))\n",
    "        out = out.view(out.size(0), -1) # 連続性重視のためmaxpoolは未使用\n",
    "        logits = self.classifier(out)\n",
    "        return logits\n"
   ]
  },
  {
   "cell_type": "code",
   "execution_count": 7,
   "metadata": {
    "colab": {
     "base_uri": "https://localhost:8080/",
     "height": 333,
     "referenced_widgets": [
      "a145b5d719d1459aa798ba84ab629306",
      "1ee17a181aaf42fdaa4e63d1e38a3b9e",
      "1db0df2e23314fed99e2ff501f861a17",
      "a4f0a8a4ca17427497b7603bc2132739",
      "a26a61c2f6244768ae512b43f40ee3ef",
      "4b7c6c7bb78244b182bc614aaacaead4",
      "3b6b3c2ffca44ad196274739e1990968",
      "ba0a2ddf0fc04ff68800d98f1af25018",
      "6f4cfdd2f8d14d8594ae1705e1b3dfd8",
      "e99e66d5f3604aaeb204662d9042f33c",
      "5a19f255699f4e299022b0c630dbf9e6",
      "87c8ed9c9d05448ab8b3b95e5c59b73f",
      "a05dfed8064b49e6a578fb686ee86721",
      "de58fa16de424b2d8bbe34e665068751",
      "3cf5c752902643ebb480a62e256c261f",
      "85452e7350d141c0a46b20aca4a8da56",
      "51dc77b0501442ee9722d7bdce864b18",
      "79ebedeefb414a72b2358c1d13d0c969",
      "50c7b936068d41b6a59d209406e43f9b",
      "571bbbbf04fc4971812b0051fde8ef24",
      "c9e94209c0434dc988f98ced719561bf",
      "7005da4c76cd4f79a43b70ab596d6a3b",
      "049fe745765240c9bdf8e93456be322a",
      "d642ca95ef4345e0a728e26d0f4ed708",
      "d9ca9cb641734e41bc3c17d904a9bf4f",
      "dd2a7058278e42b485f3adc1381ec239",
      "4bfff687658649b687ed3ba94ea179ec",
      "ad5bf2a8776f408a8d24742c6dc131f2",
      "72e3ac3228f74df5b829d12cc6aae243",
      "173b01bc656148c390a927d1d957dcf2",
      "5fe618d2338243fb9ac6918bc52351a8",
      "e8b389b8c3ca44258295b3b0491c66fb",
      "d4e34e7bad474a2d80bd155ae3e49681",
      "a5cebf2f0e314b83a4204704eb044605",
      "356c761e2e8645a79fc338f59875c2db",
      "b29adfb2eca74af9bd5a3e2a8ca4d0f8",
      "83e49c4d066b4d7da4466f37df0c455c",
      "f170e9fd150842159733e63b8acd530a",
      "9b9af20817fb4e7096e44e8a77ac8d00",
      "6ef6a509da7742199b15f80207953de3",
      "ad44ac71509841aeb9477a01c07ec242",
      "6367131cd7e6402583c6c3dcc91ca192",
      "0d59d4853edd478793771ab18ad2e29c",
      "c71b9d3992d947818f04770a31ca2f2e",
      "97d4503fc96041dbbcc69968cfb9171f",
      "b383b38d83c94e4e96789dd7b686593d",
      "942282fed980443ba2ad393440eea219",
      "3dca914f08b24eae87b15676428876d1",
      "2e8d2a5e16534999a55748fab97e6f92",
      "4be0241a80184c98959ffa741adc699b",
      "9123d42ab7244001b1c8af54bed9cd16",
      "f1e488b6e70f472e8b20a212af5d6e4a",
      "fd917e38b98f4c06a3e5caaa2ce8019e",
      "6b9bae82ba4e48a783d40a9298e860d5",
      "eb6b405699a4434fbf3b0473d820208f"
     ]
    },
    "id": "lm70AM1xsLTj",
    "outputId": "40e9010f-9396-4aad-88ec-179cb43352aa"
   },
   "outputs": [
    {
     "name": "stderr",
     "output_type": "stream",
     "text": [
      "/usr/local/lib/python3.11/dist-packages/huggingface_hub/utils/_auth.py:94: UserWarning: \n",
      "The secret `HF_TOKEN` does not exist in your Colab secrets.\n",
      "To authenticate with the Hugging Face Hub, create a token in your settings tab (https://huggingface.co/settings/tokens), set it as secret in your Google Colab and restart your session.\n",
      "You will be able to reuse this secret in all of your notebooks.\n",
      "Please note that authentication is recommended but still optional to access public models or datasets.\n",
      "  warnings.warn(\n"
     ]
    },
    {
     "data": {
      "application/vnd.jupyter.widget-view+json": {
       "model_id": "a145b5d719d1459aa798ba84ab629306",
       "version_major": 2,
       "version_minor": 0
      },
      "text/plain": [
       "tokenizer_config.json:   0%|          | 0.00/251 [00:00<?, ?B/s]"
      ]
     },
     "metadata": {},
     "output_type": "display_data"
    },
    {
     "data": {
      "application/vnd.jupyter.widget-view+json": {
       "model_id": "87c8ed9c9d05448ab8b3b95e5c59b73f",
       "version_major": 2,
       "version_minor": 0
      },
      "text/plain": [
       "vocab.txt:   0%|          | 0.00/231k [00:00<?, ?B/s]"
      ]
     },
     "metadata": {},
     "output_type": "display_data"
    },
    {
     "name": "stderr",
     "output_type": "stream",
     "text": [
      "The tokenizer class you load from this checkpoint is not the same type as the class this function is called from. It may result in unexpected tokenization. \n",
      "The tokenizer class you load from this checkpoint is 'BertJapaneseTokenizer'. \n",
      "The class this function is called from is 'BertTokenizer'.\n"
     ]
    },
    {
     "data": {
      "application/vnd.jupyter.widget-view+json": {
       "model_id": "049fe745765240c9bdf8e93456be322a",
       "version_major": 2,
       "version_minor": 0
      },
      "text/plain": [
       "Map:   0%|          | 0/35724 [00:00<?, ? examples/s]"
      ]
     },
     "metadata": {},
     "output_type": "display_data"
    },
    {
     "data": {
      "application/vnd.jupyter.widget-view+json": {
       "model_id": "a5cebf2f0e314b83a4204704eb044605",
       "version_major": 2,
       "version_minor": 0
      },
      "text/plain": [
       "Map:   0%|          | 0/11908 [00:00<?, ? examples/s]"
      ]
     },
     "metadata": {},
     "output_type": "display_data"
    },
    {
     "data": {
      "application/vnd.jupyter.widget-view+json": {
       "model_id": "97d4503fc96041dbbcc69968cfb9171f",
       "version_major": 2,
       "version_minor": 0
      },
      "text/plain": [
       "Map:   0%|          | 0/11909 [00:00<?, ? examples/s]"
      ]
     },
     "metadata": {},
     "output_type": "display_data"
    }
   ],
   "source": [
    "def make_emotion_data(model_name, df_wrime, emotion):\n",
    "    tokenizer = BertTokenizer.from_pretrained(model_name)\n",
    "\n",
    "    # データセットの分割\n",
    "    df_train, df_val = train_test_split(df_wrime, test_size=0.4, random_state=42)\n",
    "    df_dev, df_test = train_test_split(df_val, test_size=0.5, random_state=42)\n",
    "\n",
    "    target_columns = ['Sentence', 'Avg. Readers_' + emotion]\n",
    "    train_dataset = Dataset.from_pandas(df_train[target_columns])\n",
    "    dev_dataset = Dataset.from_pandas(df_dev[target_columns])\n",
    "    test_dataset = Dataset.from_pandas(df_test[target_columns])\n",
    "\n",
    "    def tokenize_function(batch):\n",
    "        # Ensure 'Sentence' is a list of strings\n",
    "        sentences = batch['Sentence']\n",
    "        if not isinstance(sentences, list):\n",
    "            sentences = [sentences]\n",
    "        sentences = [str(s) for s in sentences]  # Convert each element to string\n",
    "\n",
    "        tokenized_batch = tokenizer(sentences, truncation=True, padding='max_length', max_length=256)\n",
    "        tokenized_batch['labels'] = batch['Avg. Readers_' + emotion]\n",
    "        return tokenized_batch\n",
    "\n",
    "    train_dataset = train_dataset.map(tokenize_function, batched=True)\n",
    "    dev_dataset = dev_dataset.map(tokenize_function, batched=True)\n",
    "    test_dataset = test_dataset.map(tokenize_function, batched=True)\n",
    "\n",
    "    return train_dataset, dev_dataset, test_dataset\n",
    "\n",
    "# データセットを作成\n",
    "model_name = hps.model_name\n",
    "emotion = hps.emotion\n",
    "train_dataset, dev_dataset, test_dataset = make_emotion_data(model_name, df_wrime, emotion)\n",
    "\n",
    "def collate_fn(batch):\n",
    "    input_ids = torch.stack([torch.tensor(item['input_ids']) for item in batch])\n",
    "    attention_mask = torch.stack([torch.tensor(item['attention_mask']) for item in batch])\n",
    "    labels = torch.tensor([item['labels'] for item in batch], dtype=torch.long)\n",
    "    return {'input_ids': input_ids, 'attention_mask': attention_mask, 'labels': labels}\n",
    "\n",
    "train_loader = DataLoader(train_dataset, batch_size=16, shuffle=True, collate_fn=collate_fn)\n",
    "dev_loader = DataLoader(dev_dataset, batch_size=16, shuffle=False, collate_fn=collate_fn)\n",
    "test_loader = DataLoader(test_dataset, batch_size=16, shuffle=False, collate_fn=collate_fn)\n"
   ]
  },
  {
   "cell_type": "code",
   "execution_count": 8,
   "metadata": {
    "id": "Kkd3XJGLvw36"
   },
   "outputs": [],
   "source": [
    "class ModelCheckpoint:\n",
    "    def __init__(self, save_dir: str, model_name: str):\n",
    "        os.makedirs(save_dir, exist_ok=True)\n",
    "        self.save_dir = save_dir\n",
    "        self.model_name = model_name\n",
    "        jst = dt.timezone(dt.timedelta(hours=+9), 'JST')\n",
    "        dt_now = dt.datetime.now(jst)\n",
    "        self.dt_now_str = dt_now.strftime('%Y%m%d_%H%M')\n",
    "        self.best_loss = float('inf')\n",
    "        self.best_acc = self.best_f1 = self.best_precision = self.best_recall = 0.0\n",
    "        self.best_epoch = self.last_epoch = 0\n",
    "        self.num_epochs = 0  # 初期化\n",
    "\n",
    "    def get_checkpoint_name(self, epoch):\n",
    "        checkpoint_name = f\"{self.model_name.replace('/', '_')}__epoch{epoch:03}__{self.dt_now_str}.pth\"\n",
    "        checkpoint_name = os.path.join(self.save_dir, checkpoint_name)\n",
    "        return checkpoint_name\n",
    "\n",
    "    def save_checkpoint(self, model, optimizer, epoch):\n",
    "        self.num_epochs = epoch + 1  # 実際のエポック数を更新\n",
    "        checkpoint = {\n",
    "            'epoch': epoch,\n",
    "            'model_state_dict': model.state_dict(),\n",
    "            'optimizer_state_dict': optimizer.state_dict(),\n",
    "            'best_loss': self.best_loss,\n",
    "            'best_acc': self.best_acc,\n",
    "            'best_f1': self.best_f1,\n",
    "            'best_precision': self.best_precision,\n",
    "            'best_recall': self.best_recall,\n",
    "            'best_epoch': self.best_epoch,\n",
    "            'last_epoch': epoch,\n",
    "            'num_epochs': self.num_epochs  # 実際のエポック数を保存\n",
    "        }\n",
    "        torch.save(checkpoint, self.get_checkpoint_name(epoch))\n",
    "\n",
    "    def load_checkpoint(self, model, optimizer, manual_name=None):\n",
    "        if manual_name:\n",
    "            checkpoint_name = manual_name\n",
    "        else:\n",
    "            checkpoint_name = self.get_checkpoint_name(self.last_epoch)  # last_epochを使用してチェックポイント名を決定\n",
    "\n",
    "        print(f\"Loading checkpoint {checkpoint_name}\")\n",
    "        checkpoint = torch.load(checkpoint_name)\n",
    "\n",
    "        model.load_state_dict(checkpoint['model_state_dict'])\n",
    "        optimizer.load_state_dict(checkpoint['optimizer_state_dict'])\n",
    "\n",
    "        self.best_loss = checkpoint.get('best_loss', float('inf'))\n",
    "        self.best_acc = checkpoint.get('best_acc', 0.0)\n",
    "        self.best_f1 = checkpoint.get('best_f1', 0.0)\n",
    "        self.best_precision = checkpoint.get('best_precision', 0.0)\n",
    "        self.best_recall = checkpoint.get('best_recall', 0.0)\n",
    "        self.best_epoch = checkpoint.get('best_epoch', 0)\n",
    "        self.last_epoch = checkpoint.get('last_epoch', 0)\n",
    "        self.num_epochs = checkpoint.get('num_epochs', 0)  # num_epochsをロード\n",
    "\n",
    "        for state in optimizer.state.values():\n",
    "            for k, v in state.items():\n",
    "                if isinstance(v, torch.Tensor):\n",
    "                    state[k] = v.to(device)\n",
    "\n",
    "        return model, optimizer, self.last_epoch, self.best_loss, self.best_acc, self.best_f1, self.best_precision, self.best_recall, self.num_epochs\n"
   ]
  },
  {
   "cell_type": "code",
   "execution_count": 9,
   "metadata": {
    "id": "r0alaCKai7AU"
   },
   "outputs": [],
   "source": [
    "def initialize_model_and_optimizer(checkpoint_path, model_name, device):\n",
    "    model = BertLstmCnnModel(model_name=model_name)\n",
    "    model.to(device)\n",
    "\n",
    "    optimizer = torch.optim.AdamW(\n",
    "        params=[\n",
    "            {'params': model.bert.embeddings.parameters(), 'lr': 1e-5},\n",
    "            {'params': model.bert.encoder.parameters(), 'lr': 3e-5},\n",
    "            {'params': model.bert.pooler.parameters(), 'lr': 5e-5},\n",
    "            {'params': model.lstm.parameters(), 'lr': 5e-4},\n",
    "            {'params': model.conv1d.parameters(), 'lr': 5e-4},\n",
    "            {'params': model.classifier.parameters(), 'lr': 1e-3}\n",
    "        ]\n",
    "    )\n",
    "\n",
    "    checkpoint = ModelCheckpoint(save_dir=hps.output_dir, model_name=model_name)\n",
    "\n",
    "    if checkpoint_path is not None and os.path.exists(checkpoint_path):\n",
    "        model, optimizer, start_epoch, best_loss, best_acc, best_f1, best_precision, best_recall, past_epochs = checkpoint.load_checkpoint(model, optimizer, manual_name=checkpoint_path)\n",
    "        print(f\"Resuming training from epoch {start_epoch + 1}\")\n",
    "        new_epochs = hps.num_epochs\n",
    "        total_epochs = past_epochs + new_epochs  # 過去のエポック数に新しいエポック数を加算\n",
    "    else:\n",
    "        start_epoch = 0\n",
    "        best_loss = float('inf')\n",
    "        best_acc = best_f1 = best_precision = best_recall = 0.0\n",
    "        new_epochs = hps.num_epochs  # 新しいトレーニングのための初期設定\n",
    "        past_epochs = 0  # 新しいトレーニングセッション\n",
    "        total_epochs = new_epochs\n",
    "        print(\"Starting new training\")\n",
    "\n",
    "    return model, optimizer, start_epoch, best_loss, best_acc, best_f1, best_precision, best_recall, past_epochs, new_epochs, total_epochs, checkpoint\n",
    "\n",
    "\n",
    "def fit(dataloaders, model, optimizer, past_epochs, new_epochs, batch_size, scheduler, class_weights_tensor, start_epoch=0, checkpoint=None):\n",
    "    device = torch.device(\"cuda\" if torch.cuda.is_available() else \"cpu\")\n",
    "    history = {\n",
    "        'train': {'loss': [], 'acc': [], 'f1': [], 'precision': [], 'recall': []},\n",
    "        'val': {'loss': [], 'acc': [], 'f1': [], 'precision': [], 'recall': []},\n",
    "        'lr': [],\n",
    "    }\n",
    "\n",
    "    best_model_wts = copy.deepcopy(model.state_dict())\n",
    "\n",
    "    print(f\"使用デバイス : {device}\")\n",
    "    total_epochs = past_epochs + new_epochs\n",
    "    for epoch in range(start_epoch, start_epoch + new_epochs):  # 新しいトレーニング回数だけ実行\n",
    "        print(f\"【Epoch {epoch+1: 3}/{total_epochs: 3}】   LR -> \", end='')\n",
    "        for i, params in enumerate(optimizer.param_groups):\n",
    "            print(f\"Group{i}: {params['lr']:.4e}\", end=' / ')\n",
    "        print('')\n",
    "\n",
    "        for phase in ['train', 'val']:\n",
    "            running_loss = 0.0\n",
    "            running_corrects = 0\n",
    "            preds_labels_dict = {'preds': [], 'labels': []}\n",
    "\n",
    "            if phase == 'train':\n",
    "                model.train()\n",
    "            else:\n",
    "                model.eval()\n",
    "\n",
    "            for i, batch in enumerate(tqdm(dataloaders[phase], desc=f\"{phase} Epoch {epoch+1}\", leave=False)):\n",
    "                inputs = batch\n",
    "                labels = batch['labels']\n",
    "                input_ids = inputs['input_ids']\n",
    "                attention_mask = inputs['attention_mask']\n",
    "                input_ids = input_ids.to(device)\n",
    "                attention_mask = attention_mask.to(device)\n",
    "                labels = labels.to(device)\n",
    "\n",
    "                optimizer.zero_grad()\n",
    "\n",
    "                with torch.set_grad_enabled(phase == 'train'):\n",
    "                    logits_outputs = model(input_ids=input_ids, attention_mask=attention_mask)\n",
    "                    criterion = nn.CrossEntropyLoss(weight=class_weights_tensor)\n",
    "                    loss = criterion(logits_outputs, labels)\n",
    "\n",
    "                    _, preds = torch.max(logits_outputs, 1)\n",
    "\n",
    "                    if phase == 'train':\n",
    "                        loss.backward()\n",
    "                        optimizer.step()\n",
    "                        scheduler.step()\n",
    "\n",
    "                running_loss += loss.item() * input_ids.size(0)\n",
    "                running_corrects += torch.sum(preds == labels)\n",
    "                preds_labels_dict['preds'].extend(preds.cpu().numpy())\n",
    "                preds_labels_dict['labels'].extend(labels.cpu().numpy())\n",
    "\n",
    "                # 20ステップごとに結果を表示\n",
    "                if phase == 'train' and i % 20 == 19:\n",
    "                    total_num = float((i * batch_size) + input_ids.size(0))\n",
    "                    print(f\"{i+1: 4}/{len(dataloaders[phase]): 4}  <{phase}> Loss: {(running_loss/total_num):.4f}  Acc: {(running_corrects/total_num):.4f}  LR -> \", end='')\n",
    "                    for j, params in enumerate(optimizer.param_groups):\n",
    "                        print(f\"Group{j}: {params['lr']:.4e}\", end=' / ')\n",
    "                        if isinstance(optimizer.param_groups[0]['lr'], float):\n",
    "                            history['lr'].append(optimizer.param_groups[0]['lr'])\n",
    "                    print('\\n')\n",
    "\n",
    "            epoch_loss = running_loss / len(dataloaders[phase].dataset)\n",
    "            epoch_acc = running_corrects.double() / len(dataloaders[phase].dataset)\n",
    "            epoch_f1 = f1_score(preds_labels_dict['labels'], preds_labels_dict['preds'], average='weighted')\n",
    "            epoch_precision = precision_score(preds_labels_dict['labels'], preds_labels_dict['preds'], average='weighted')\n",
    "            epoch_recall = recall_score(preds_labels_dict['labels'], preds_labels_dict['preds'], average='weighted')\n",
    "\n",
    "            print(f\"<{phase}> Loss: {epoch_loss:.4f}  Acc: {epoch_acc:.4f}  F1: {epoch_f1:.4f}  Precision: {epoch_precision:.4f}  Recall: {epoch_recall:.4f}\\n\")\n",
    "\n",
    "            history[phase]['loss'].append(epoch_loss)\n",
    "            history[phase]['acc'].append(epoch_acc.item())\n",
    "            history[phase]['f1'].append(epoch_f1)\n",
    "            history[phase]['precision'].append(epoch_precision)\n",
    "            history[phase]['recall'].append(epoch_recall)\n",
    "\n",
    "            if phase == 'val' and epoch_f1 > checkpoint.best_f1:\n",
    "                checkpoint.best_loss = epoch_loss\n",
    "                checkpoint.best_acc = epoch_acc\n",
    "                checkpoint.best_f1 = epoch_f1\n",
    "                checkpoint.best_precision = epoch_precision\n",
    "                checkpoint.best_recall = epoch_recall\n",
    "                checkpoint.best_epoch = epoch + 1\n",
    "                best_model_wts = copy.deepcopy(model.state_dict())\n",
    "\n",
    "        checkpoint.num_epochs = past_epochs + (epoch - start_epoch + 1)  # 実際のトレーニング回数を更新\n",
    "        checkpoint.save_checkpoint(model, optimizer, epoch)\n",
    "        print('-' * 150)\n",
    "    model.load_state_dict(best_model_wts)\n",
    "    torch.cuda.empty_cache()\n",
    "    return model, history\n"
   ]
  },
  {
   "cell_type": "code",
   "execution_count": 10,
   "metadata": {
    "colab": {
     "base_uri": "https://localhost:8080/",
     "height": 1000,
     "referenced_widgets": [
      "e7a98356f97b43d2abc4639b7214375b",
      "aaa4138588a54fc683fbf17cb8715aa1",
      "9df4c4413def4424aeafcd2d805bacb9",
      "2da2d7e462d4413a88afb6c9e3508abb",
      "450a3fd5fdf4464999724cda98d6cfce",
      "6584aba534ef4d94848ed8bc0e5beace",
      "a6703505933349718850c79b0cce2cc8",
      "c451bbec988e4b1d838fb47b0ac5166e",
      "a9ece5ecd93a4cbd9f90477f14964273",
      "23984ac7f79e4240b6d268fe99917475",
      "63026499ca12459e90a3d615decafb54",
      "3647cb0dfe2e48249b291d2f58ff7a81",
      "8ef604f705cb49a08f43acdd731ad166",
      "080e7f840f5b4531b54015addcf51d99",
      "209a7ae70e4d486686e7757c1dd93705",
      "2327cc5c3f154ea4973c79802ebb017c",
      "7266ff13661d456abe26f857212cb873",
      "9423a2422e9b466fae2464da205df750",
      "89713677008249fe8c88de77110126c9",
      "4a7a095dfc3e4a668fd682c5815adfad",
      "b9452c9dab08437bbb3ff083af6582db",
      "7dbb5fc6413545d1895ec06aa8064b38",
      "05ae4845e2e14b07851b839f8ad9a8d9",
      "de83c1bcf76444cbab6f1dec2af8b2d6",
      "964455efbff6444fbceede9c13825327",
      "8f23320d50f147d1a2c8b877470e48f3",
      "ed12ae70f6574412a46a46d615a054e2",
      "3b1e9bf1922a4017b39bcadf3be242db",
      "920dbc16e22c496090c5194040e33594",
      "d9ecd67bea69408992ab3ceb12f6bd81",
      "bbd9c7225b194a5684db5673843c5882",
      "a6a74ebb063b463d84a15da3d9d710bb",
      "a973d31a79c8416f9d89fa6b6b429861"
     ]
    },
    "id": "6LvLxVWg4DOx",
    "outputId": "ebac354d-7f5a-4eda-fcc0-c426b142a5cc"
   },
   "outputs": [
    {
     "data": {
      "application/vnd.jupyter.widget-view+json": {
       "model_id": "e7a98356f97b43d2abc4639b7214375b",
       "version_major": 2,
       "version_minor": 0
      },
      "text/plain": [
       "config.json:   0%|          | 0.00/472 [00:00<?, ?B/s]"
      ]
     },
     "metadata": {},
     "output_type": "display_data"
    },
    {
     "data": {
      "application/vnd.jupyter.widget-view+json": {
       "model_id": "3647cb0dfe2e48249b291d2f58ff7a81",
       "version_major": 2,
       "version_minor": 0
      },
      "text/plain": [
       "pytorch_model.bin:   0%|          | 0.00/447M [00:00<?, ?B/s]"
      ]
     },
     "metadata": {},
     "output_type": "display_data"
    },
    {
     "name": "stdout",
     "output_type": "stream",
     "text": [
      "Starting new training\n",
      "/content/drive/MyDrive/成果物3\n",
      "使用デバイス : cuda\n",
      "【Epoch   1/  2】   LR -> Group0: 1.0000e-05 / Group1: 3.0000e-05 / Group2: 5.0000e-05 / Group3: 5.0000e-04 / Group4: 5.0000e-04 / Group5: 1.0000e-03 / \n"
     ]
    },
    {
     "name": "stderr",
     "output_type": "stream",
     "text": [
      "\r",
      "train Epoch 1:   0%|          | 0/2233 [00:00<?, ?it/s]"
     ]
    },
    {
     "data": {
      "application/vnd.jupyter.widget-view+json": {
       "model_id": "05ae4845e2e14b07851b839f8ad9a8d9",
       "version_major": 2,
       "version_minor": 0
      },
      "text/plain": [
       "model.safetensors:   0%|          | 0.00/447M [00:00<?, ?B/s]"
      ]
     },
     "metadata": {},
     "output_type": "display_data"
    },
    {
     "name": "stderr",
     "output_type": "stream",
     "text": [
      "train Epoch 1:   1%|          | 20/2233 [00:40<1:11:28,  1.94s/it]"
     ]
    },
    {
     "name": "stdout",
     "output_type": "stream",
     "text": [
      "  20/ 2233  <train> Loss: 0.0936  Acc: 0.9156  LR -> Group0: 9.9552e-06 / Group1: 2.9866e-05 / Group2: 4.9776e-05 / Group3: 4.9776e-04 / Group4: 4.9776e-04 / Group5: 9.9552e-04 / \n",
      "\n"
     ]
    },
    {
     "name": "stderr",
     "output_type": "stream",
     "text": [
      "train Epoch 1:   2%|▏         | 40/2233 [01:21<1:17:53,  2.13s/it]"
     ]
    },
    {
     "name": "stdout",
     "output_type": "stream",
     "text": [
      "  40/ 2233  <train> Loss: 0.0565  Acc: 0.9234  LR -> Group0: 9.9104e-06 / Group1: 2.9731e-05 / Group2: 4.9552e-05 / Group3: 4.9552e-04 / Group4: 4.9552e-04 / Group5: 9.9104e-04 / \n",
      "\n"
     ]
    },
    {
     "name": "stderr",
     "output_type": "stream",
     "text": [
      "train Epoch 1:   3%|▎         | 60/2233 [02:03<1:14:10,  2.05s/it]"
     ]
    },
    {
     "name": "stdout",
     "output_type": "stream",
     "text": [
      "  60/ 2233  <train> Loss: 0.0413  Acc: 0.9323  LR -> Group0: 9.8657e-06 / Group1: 2.9597e-05 / Group2: 4.9328e-05 / Group3: 4.9328e-04 / Group4: 4.9328e-04 / Group5: 9.8657e-04 / \n",
      "\n"
     ]
    },
    {
     "name": "stderr",
     "output_type": "stream",
     "text": [
      "train Epoch 1:   4%|▎         | 80/2233 [02:44<1:14:58,  2.09s/it]"
     ]
    },
    {
     "name": "stdout",
     "output_type": "stream",
     "text": [
      "  80/ 2233  <train> Loss: 0.0332  Acc: 0.9375  LR -> Group0: 9.8209e-06 / Group1: 2.9463e-05 / Group2: 4.9104e-05 / Group3: 4.9104e-04 / Group4: 4.9104e-04 / Group5: 9.8209e-04 / \n",
      "\n"
     ]
    },
    {
     "name": "stderr",
     "output_type": "stream",
     "text": [
      "train Epoch 1:   4%|▍         | 100/2233 [03:26<1:13:41,  2.07s/it]"
     ]
    },
    {
     "name": "stdout",
     "output_type": "stream",
     "text": [
      " 100/ 2233  <train> Loss: 0.0282  Acc: 0.9419  LR -> Group0: 9.7761e-06 / Group1: 2.9328e-05 / Group2: 4.8880e-05 / Group3: 4.8880e-04 / Group4: 4.8880e-04 / Group5: 9.7761e-04 / \n",
      "\n"
     ]
    },
    {
     "name": "stderr",
     "output_type": "stream",
     "text": [
      "train Epoch 1:   5%|▌         | 120/2233 [04:07<1:12:57,  2.07s/it]"
     ]
    },
    {
     "name": "stdout",
     "output_type": "stream",
     "text": [
      " 120/ 2233  <train> Loss: 0.0254  Acc: 0.9432  LR -> Group0: 9.7313e-06 / Group1: 2.9194e-05 / Group2: 4.8657e-05 / Group3: 4.8657e-04 / Group4: 4.8657e-04 / Group5: 9.7313e-04 / \n",
      "\n"
     ]
    },
    {
     "name": "stderr",
     "output_type": "stream",
     "text": [
      "train Epoch 1:   6%|▋         | 140/2233 [04:49<1:12:49,  2.09s/it]"
     ]
    },
    {
     "name": "stdout",
     "output_type": "stream",
     "text": [
      " 140/ 2233  <train> Loss: 0.0236  Acc: 0.9420  LR -> Group0: 9.6865e-06 / Group1: 2.9060e-05 / Group2: 4.8433e-05 / Group3: 4.8433e-04 / Group4: 4.8433e-04 / Group5: 9.6865e-04 / \n",
      "\n"
     ]
    },
    {
     "name": "stderr",
     "output_type": "stream",
     "text": [
      "train Epoch 1:   7%|▋         | 160/2233 [05:30<1:11:30,  2.07s/it]"
     ]
    },
    {
     "name": "stdout",
     "output_type": "stream",
     "text": [
      " 160/ 2233  <train> Loss: 0.0230  Acc: 0.9391  LR -> Group0: 9.6417e-06 / Group1: 2.8925e-05 / Group2: 4.8209e-05 / Group3: 4.8209e-04 / Group4: 4.8209e-04 / Group5: 9.6417e-04 / \n",
      "\n"
     ]
    },
    {
     "name": "stderr",
     "output_type": "stream",
     "text": [
      "train Epoch 1:   8%|▊         | 180/2233 [06:12<1:10:57,  2.07s/it]"
     ]
    },
    {
     "name": "stdout",
     "output_type": "stream",
     "text": [
      " 180/ 2233  <train> Loss: 0.0218  Acc: 0.9396  LR -> Group0: 9.5970e-06 / Group1: 2.8791e-05 / Group2: 4.7985e-05 / Group3: 4.7985e-04 / Group4: 4.7985e-04 / Group5: 9.5970e-04 / \n",
      "\n"
     ]
    },
    {
     "name": "stderr",
     "output_type": "stream",
     "text": [
      "train Epoch 1:   9%|▉         | 200/2233 [06:53<1:10:28,  2.08s/it]"
     ]
    },
    {
     "name": "stdout",
     "output_type": "stream",
     "text": [
      " 200/ 2233  <train> Loss: 0.0208  Acc: 0.9403  LR -> Group0: 9.5522e-06 / Group1: 2.8657e-05 / Group2: 4.7761e-05 / Group3: 4.7761e-04 / Group4: 4.7761e-04 / Group5: 9.5522e-04 / \n",
      "\n"
     ]
    },
    {
     "name": "stderr",
     "output_type": "stream",
     "text": [
      "train Epoch 1:  10%|▉         | 220/2233 [07:35<1:09:59,  2.09s/it]"
     ]
    },
    {
     "name": "stdout",
     "output_type": "stream",
     "text": [
      " 220/ 2233  <train> Loss: 0.0201  Acc: 0.9403  LR -> Group0: 9.5074e-06 / Group1: 2.8522e-05 / Group2: 4.7537e-05 / Group3: 4.7537e-04 / Group4: 4.7537e-04 / Group5: 9.5074e-04 / \n",
      "\n"
     ]
    },
    {
     "name": "stderr",
     "output_type": "stream",
     "text": [
      "train Epoch 1:  11%|█         | 240/2233 [08:16<1:08:45,  2.07s/it]"
     ]
    },
    {
     "name": "stdout",
     "output_type": "stream",
     "text": [
      " 240/ 2233  <train> Loss: 0.0194  Acc: 0.9409  LR -> Group0: 9.4626e-06 / Group1: 2.8388e-05 / Group2: 4.7313e-05 / Group3: 4.7313e-04 / Group4: 4.7313e-04 / Group5: 9.4626e-04 / \n",
      "\n"
     ]
    },
    {
     "name": "stderr",
     "output_type": "stream",
     "text": [
      "train Epoch 1:  12%|█▏        | 260/2233 [08:58<1:08:46,  2.09s/it]"
     ]
    },
    {
     "name": "stdout",
     "output_type": "stream",
     "text": [
      " 260/ 2233  <train> Loss: 0.0184  Acc: 0.9428  LR -> Group0: 9.4178e-06 / Group1: 2.8253e-05 / Group2: 4.7089e-05 / Group3: 4.7089e-04 / Group4: 4.7089e-04 / Group5: 9.4178e-04 / \n",
      "\n"
     ]
    },
    {
     "name": "stderr",
     "output_type": "stream",
     "text": [
      "train Epoch 1:  13%|█▎        | 280/2233 [09:40<1:07:28,  2.07s/it]"
     ]
    },
    {
     "name": "stdout",
     "output_type": "stream",
     "text": [
      " 280/ 2233  <train> Loss: 0.0180  Acc: 0.9431  LR -> Group0: 9.3730e-06 / Group1: 2.8119e-05 / Group2: 4.6865e-05 / Group3: 4.6865e-04 / Group4: 4.6865e-04 / Group5: 9.3730e-04 / \n",
      "\n"
     ]
    },
    {
     "name": "stderr",
     "output_type": "stream",
     "text": [
      "train Epoch 1:  13%|█▎        | 300/2233 [10:21<1:07:32,  2.10s/it]"
     ]
    },
    {
     "name": "stdout",
     "output_type": "stream",
     "text": [
      " 300/ 2233  <train> Loss: 0.0174  Acc: 0.9444  LR -> Group0: 9.3283e-06 / Group1: 2.7985e-05 / Group2: 4.6641e-05 / Group3: 4.6641e-04 / Group4: 4.6641e-04 / Group5: 9.3283e-04 / \n",
      "\n"
     ]
    },
    {
     "name": "stderr",
     "output_type": "stream",
     "text": [
      "train Epoch 1:  14%|█▍        | 320/2233 [11:03<1:06:04,  2.07s/it]"
     ]
    },
    {
     "name": "stdout",
     "output_type": "stream",
     "text": [
      " 320/ 2233  <train> Loss: 0.0168  Acc: 0.9455  LR -> Group0: 9.2835e-06 / Group1: 2.7850e-05 / Group2: 4.6417e-05 / Group3: 4.6417e-04 / Group4: 4.6417e-04 / Group5: 9.2835e-04 / \n",
      "\n"
     ]
    },
    {
     "name": "stderr",
     "output_type": "stream",
     "text": [
      "train Epoch 1:  15%|█▌        | 340/2233 [11:44<1:05:43,  2.08s/it]"
     ]
    },
    {
     "name": "stdout",
     "output_type": "stream",
     "text": [
      " 340/ 2233  <train> Loss: 0.0168  Acc: 0.9445  LR -> Group0: 9.2387e-06 / Group1: 2.7716e-05 / Group2: 4.6193e-05 / Group3: 4.6193e-04 / Group4: 4.6193e-04 / Group5: 9.2387e-04 / \n",
      "\n"
     ]
    },
    {
     "name": "stderr",
     "output_type": "stream",
     "text": [
      "train Epoch 1:  16%|█▌        | 360/2233 [12:26<1:04:32,  2.07s/it]"
     ]
    },
    {
     "name": "stdout",
     "output_type": "stream",
     "text": [
      " 360/ 2233  <train> Loss: 0.0164  Acc: 0.9451  LR -> Group0: 9.1939e-06 / Group1: 2.7582e-05 / Group2: 4.5970e-05 / Group3: 4.5970e-04 / Group4: 4.5970e-04 / Group5: 9.1939e-04 / \n",
      "\n"
     ]
    },
    {
     "name": "stderr",
     "output_type": "stream",
     "text": [
      "train Epoch 1:  17%|█▋        | 380/2233 [13:08<1:05:09,  2.11s/it]"
     ]
    },
    {
     "name": "stdout",
     "output_type": "stream",
     "text": [
      " 380/ 2233  <train> Loss: 0.0160  Acc: 0.9457  LR -> Group0: 9.1491e-06 / Group1: 2.7447e-05 / Group2: 4.5746e-05 / Group3: 4.5746e-04 / Group4: 4.5746e-04 / Group5: 9.1491e-04 / \n",
      "\n"
     ]
    },
    {
     "name": "stderr",
     "output_type": "stream",
     "text": [
      "train Epoch 1:  18%|█▊        | 400/2233 [13:49<1:03:14,  2.07s/it]"
     ]
    },
    {
     "name": "stdout",
     "output_type": "stream",
     "text": [
      " 400/ 2233  <train> Loss: 0.0155  Acc: 0.9469  LR -> Group0: 9.1043e-06 / Group1: 2.7313e-05 / Group2: 4.5522e-05 / Group3: 4.5522e-04 / Group4: 4.5522e-04 / Group5: 9.1043e-04 / \n",
      "\n"
     ]
    },
    {
     "name": "stderr",
     "output_type": "stream",
     "text": [
      "train Epoch 1:  19%|█▉        | 420/2233 [14:31<1:02:51,  2.08s/it]"
     ]
    },
    {
     "name": "stdout",
     "output_type": "stream",
     "text": [
      " 420/ 2233  <train> Loss: 0.0151  Acc: 0.9479  LR -> Group0: 9.0596e-06 / Group1: 2.7179e-05 / Group2: 4.5298e-05 / Group3: 4.5298e-04 / Group4: 4.5298e-04 / Group5: 9.0596e-04 / \n",
      "\n"
     ]
    },
    {
     "name": "stderr",
     "output_type": "stream",
     "text": [
      "train Epoch 1:  20%|█▉        | 440/2233 [15:13<1:02:19,  2.09s/it]"
     ]
    },
    {
     "name": "stdout",
     "output_type": "stream",
     "text": [
      " 440/ 2233  <train> Loss: 0.0149  Acc: 0.9480  LR -> Group0: 9.0148e-06 / Group1: 2.7044e-05 / Group2: 4.5074e-05 / Group3: 4.5074e-04 / Group4: 4.5074e-04 / Group5: 9.0148e-04 / \n",
      "\n"
     ]
    },
    {
     "name": "stderr",
     "output_type": "stream",
     "text": [
      "train Epoch 1:  21%|██        | 460/2233 [15:54<1:01:17,  2.07s/it]"
     ]
    },
    {
     "name": "stdout",
     "output_type": "stream",
     "text": [
      " 460/ 2233  <train> Loss: 0.0147  Acc: 0.9481  LR -> Group0: 8.9700e-06 / Group1: 2.6910e-05 / Group2: 4.4850e-05 / Group3: 4.4850e-04 / Group4: 4.4850e-04 / Group5: 8.9700e-04 / \n",
      "\n"
     ]
    },
    {
     "name": "stderr",
     "output_type": "stream",
     "text": [
      "train Epoch 1:  21%|██▏       | 480/2233 [16:36<1:00:56,  2.09s/it]"
     ]
    },
    {
     "name": "stdout",
     "output_type": "stream",
     "text": [
      " 480/ 2233  <train> Loss: 0.0145  Acc: 0.9480  LR -> Group0: 8.9252e-06 / Group1: 2.6776e-05 / Group2: 4.4626e-05 / Group3: 4.4626e-04 / Group4: 4.4626e-04 / Group5: 8.9252e-04 / \n",
      "\n"
     ]
    },
    {
     "name": "stderr",
     "output_type": "stream",
     "text": [
      "train Epoch 1:  22%|██▏       | 500/2233 [17:17<1:00:03,  2.08s/it]"
     ]
    },
    {
     "name": "stdout",
     "output_type": "stream",
     "text": [
      " 500/ 2233  <train> Loss: 0.0142  Acc: 0.9489  LR -> Group0: 8.8804e-06 / Group1: 2.6641e-05 / Group2: 4.4402e-05 / Group3: 4.4402e-04 / Group4: 4.4402e-04 / Group5: 8.8804e-04 / \n",
      "\n"
     ]
    },
    {
     "name": "stderr",
     "output_type": "stream",
     "text": [
      "train Epoch 1:  23%|██▎       | 520/2233 [17:59<59:30,  2.08s/it]"
     ]
    },
    {
     "name": "stdout",
     "output_type": "stream",
     "text": [
      " 520/ 2233  <train> Loss: 0.0139  Acc: 0.9493  LR -> Group0: 8.8356e-06 / Group1: 2.6507e-05 / Group2: 4.4178e-05 / Group3: 4.4178e-04 / Group4: 4.4178e-04 / Group5: 8.8356e-04 / \n",
      "\n"
     ]
    },
    {
     "name": "stderr",
     "output_type": "stream",
     "text": [
      "train Epoch 1:  24%|██▍       | 540/2233 [18:40<58:40,  2.08s/it]"
     ]
    },
    {
     "name": "stdout",
     "output_type": "stream",
     "text": [
      " 540/ 2233  <train> Loss: 0.0137  Acc: 0.9500  LR -> Group0: 8.7909e-06 / Group1: 2.6373e-05 / Group2: 4.3954e-05 / Group3: 4.3954e-04 / Group4: 4.3954e-04 / Group5: 8.7909e-04 / \n",
      "\n"
     ]
    },
    {
     "name": "stderr",
     "output_type": "stream",
     "text": [
      "train Epoch 1:  25%|██▌       | 560/2233 [19:22<57:53,  2.08s/it]"
     ]
    },
    {
     "name": "stdout",
     "output_type": "stream",
     "text": [
      " 560/ 2233  <train> Loss: 0.0136  Acc: 0.9500  LR -> Group0: 8.7461e-06 / Group1: 2.6238e-05 / Group2: 4.3730e-05 / Group3: 4.3730e-04 / Group4: 4.3730e-04 / Group5: 8.7461e-04 / \n",
      "\n"
     ]
    },
    {
     "name": "stderr",
     "output_type": "stream",
     "text": [
      "train Epoch 1:  26%|██▌       | 580/2233 [20:03<57:07,  2.07s/it]"
     ]
    },
    {
     "name": "stdout",
     "output_type": "stream",
     "text": [
      " 580/ 2233  <train> Loss: 0.0135  Acc: 0.9497  LR -> Group0: 8.7013e-06 / Group1: 2.6104e-05 / Group2: 4.3506e-05 / Group3: 4.3506e-04 / Group4: 4.3506e-04 / Group5: 8.7013e-04 / \n",
      "\n"
     ]
    },
    {
     "name": "stderr",
     "output_type": "stream",
     "text": [
      "train Epoch 1:  27%|██▋       | 600/2233 [20:45<56:41,  2.08s/it]"
     ]
    },
    {
     "name": "stdout",
     "output_type": "stream",
     "text": [
      " 600/ 2233  <train> Loss: 0.0135  Acc: 0.9493  LR -> Group0: 8.6565e-06 / Group1: 2.5970e-05 / Group2: 4.3283e-05 / Group3: 4.3283e-04 / Group4: 4.3283e-04 / Group5: 8.6565e-04 / \n",
      "\n"
     ]
    },
    {
     "name": "stderr",
     "output_type": "stream",
     "text": [
      "train Epoch 1:  28%|██▊       | 620/2233 [21:27<55:46,  2.07s/it]"
     ]
    },
    {
     "name": "stdout",
     "output_type": "stream",
     "text": [
      " 620/ 2233  <train> Loss: 0.0134  Acc: 0.9492  LR -> Group0: 8.6117e-06 / Group1: 2.5835e-05 / Group2: 4.3059e-05 / Group3: 4.3059e-04 / Group4: 4.3059e-04 / Group5: 8.6117e-04 / \n",
      "\n"
     ]
    },
    {
     "name": "stderr",
     "output_type": "stream",
     "text": [
      "train Epoch 1:  29%|██▊       | 640/2233 [22:08<54:55,  2.07s/it]"
     ]
    },
    {
     "name": "stdout",
     "output_type": "stream",
     "text": [
      " 640/ 2233  <train> Loss: 0.0133  Acc: 0.9491  LR -> Group0: 8.5670e-06 / Group1: 2.5701e-05 / Group2: 4.2835e-05 / Group3: 4.2835e-04 / Group4: 4.2835e-04 / Group5: 8.5670e-04 / \n",
      "\n"
     ]
    },
    {
     "name": "stderr",
     "output_type": "stream",
     "text": [
      "train Epoch 1:  30%|██▉       | 660/2233 [22:49<54:25,  2.08s/it]"
     ]
    },
    {
     "name": "stdout",
     "output_type": "stream",
     "text": [
      " 660/ 2233  <train> Loss: 0.0133  Acc: 0.9490  LR -> Group0: 8.5222e-06 / Group1: 2.5567e-05 / Group2: 4.2611e-05 / Group3: 4.2611e-04 / Group4: 4.2611e-04 / Group5: 8.5222e-04 / \n",
      "\n"
     ]
    },
    {
     "name": "stderr",
     "output_type": "stream",
     "text": [
      "train Epoch 1:  30%|███       | 680/2233 [23:31<54:08,  2.09s/it]"
     ]
    },
    {
     "name": "stdout",
     "output_type": "stream",
     "text": [
      " 680/ 2233  <train> Loss: 0.0131  Acc: 0.9495  LR -> Group0: 8.4774e-06 / Group1: 2.5432e-05 / Group2: 4.2387e-05 / Group3: 4.2387e-04 / Group4: 4.2387e-04 / Group5: 8.4774e-04 / \n",
      "\n"
     ]
    },
    {
     "name": "stderr",
     "output_type": "stream",
     "text": [
      "train Epoch 1:  31%|███▏      | 700/2233 [24:13<52:47,  2.07s/it]"
     ]
    },
    {
     "name": "stdout",
     "output_type": "stream",
     "text": [
      " 700/ 2233  <train> Loss: 0.0130  Acc: 0.9497  LR -> Group0: 8.4326e-06 / Group1: 2.5298e-05 / Group2: 4.2163e-05 / Group3: 4.2163e-04 / Group4: 4.2163e-04 / Group5: 8.4326e-04 / \n",
      "\n"
     ]
    },
    {
     "name": "stderr",
     "output_type": "stream",
     "text": [
      "train Epoch 1:  32%|███▏      | 720/2233 [24:54<52:21,  2.08s/it]"
     ]
    },
    {
     "name": "stdout",
     "output_type": "stream",
     "text": [
      " 720/ 2233  <train> Loss: 0.0129  Acc: 0.9501  LR -> Group0: 8.3878e-06 / Group1: 2.5163e-05 / Group2: 4.1939e-05 / Group3: 4.1939e-04 / Group4: 4.1939e-04 / Group5: 8.3878e-04 / \n",
      "\n"
     ]
    },
    {
     "name": "stderr",
     "output_type": "stream",
     "text": [
      "train Epoch 1:  33%|███▎      | 740/2233 [25:36<51:52,  2.08s/it]"
     ]
    },
    {
     "name": "stdout",
     "output_type": "stream",
     "text": [
      " 740/ 2233  <train> Loss: 0.0127  Acc: 0.9506  LR -> Group0: 8.3430e-06 / Group1: 2.5029e-05 / Group2: 4.1715e-05 / Group3: 4.1715e-04 / Group4: 4.1715e-04 / Group5: 8.3430e-04 / \n",
      "\n"
     ]
    },
    {
     "name": "stderr",
     "output_type": "stream",
     "text": [
      "train Epoch 1:  34%|███▍      | 760/2233 [26:17<50:37,  2.06s/it]"
     ]
    },
    {
     "name": "stdout",
     "output_type": "stream",
     "text": [
      " 760/ 2233  <train> Loss: 0.0126  Acc: 0.9507  LR -> Group0: 8.2983e-06 / Group1: 2.4895e-05 / Group2: 4.1491e-05 / Group3: 4.1491e-04 / Group4: 4.1491e-04 / Group5: 8.2983e-04 / \n",
      "\n"
     ]
    },
    {
     "name": "stderr",
     "output_type": "stream",
     "text": [
      "train Epoch 1:  35%|███▍      | 780/2233 [26:59<50:37,  2.09s/it]"
     ]
    },
    {
     "name": "stdout",
     "output_type": "stream",
     "text": [
      " 780/ 2233  <train> Loss: 0.0124  Acc: 0.9513  LR -> Group0: 8.2535e-06 / Group1: 2.4760e-05 / Group2: 4.1267e-05 / Group3: 4.1267e-04 / Group4: 4.1267e-04 / Group5: 8.2535e-04 / \n",
      "\n"
     ]
    },
    {
     "name": "stderr",
     "output_type": "stream",
     "text": [
      "train Epoch 1:  36%|███▌      | 800/2233 [27:40<49:16,  2.06s/it]"
     ]
    },
    {
     "name": "stdout",
     "output_type": "stream",
     "text": [
      " 800/ 2233  <train> Loss: 0.0123  Acc: 0.9516  LR -> Group0: 8.2087e-06 / Group1: 2.4626e-05 / Group2: 4.1043e-05 / Group3: 4.1043e-04 / Group4: 4.1043e-04 / Group5: 8.2087e-04 / \n",
      "\n"
     ]
    },
    {
     "name": "stderr",
     "output_type": "stream",
     "text": [
      "train Epoch 1:  37%|███▋      | 820/2233 [28:22<49:07,  2.09s/it]"
     ]
    },
    {
     "name": "stdout",
     "output_type": "stream",
     "text": [
      " 820/ 2233  <train> Loss: 0.0124  Acc: 0.9513  LR -> Group0: 8.1639e-06 / Group1: 2.4492e-05 / Group2: 4.0820e-05 / Group3: 4.0820e-04 / Group4: 4.0820e-04 / Group5: 8.1639e-04 / \n",
      "\n"
     ]
    },
    {
     "name": "stderr",
     "output_type": "stream",
     "text": [
      "train Epoch 1:  38%|███▊      | 840/2233 [29:04<48:30,  2.09s/it]"
     ]
    },
    {
     "name": "stdout",
     "output_type": "stream",
     "text": [
      " 840/ 2233  <train> Loss: 0.0124  Acc: 0.9509  LR -> Group0: 8.1191e-06 / Group1: 2.4357e-05 / Group2: 4.0596e-05 / Group3: 4.0596e-04 / Group4: 4.0596e-04 / Group5: 8.1191e-04 / \n",
      "\n"
     ]
    },
    {
     "name": "stderr",
     "output_type": "stream",
     "text": [
      "train Epoch 1:  39%|███▊      | 860/2233 [29:45<47:24,  2.07s/it]"
     ]
    },
    {
     "name": "stdout",
     "output_type": "stream",
     "text": [
      " 860/ 2233  <train> Loss: 0.0122  Acc: 0.9515  LR -> Group0: 8.0743e-06 / Group1: 2.4223e-05 / Group2: 4.0372e-05 / Group3: 4.0372e-04 / Group4: 4.0372e-04 / Group5: 8.0743e-04 / \n",
      "\n"
     ]
    },
    {
     "name": "stderr",
     "output_type": "stream",
     "text": [
      "train Epoch 1:  39%|███▉      | 880/2233 [30:27<47:00,  2.08s/it]"
     ]
    },
    {
     "name": "stdout",
     "output_type": "stream",
     "text": [
      " 880/ 2233  <train> Loss: 0.0121  Acc: 0.9516  LR -> Group0: 8.0296e-06 / Group1: 2.4089e-05 / Group2: 4.0148e-05 / Group3: 4.0148e-04 / Group4: 4.0148e-04 / Group5: 8.0296e-04 / \n",
      "\n"
     ]
    },
    {
     "name": "stderr",
     "output_type": "stream",
     "text": [
      "train Epoch 1:  40%|████      | 900/2233 [31:08<46:21,  2.09s/it]"
     ]
    },
    {
     "name": "stdout",
     "output_type": "stream",
     "text": [
      " 900/ 2233  <train> Loss: 0.0120  Acc: 0.9513  LR -> Group0: 7.9848e-06 / Group1: 2.3954e-05 / Group2: 3.9924e-05 / Group3: 3.9924e-04 / Group4: 3.9924e-04 / Group5: 7.9848e-04 / \n",
      "\n"
     ]
    },
    {
     "name": "stderr",
     "output_type": "stream",
     "text": [
      "train Epoch 1:  41%|████      | 920/2233 [31:50<45:16,  2.07s/it]"
     ]
    },
    {
     "name": "stdout",
     "output_type": "stream",
     "text": [
      " 920/ 2233  <train> Loss: 0.0120  Acc: 0.9514  LR -> Group0: 7.9400e-06 / Group1: 2.3820e-05 / Group2: 3.9700e-05 / Group3: 3.9700e-04 / Group4: 3.9700e-04 / Group5: 7.9400e-04 / \n",
      "\n"
     ]
    },
    {
     "name": "stderr",
     "output_type": "stream",
     "text": [
      "train Epoch 1:  42%|████▏     | 940/2233 [32:31<45:15,  2.10s/it]"
     ]
    },
    {
     "name": "stdout",
     "output_type": "stream",
     "text": [
      " 940/ 2233  <train> Loss: 0.0120  Acc: 0.9511  LR -> Group0: 7.8952e-06 / Group1: 2.3686e-05 / Group2: 3.9476e-05 / Group3: 3.9476e-04 / Group4: 3.9476e-04 / Group5: 7.8952e-04 / \n",
      "\n"
     ]
    },
    {
     "name": "stderr",
     "output_type": "stream",
     "text": [
      "train Epoch 1:  43%|████▎     | 960/2233 [33:13<43:43,  2.06s/it]"
     ]
    },
    {
     "name": "stdout",
     "output_type": "stream",
     "text": [
      " 960/ 2233  <train> Loss: 0.0119  Acc: 0.9516  LR -> Group0: 7.8504e-06 / Group1: 2.3551e-05 / Group2: 3.9252e-05 / Group3: 3.9252e-04 / Group4: 3.9252e-04 / Group5: 7.8504e-04 / \n",
      "\n"
     ]
    },
    {
     "name": "stderr",
     "output_type": "stream",
     "text": [
      "train Epoch 1:  44%|████▍     | 980/2233 [33:55<43:44,  2.09s/it]"
     ]
    },
    {
     "name": "stdout",
     "output_type": "stream",
     "text": [
      " 980/ 2233  <train> Loss: 0.0118  Acc: 0.9517  LR -> Group0: 7.8056e-06 / Group1: 2.3417e-05 / Group2: 3.9028e-05 / Group3: 3.9028e-04 / Group4: 3.9028e-04 / Group5: 7.8056e-04 / \n",
      "\n"
     ]
    },
    {
     "name": "stderr",
     "output_type": "stream",
     "text": [
      "train Epoch 1:  45%|████▍     | 1000/2233 [34:36<42:30,  2.07s/it]"
     ]
    },
    {
     "name": "stdout",
     "output_type": "stream",
     "text": [
      " 1000/ 2233  <train> Loss: 0.0118  Acc: 0.9513  LR -> Group0: 7.7609e-06 / Group1: 2.3283e-05 / Group2: 3.8804e-05 / Group3: 3.8804e-04 / Group4: 3.8804e-04 / Group5: 7.7609e-04 / \n",
      "\n"
     ]
    },
    {
     "name": "stderr",
     "output_type": "stream",
     "text": [
      "train Epoch 1:  46%|████▌     | 1020/2233 [35:18<41:59,  2.08s/it]"
     ]
    },
    {
     "name": "stdout",
     "output_type": "stream",
     "text": [
      " 1020/ 2233  <train> Loss: 0.0117  Acc: 0.9514  LR -> Group0: 7.7161e-06 / Group1: 2.3148e-05 / Group2: 3.8580e-05 / Group3: 3.8580e-04 / Group4: 3.8580e-04 / Group5: 7.7161e-04 / \n",
      "\n"
     ]
    },
    {
     "name": "stderr",
     "output_type": "stream",
     "text": [
      "train Epoch 1:  47%|████▋     | 1040/2233 [35:59<41:28,  2.09s/it]"
     ]
    },
    {
     "name": "stdout",
     "output_type": "stream",
     "text": [
      " 1040/ 2233  <train> Loss: 0.0117  Acc: 0.9515  LR -> Group0: 7.6713e-06 / Group1: 2.3014e-05 / Group2: 3.8356e-05 / Group3: 3.8356e-04 / Group4: 3.8356e-04 / Group5: 7.6713e-04 / \n",
      "\n"
     ]
    },
    {
     "name": "stderr",
     "output_type": "stream",
     "text": [
      "train Epoch 1:  47%|████▋     | 1060/2233 [36:41<40:43,  2.08s/it]"
     ]
    },
    {
     "name": "stdout",
     "output_type": "stream",
     "text": [
      " 1060/ 2233  <train> Loss: 0.0117  Acc: 0.9514  LR -> Group0: 7.6265e-06 / Group1: 2.2880e-05 / Group2: 3.8133e-05 / Group3: 3.8133e-04 / Group4: 3.8133e-04 / Group5: 7.6265e-04 / \n",
      "\n"
     ]
    },
    {
     "name": "stderr",
     "output_type": "stream",
     "text": [
      "train Epoch 1:  48%|████▊     | 1080/2233 [37:23<39:50,  2.07s/it]"
     ]
    },
    {
     "name": "stdout",
     "output_type": "stream",
     "text": [
      " 1080/ 2233  <train> Loss: 0.0116  Acc: 0.9516  LR -> Group0: 7.5817e-06 / Group1: 2.2745e-05 / Group2: 3.7909e-05 / Group3: 3.7909e-04 / Group4: 3.7909e-04 / Group5: 7.5817e-04 / \n",
      "\n"
     ]
    },
    {
     "name": "stderr",
     "output_type": "stream",
     "text": [
      "train Epoch 1:  49%|████▉     | 1100/2233 [38:04<39:17,  2.08s/it]"
     ]
    },
    {
     "name": "stdout",
     "output_type": "stream",
     "text": [
      " 1100/ 2233  <train> Loss: 0.0116  Acc: 0.9515  LR -> Group0: 7.5369e-06 / Group1: 2.2611e-05 / Group2: 3.7685e-05 / Group3: 3.7685e-04 / Group4: 3.7685e-04 / Group5: 7.5369e-04 / \n",
      "\n"
     ]
    },
    {
     "name": "stderr",
     "output_type": "stream",
     "text": [
      "train Epoch 1:  50%|█████     | 1120/2233 [38:46<38:39,  2.08s/it]"
     ]
    },
    {
     "name": "stdout",
     "output_type": "stream",
     "text": [
      " 1120/ 2233  <train> Loss: 0.0115  Acc: 0.9515  LR -> Group0: 7.4922e-06 / Group1: 2.2476e-05 / Group2: 3.7461e-05 / Group3: 3.7461e-04 / Group4: 3.7461e-04 / Group5: 7.4922e-04 / \n",
      "\n"
     ]
    },
    {
     "name": "stderr",
     "output_type": "stream",
     "text": [
      "train Epoch 1:  51%|█████     | 1140/2233 [39:27<37:55,  2.08s/it]"
     ]
    },
    {
     "name": "stdout",
     "output_type": "stream",
     "text": [
      " 1140/ 2233  <train> Loss: 0.0115  Acc: 0.9515  LR -> Group0: 7.4474e-06 / Group1: 2.2342e-05 / Group2: 3.7237e-05 / Group3: 3.7237e-04 / Group4: 3.7237e-04 / Group5: 7.4474e-04 / \n",
      "\n"
     ]
    },
    {
     "name": "stderr",
     "output_type": "stream",
     "text": [
      "train Epoch 1:  52%|█████▏    | 1160/2233 [40:09<37:11,  2.08s/it]"
     ]
    },
    {
     "name": "stdout",
     "output_type": "stream",
     "text": [
      " 1160/ 2233  <train> Loss: 0.0114  Acc: 0.9516  LR -> Group0: 7.4026e-06 / Group1: 2.2208e-05 / Group2: 3.7013e-05 / Group3: 3.7013e-04 / Group4: 3.7013e-04 / Group5: 7.4026e-04 / \n",
      "\n"
     ]
    },
    {
     "name": "stderr",
     "output_type": "stream",
     "text": [
      "train Epoch 1:  53%|█████▎    | 1180/2233 [40:50<36:34,  2.08s/it]"
     ]
    },
    {
     "name": "stdout",
     "output_type": "stream",
     "text": [
      " 1180/ 2233  <train> Loss: 0.0114  Acc: 0.9515  LR -> Group0: 7.3578e-06 / Group1: 2.2073e-05 / Group2: 3.6789e-05 / Group3: 3.6789e-04 / Group4: 3.6789e-04 / Group5: 7.3578e-04 / \n",
      "\n"
     ]
    },
    {
     "name": "stderr",
     "output_type": "stream",
     "text": [
      "train Epoch 1:  54%|█████▎    | 1200/2233 [41:32<35:52,  2.08s/it]"
     ]
    },
    {
     "name": "stdout",
     "output_type": "stream",
     "text": [
      " 1200/ 2233  <train> Loss: 0.0115  Acc: 0.9513  LR -> Group0: 7.3130e-06 / Group1: 2.1939e-05 / Group2: 3.6565e-05 / Group3: 3.6565e-04 / Group4: 3.6565e-04 / Group5: 7.3130e-04 / \n",
      "\n"
     ]
    },
    {
     "name": "stderr",
     "output_type": "stream",
     "text": [
      "train Epoch 1:  55%|█████▍    | 1220/2233 [42:13<35:01,  2.07s/it]"
     ]
    },
    {
     "name": "stdout",
     "output_type": "stream",
     "text": [
      " 1220/ 2233  <train> Loss: 0.0115  Acc: 0.9513  LR -> Group0: 7.2682e-06 / Group1: 2.1805e-05 / Group2: 3.6341e-05 / Group3: 3.6341e-04 / Group4: 3.6341e-04 / Group5: 7.2682e-04 / \n",
      "\n"
     ]
    },
    {
     "name": "stderr",
     "output_type": "stream",
     "text": [
      "train Epoch 1:  56%|█████▌    | 1240/2233 [42:55<34:28,  2.08s/it]"
     ]
    },
    {
     "name": "stdout",
     "output_type": "stream",
     "text": [
      " 1240/ 2233  <train> Loss: 0.0114  Acc: 0.9513  LR -> Group0: 7.2235e-06 / Group1: 2.1670e-05 / Group2: 3.6117e-05 / Group3: 3.6117e-04 / Group4: 3.6117e-04 / Group5: 7.2235e-04 / \n",
      "\n"
     ]
    },
    {
     "name": "stderr",
     "output_type": "stream",
     "text": [
      "train Epoch 1:  56%|█████▋    | 1260/2233 [43:37<33:48,  2.08s/it]"
     ]
    },
    {
     "name": "stdout",
     "output_type": "stream",
     "text": [
      " 1260/ 2233  <train> Loss: 0.0114  Acc: 0.9514  LR -> Group0: 7.1787e-06 / Group1: 2.1536e-05 / Group2: 3.5893e-05 / Group3: 3.5893e-04 / Group4: 3.5893e-04 / Group5: 7.1787e-04 / \n",
      "\n"
     ]
    },
    {
     "name": "stderr",
     "output_type": "stream",
     "text": [
      "train Epoch 1:  57%|█████▋    | 1280/2233 [44:18<32:55,  2.07s/it]"
     ]
    },
    {
     "name": "stdout",
     "output_type": "stream",
     "text": [
      " 1280/ 2233  <train> Loss: 0.0114  Acc: 0.9515  LR -> Group0: 7.1339e-06 / Group1: 2.1402e-05 / Group2: 3.5670e-05 / Group3: 3.5670e-04 / Group4: 3.5670e-04 / Group5: 7.1339e-04 / \n",
      "\n"
     ]
    },
    {
     "name": "stderr",
     "output_type": "stream",
     "text": [
      "train Epoch 1:  58%|█████▊    | 1300/2233 [45:00<32:19,  2.08s/it]"
     ]
    },
    {
     "name": "stdout",
     "output_type": "stream",
     "text": [
      " 1300/ 2233  <train> Loss: 0.0114  Acc: 0.9513  LR -> Group0: 7.0891e-06 / Group1: 2.1267e-05 / Group2: 3.5446e-05 / Group3: 3.5446e-04 / Group4: 3.5446e-04 / Group5: 7.0891e-04 / \n",
      "\n"
     ]
    },
    {
     "name": "stderr",
     "output_type": "stream",
     "text": [
      "train Epoch 1:  59%|█████▉    | 1320/2233 [45:41<31:44,  2.09s/it]"
     ]
    },
    {
     "name": "stdout",
     "output_type": "stream",
     "text": [
      " 1320/ 2233  <train> Loss: 0.0113  Acc: 0.9513  LR -> Group0: 7.0443e-06 / Group1: 2.1133e-05 / Group2: 3.5222e-05 / Group3: 3.5222e-04 / Group4: 3.5222e-04 / Group5: 7.0443e-04 / \n",
      "\n"
     ]
    },
    {
     "name": "stderr",
     "output_type": "stream",
     "text": [
      "train Epoch 1:  60%|██████    | 1340/2233 [46:23<30:48,  2.07s/it]"
     ]
    },
    {
     "name": "stdout",
     "output_type": "stream",
     "text": [
      " 1340/ 2233  <train> Loss: 0.0114  Acc: 0.9509  LR -> Group0: 6.9996e-06 / Group1: 2.0999e-05 / Group2: 3.4998e-05 / Group3: 3.4998e-04 / Group4: 3.4998e-04 / Group5: 6.9996e-04 / \n",
      "\n"
     ]
    },
    {
     "name": "stderr",
     "output_type": "stream",
     "text": [
      "train Epoch 1:  61%|██████    | 1360/2233 [47:04<30:17,  2.08s/it]"
     ]
    },
    {
     "name": "stdout",
     "output_type": "stream",
     "text": [
      " 1360/ 2233  <train> Loss: 0.0114  Acc: 0.9505  LR -> Group0: 6.9548e-06 / Group1: 2.0864e-05 / Group2: 3.4774e-05 / Group3: 3.4774e-04 / Group4: 3.4774e-04 / Group5: 6.9548e-04 / \n",
      "\n"
     ]
    },
    {
     "name": "stderr",
     "output_type": "stream",
     "text": [
      "train Epoch 1:  62%|██████▏   | 1380/2233 [47:46<29:37,  2.08s/it]"
     ]
    },
    {
     "name": "stdout",
     "output_type": "stream",
     "text": [
      " 1380/ 2233  <train> Loss: 0.0113  Acc: 0.9507  LR -> Group0: 6.9100e-06 / Group1: 2.0730e-05 / Group2: 3.4550e-05 / Group3: 3.4550e-04 / Group4: 3.4550e-04 / Group5: 6.9100e-04 / \n",
      "\n"
     ]
    },
    {
     "name": "stderr",
     "output_type": "stream",
     "text": [
      "train Epoch 1:  63%|██████▎   | 1400/2233 [48:28<28:52,  2.08s/it]"
     ]
    },
    {
     "name": "stdout",
     "output_type": "stream",
     "text": [
      " 1400/ 2233  <train> Loss: 0.0113  Acc: 0.9507  LR -> Group0: 6.8652e-06 / Group1: 2.0596e-05 / Group2: 3.4326e-05 / Group3: 3.4326e-04 / Group4: 3.4326e-04 / Group5: 6.8652e-04 / \n",
      "\n"
     ]
    },
    {
     "name": "stderr",
     "output_type": "stream",
     "text": [
      "train Epoch 1:  64%|██████▎   | 1420/2233 [49:09<28:12,  2.08s/it]"
     ]
    },
    {
     "name": "stdout",
     "output_type": "stream",
     "text": [
      " 1420/ 2233  <train> Loss: 0.0113  Acc: 0.9504  LR -> Group0: 6.8204e-06 / Group1: 2.0461e-05 / Group2: 3.4102e-05 / Group3: 3.4102e-04 / Group4: 3.4102e-04 / Group5: 6.8204e-04 / \n",
      "\n"
     ]
    },
    {
     "name": "stderr",
     "output_type": "stream",
     "text": [
      "train Epoch 1:  64%|██████▍   | 1440/2233 [49:51<27:28,  2.08s/it]"
     ]
    },
    {
     "name": "stdout",
     "output_type": "stream",
     "text": [
      " 1440/ 2233  <train> Loss: 0.0113  Acc: 0.9502  LR -> Group0: 6.7756e-06 / Group1: 2.0327e-05 / Group2: 3.3878e-05 / Group3: 3.3878e-04 / Group4: 3.3878e-04 / Group5: 6.7756e-04 / \n",
      "\n"
     ]
    },
    {
     "name": "stderr",
     "output_type": "stream",
     "text": [
      "train Epoch 1:  65%|██████▌   | 1460/2233 [50:32<26:43,  2.07s/it]"
     ]
    },
    {
     "name": "stdout",
     "output_type": "stream",
     "text": [
      " 1460/ 2233  <train> Loss: 0.0114  Acc: 0.9501  LR -> Group0: 6.7309e-06 / Group1: 2.0193e-05 / Group2: 3.3654e-05 / Group3: 3.3654e-04 / Group4: 3.3654e-04 / Group5: 6.7309e-04 / \n",
      "\n"
     ]
    },
    {
     "name": "stderr",
     "output_type": "stream",
     "text": [
      "train Epoch 1:  66%|██████▋   | 1480/2233 [51:14<26:19,  2.10s/it]"
     ]
    },
    {
     "name": "stdout",
     "output_type": "stream",
     "text": [
      " 1480/ 2233  <train> Loss: 0.0113  Acc: 0.9502  LR -> Group0: 6.6861e-06 / Group1: 2.0058e-05 / Group2: 3.3430e-05 / Group3: 3.3430e-04 / Group4: 3.3430e-04 / Group5: 6.6861e-04 / \n",
      "\n"
     ]
    },
    {
     "name": "stderr",
     "output_type": "stream",
     "text": [
      "train Epoch 1:  67%|██████▋   | 1500/2233 [51:56<25:20,  2.07s/it]"
     ]
    },
    {
     "name": "stdout",
     "output_type": "stream",
     "text": [
      " 1500/ 2233  <train> Loss: 0.0113  Acc: 0.9503  LR -> Group0: 6.6413e-06 / Group1: 1.9924e-05 / Group2: 3.3206e-05 / Group3: 3.3206e-04 / Group4: 3.3206e-04 / Group5: 6.6413e-04 / \n",
      "\n"
     ]
    },
    {
     "name": "stderr",
     "output_type": "stream",
     "text": [
      "train Epoch 1:  68%|██████▊   | 1520/2233 [52:37<24:42,  2.08s/it]"
     ]
    },
    {
     "name": "stdout",
     "output_type": "stream",
     "text": [
      " 1520/ 2233  <train> Loss: 0.0112  Acc: 0.9503  LR -> Group0: 6.5965e-06 / Group1: 1.9790e-05 / Group2: 3.2983e-05 / Group3: 3.2983e-04 / Group4: 3.2983e-04 / Group5: 6.5965e-04 / \n",
      "\n"
     ]
    },
    {
     "name": "stderr",
     "output_type": "stream",
     "text": [
      "train Epoch 1:  69%|██████▉   | 1540/2233 [53:19<24:02,  2.08s/it]"
     ]
    },
    {
     "name": "stdout",
     "output_type": "stream",
     "text": [
      " 1540/ 2233  <train> Loss: 0.0112  Acc: 0.9504  LR -> Group0: 6.5517e-06 / Group1: 1.9655e-05 / Group2: 3.2759e-05 / Group3: 3.2759e-04 / Group4: 3.2759e-04 / Group5: 6.5517e-04 / \n",
      "\n"
     ]
    },
    {
     "name": "stderr",
     "output_type": "stream",
     "text": [
      "train Epoch 1:  70%|██████▉   | 1560/2233 [54:00<23:14,  2.07s/it]"
     ]
    },
    {
     "name": "stdout",
     "output_type": "stream",
     "text": [
      " 1560/ 2233  <train> Loss: 0.0111  Acc: 0.9508  LR -> Group0: 6.5069e-06 / Group1: 1.9521e-05 / Group2: 3.2535e-05 / Group3: 3.2535e-04 / Group4: 3.2535e-04 / Group5: 6.5069e-04 / \n",
      "\n"
     ]
    },
    {
     "name": "stderr",
     "output_type": "stream",
     "text": [
      "train Epoch 1:  71%|███████   | 1580/2233 [54:42<22:40,  2.08s/it]"
     ]
    },
    {
     "name": "stdout",
     "output_type": "stream",
     "text": [
      " 1580/ 2233  <train> Loss: 0.0111  Acc: 0.9507  LR -> Group0: 6.4622e-06 / Group1: 1.9386e-05 / Group2: 3.2311e-05 / Group3: 3.2311e-04 / Group4: 3.2311e-04 / Group5: 6.4622e-04 / \n",
      "\n"
     ]
    },
    {
     "name": "stderr",
     "output_type": "stream",
     "text": [
      "train Epoch 1:  72%|███████▏  | 1600/2233 [55:23<22:03,  2.09s/it]"
     ]
    },
    {
     "name": "stdout",
     "output_type": "stream",
     "text": [
      " 1600/ 2233  <train> Loss: 0.0111  Acc: 0.9507  LR -> Group0: 6.4174e-06 / Group1: 1.9252e-05 / Group2: 3.2087e-05 / Group3: 3.2087e-04 / Group4: 3.2087e-04 / Group5: 6.4174e-04 / \n",
      "\n"
     ]
    },
    {
     "name": "stderr",
     "output_type": "stream",
     "text": [
      "train Epoch 1:  73%|███████▎  | 1620/2233 [56:05<21:18,  2.08s/it]"
     ]
    },
    {
     "name": "stdout",
     "output_type": "stream",
     "text": [
      " 1620/ 2233  <train> Loss: 0.0111  Acc: 0.9505  LR -> Group0: 6.3726e-06 / Group1: 1.9118e-05 / Group2: 3.1863e-05 / Group3: 3.1863e-04 / Group4: 3.1863e-04 / Group5: 6.3726e-04 / \n",
      "\n"
     ]
    },
    {
     "name": "stderr",
     "output_type": "stream",
     "text": [
      "train Epoch 1:  73%|███████▎  | 1640/2233 [56:47<20:36,  2.08s/it]"
     ]
    },
    {
     "name": "stdout",
     "output_type": "stream",
     "text": [
      " 1640/ 2233  <train> Loss: 0.0111  Acc: 0.9504  LR -> Group0: 6.3278e-06 / Group1: 1.8983e-05 / Group2: 3.1639e-05 / Group3: 3.1639e-04 / Group4: 3.1639e-04 / Group5: 6.3278e-04 / \n",
      "\n"
     ]
    },
    {
     "name": "stderr",
     "output_type": "stream",
     "text": [
      "train Epoch 1:  74%|███████▍  | 1660/2233 [57:28<19:45,  2.07s/it]"
     ]
    },
    {
     "name": "stdout",
     "output_type": "stream",
     "text": [
      " 1660/ 2233  <train> Loss: 0.0111  Acc: 0.9503  LR -> Group0: 6.2830e-06 / Group1: 1.8849e-05 / Group2: 3.1415e-05 / Group3: 3.1415e-04 / Group4: 3.1415e-04 / Group5: 6.2830e-04 / \n",
      "\n"
     ]
    },
    {
     "name": "stderr",
     "output_type": "stream",
     "text": [
      "train Epoch 1:  75%|███████▌  | 1680/2233 [58:10<19:13,  2.09s/it]"
     ]
    },
    {
     "name": "stdout",
     "output_type": "stream",
     "text": [
      " 1680/ 2233  <train> Loss: 0.0111  Acc: 0.9503  LR -> Group0: 6.2382e-06 / Group1: 1.8715e-05 / Group2: 3.1191e-05 / Group3: 3.1191e-04 / Group4: 3.1191e-04 / Group5: 6.2382e-04 / \n",
      "\n"
     ]
    },
    {
     "name": "stderr",
     "output_type": "stream",
     "text": [
      "train Epoch 1:  76%|███████▌  | 1700/2233 [58:52<18:30,  2.08s/it]"
     ]
    },
    {
     "name": "stdout",
     "output_type": "stream",
     "text": [
      " 1700/ 2233  <train> Loss: 0.0110  Acc: 0.9504  LR -> Group0: 6.1935e-06 / Group1: 1.8580e-05 / Group2: 3.0967e-05 / Group3: 3.0967e-04 / Group4: 3.0967e-04 / Group5: 6.1935e-04 / \n",
      "\n"
     ]
    },
    {
     "name": "stderr",
     "output_type": "stream",
     "text": [
      "train Epoch 1:  77%|███████▋  | 1720/2233 [59:33<17:47,  2.08s/it]"
     ]
    },
    {
     "name": "stdout",
     "output_type": "stream",
     "text": [
      " 1720/ 2233  <train> Loss: 0.0110  Acc: 0.9505  LR -> Group0: 6.1487e-06 / Group1: 1.8446e-05 / Group2: 3.0743e-05 / Group3: 3.0743e-04 / Group4: 3.0743e-04 / Group5: 6.1487e-04 / \n",
      "\n"
     ]
    },
    {
     "name": "stderr",
     "output_type": "stream",
     "text": [
      "train Epoch 1:  78%|███████▊  | 1740/2233 [1:00:15<17:08,  2.09s/it]"
     ]
    },
    {
     "name": "stdout",
     "output_type": "stream",
     "text": [
      " 1740/ 2233  <train> Loss: 0.0110  Acc: 0.9504  LR -> Group0: 6.1039e-06 / Group1: 1.8312e-05 / Group2: 3.0519e-05 / Group3: 3.0519e-04 / Group4: 3.0519e-04 / Group5: 6.1039e-04 / \n",
      "\n"
     ]
    },
    {
     "name": "stderr",
     "output_type": "stream",
     "text": [
      "train Epoch 1:  79%|███████▉  | 1760/2233 [1:00:57<16:21,  2.08s/it]"
     ]
    },
    {
     "name": "stdout",
     "output_type": "stream",
     "text": [
      " 1760/ 2233  <train> Loss: 0.0110  Acc: 0.9504  LR -> Group0: 6.0591e-06 / Group1: 1.8177e-05 / Group2: 3.0296e-05 / Group3: 3.0296e-04 / Group4: 3.0296e-04 / Group5: 6.0591e-04 / \n",
      "\n"
     ]
    },
    {
     "name": "stderr",
     "output_type": "stream",
     "text": [
      "train Epoch 1:  80%|███████▉  | 1780/2233 [1:01:38<15:39,  2.07s/it]"
     ]
    },
    {
     "name": "stdout",
     "output_type": "stream",
     "text": [
      " 1780/ 2233  <train> Loss: 0.0109  Acc: 0.9506  LR -> Group0: 6.0143e-06 / Group1: 1.8043e-05 / Group2: 3.0072e-05 / Group3: 3.0072e-04 / Group4: 3.0072e-04 / Group5: 6.0143e-04 / \n",
      "\n"
     ]
    },
    {
     "name": "stderr",
     "output_type": "stream",
     "text": [
      "train Epoch 1:  81%|████████  | 1800/2233 [1:02:20<15:05,  2.09s/it]"
     ]
    },
    {
     "name": "stdout",
     "output_type": "stream",
     "text": [
      " 1800/ 2233  <train> Loss: 0.0109  Acc: 0.9508  LR -> Group0: 5.9695e-06 / Group1: 1.7909e-05 / Group2: 2.9848e-05 / Group3: 2.9848e-04 / Group4: 2.9848e-04 / Group5: 5.9695e-04 / \n",
      "\n"
     ]
    },
    {
     "name": "stderr",
     "output_type": "stream",
     "text": [
      "train Epoch 1:  82%|████████▏ | 1820/2233 [1:03:01<14:21,  2.09s/it]"
     ]
    },
    {
     "name": "stdout",
     "output_type": "stream",
     "text": [
      " 1820/ 2233  <train> Loss: 0.0108  Acc: 0.9508  LR -> Group0: 5.9248e-06 / Group1: 1.7774e-05 / Group2: 2.9624e-05 / Group3: 2.9624e-04 / Group4: 2.9624e-04 / Group5: 5.9248e-04 / \n",
      "\n"
     ]
    },
    {
     "name": "stderr",
     "output_type": "stream",
     "text": [
      "train Epoch 1:  82%|████████▏ | 1840/2233 [1:03:43<13:38,  2.08s/it]"
     ]
    },
    {
     "name": "stdout",
     "output_type": "stream",
     "text": [
      " 1840/ 2233  <train> Loss: 0.0108  Acc: 0.9509  LR -> Group0: 5.8800e-06 / Group1: 1.7640e-05 / Group2: 2.9400e-05 / Group3: 2.9400e-04 / Group4: 2.9400e-04 / Group5: 5.8800e-04 / \n",
      "\n"
     ]
    },
    {
     "name": "stderr",
     "output_type": "stream",
     "text": [
      "train Epoch 1:  83%|████████▎ | 1860/2233 [1:04:25<12:57,  2.09s/it]"
     ]
    },
    {
     "name": "stdout",
     "output_type": "stream",
     "text": [
      " 1860/ 2233  <train> Loss: 0.0108  Acc: 0.9508  LR -> Group0: 5.8352e-06 / Group1: 1.7506e-05 / Group2: 2.9176e-05 / Group3: 2.9176e-04 / Group4: 2.9176e-04 / Group5: 5.8352e-04 / \n",
      "\n"
     ]
    },
    {
     "name": "stderr",
     "output_type": "stream",
     "text": [
      "train Epoch 1:  84%|████████▍ | 1880/2233 [1:05:06<12:17,  2.09s/it]"
     ]
    },
    {
     "name": "stdout",
     "output_type": "stream",
     "text": [
      " 1880/ 2233  <train> Loss: 0.0108  Acc: 0.9506  LR -> Group0: 5.7904e-06 / Group1: 1.7371e-05 / Group2: 2.8952e-05 / Group3: 2.8952e-04 / Group4: 2.8952e-04 / Group5: 5.7904e-04 / \n",
      "\n"
     ]
    },
    {
     "name": "stderr",
     "output_type": "stream",
     "text": [
      "train Epoch 1:  85%|████████▌ | 1900/2233 [1:05:48<11:33,  2.08s/it]"
     ]
    },
    {
     "name": "stdout",
     "output_type": "stream",
     "text": [
      " 1900/ 2233  <train> Loss: 0.0108  Acc: 0.9506  LR -> Group0: 5.7456e-06 / Group1: 1.7237e-05 / Group2: 2.8728e-05 / Group3: 2.8728e-04 / Group4: 2.8728e-04 / Group5: 5.7456e-04 / \n",
      "\n"
     ]
    },
    {
     "name": "stderr",
     "output_type": "stream",
     "text": [
      "train Epoch 1:  86%|████████▌ | 1920/2233 [1:06:30<10:52,  2.08s/it]"
     ]
    },
    {
     "name": "stdout",
     "output_type": "stream",
     "text": [
      " 1920/ 2233  <train> Loss: 0.0108  Acc: 0.9505  LR -> Group0: 5.7009e-06 / Group1: 1.7103e-05 / Group2: 2.8504e-05 / Group3: 2.8504e-04 / Group4: 2.8504e-04 / Group5: 5.7009e-04 / \n",
      "\n"
     ]
    },
    {
     "name": "stderr",
     "output_type": "stream",
     "text": [
      "train Epoch 1:  87%|████████▋ | 1940/2233 [1:07:11<10:08,  2.08s/it]"
     ]
    },
    {
     "name": "stdout",
     "output_type": "stream",
     "text": [
      " 1940/ 2233  <train> Loss: 0.0108  Acc: 0.9505  LR -> Group0: 5.6561e-06 / Group1: 1.6968e-05 / Group2: 2.8280e-05 / Group3: 2.8280e-04 / Group4: 2.8280e-04 / Group5: 5.6561e-04 / \n",
      "\n"
     ]
    },
    {
     "name": "stderr",
     "output_type": "stream",
     "text": [
      "train Epoch 1:  88%|████████▊ | 1960/2233 [1:07:53<09:27,  2.08s/it]"
     ]
    },
    {
     "name": "stdout",
     "output_type": "stream",
     "text": [
      " 1960/ 2233  <train> Loss: 0.0107  Acc: 0.9505  LR -> Group0: 5.6113e-06 / Group1: 1.6834e-05 / Group2: 2.8056e-05 / Group3: 2.8056e-04 / Group4: 2.8056e-04 / Group5: 5.6113e-04 / \n",
      "\n"
     ]
    },
    {
     "name": "stderr",
     "output_type": "stream",
     "text": [
      "train Epoch 1:  89%|████████▊ | 1980/2233 [1:08:34<08:45,  2.08s/it]"
     ]
    },
    {
     "name": "stdout",
     "output_type": "stream",
     "text": [
      " 1980/ 2233  <train> Loss: 0.0107  Acc: 0.9505  LR -> Group0: 5.5665e-06 / Group1: 1.6700e-05 / Group2: 2.7833e-05 / Group3: 2.7833e-04 / Group4: 2.7833e-04 / Group5: 5.5665e-04 / \n",
      "\n"
     ]
    },
    {
     "name": "stderr",
     "output_type": "stream",
     "text": [
      "train Epoch 1:  90%|████████▉ | 2000/2233 [1:09:16<08:04,  2.08s/it]"
     ]
    },
    {
     "name": "stdout",
     "output_type": "stream",
     "text": [
      " 2000/ 2233  <train> Loss: 0.0107  Acc: 0.9504  LR -> Group0: 5.5217e-06 / Group1: 1.6565e-05 / Group2: 2.7609e-05 / Group3: 2.7609e-04 / Group4: 2.7609e-04 / Group5: 5.5217e-04 / \n",
      "\n"
     ]
    },
    {
     "name": "stderr",
     "output_type": "stream",
     "text": [
      "train Epoch 1:  90%|█████████ | 2020/2233 [1:09:58<07:23,  2.08s/it]"
     ]
    },
    {
     "name": "stdout",
     "output_type": "stream",
     "text": [
      " 2020/ 2233  <train> Loss: 0.0107  Acc: 0.9506  LR -> Group0: 5.4769e-06 / Group1: 1.6431e-05 / Group2: 2.7385e-05 / Group3: 2.7385e-04 / Group4: 2.7385e-04 / Group5: 5.4769e-04 / \n",
      "\n"
     ]
    },
    {
     "name": "stderr",
     "output_type": "stream",
     "text": [
      "train Epoch 1:  91%|█████████▏| 2040/2233 [1:10:39<06:40,  2.07s/it]"
     ]
    },
    {
     "name": "stdout",
     "output_type": "stream",
     "text": [
      " 2040/ 2233  <train> Loss: 0.0107  Acc: 0.9506  LR -> Group0: 5.4322e-06 / Group1: 1.6296e-05 / Group2: 2.7161e-05 / Group3: 2.7161e-04 / Group4: 2.7161e-04 / Group5: 5.4322e-04 / \n",
      "\n"
     ]
    },
    {
     "name": "stderr",
     "output_type": "stream",
     "text": [
      "train Epoch 1:  92%|█████████▏| 2060/2233 [1:11:21<05:58,  2.07s/it]"
     ]
    },
    {
     "name": "stdout",
     "output_type": "stream",
     "text": [
      " 2060/ 2233  <train> Loss: 0.0106  Acc: 0.9506  LR -> Group0: 5.3874e-06 / Group1: 1.6162e-05 / Group2: 2.6937e-05 / Group3: 2.6937e-04 / Group4: 2.6937e-04 / Group5: 5.3874e-04 / \n",
      "\n"
     ]
    },
    {
     "name": "stderr",
     "output_type": "stream",
     "text": [
      "train Epoch 1:  93%|█████████▎| 2080/2233 [1:12:02<05:19,  2.09s/it]"
     ]
    },
    {
     "name": "stdout",
     "output_type": "stream",
     "text": [
      " 2080/ 2233  <train> Loss: 0.0106  Acc: 0.9508  LR -> Group0: 5.3426e-06 / Group1: 1.6028e-05 / Group2: 2.6713e-05 / Group3: 2.6713e-04 / Group4: 2.6713e-04 / Group5: 5.3426e-04 / \n",
      "\n"
     ]
    },
    {
     "name": "stderr",
     "output_type": "stream",
     "text": [
      "train Epoch 1:  94%|█████████▍| 2100/2233 [1:12:44<04:37,  2.08s/it]"
     ]
    },
    {
     "name": "stdout",
     "output_type": "stream",
     "text": [
      " 2100/ 2233  <train> Loss: 0.0106  Acc: 0.9509  LR -> Group0: 5.2978e-06 / Group1: 1.5893e-05 / Group2: 2.6489e-05 / Group3: 2.6489e-04 / Group4: 2.6489e-04 / Group5: 5.2978e-04 / \n",
      "\n"
     ]
    },
    {
     "name": "stderr",
     "output_type": "stream",
     "text": [
      "train Epoch 1:  95%|█████████▍| 2120/2233 [1:13:25<03:53,  2.07s/it]"
     ]
    },
    {
     "name": "stdout",
     "output_type": "stream",
     "text": [
      " 2120/ 2233  <train> Loss: 0.0106  Acc: 0.9506  LR -> Group0: 5.2530e-06 / Group1: 1.5759e-05 / Group2: 2.6265e-05 / Group3: 2.6265e-04 / Group4: 2.6265e-04 / Group5: 5.2530e-04 / \n",
      "\n"
     ]
    },
    {
     "name": "stderr",
     "output_type": "stream",
     "text": [
      "train Epoch 1:  96%|█████████▌| 2140/2233 [1:14:07<03:13,  2.09s/it]"
     ]
    },
    {
     "name": "stdout",
     "output_type": "stream",
     "text": [
      " 2140/ 2233  <train> Loss: 0.0106  Acc: 0.9505  LR -> Group0: 5.2082e-06 / Group1: 1.5625e-05 / Group2: 2.6041e-05 / Group3: 2.6041e-04 / Group4: 2.6041e-04 / Group5: 5.2082e-04 / \n",
      "\n"
     ]
    },
    {
     "name": "stderr",
     "output_type": "stream",
     "text": [
      "train Epoch 1:  97%|█████████▋| 2160/2233 [1:14:49<02:32,  2.08s/it]"
     ]
    },
    {
     "name": "stdout",
     "output_type": "stream",
     "text": [
      " 2160/ 2233  <train> Loss: 0.0106  Acc: 0.9505  LR -> Group0: 5.1635e-06 / Group1: 1.5490e-05 / Group2: 2.5817e-05 / Group3: 2.5817e-04 / Group4: 2.5817e-04 / Group5: 5.1635e-04 / \n",
      "\n"
     ]
    },
    {
     "name": "stderr",
     "output_type": "stream",
     "text": [
      "train Epoch 1:  98%|█████████▊| 2180/2233 [1:15:30<01:49,  2.07s/it]"
     ]
    },
    {
     "name": "stdout",
     "output_type": "stream",
     "text": [
      " 2180/ 2233  <train> Loss: 0.0106  Acc: 0.9503  LR -> Group0: 5.1187e-06 / Group1: 1.5356e-05 / Group2: 2.5593e-05 / Group3: 2.5593e-04 / Group4: 2.5593e-04 / Group5: 5.1187e-04 / \n",
      "\n"
     ]
    },
    {
     "name": "stderr",
     "output_type": "stream",
     "text": [
      "train Epoch 1:  99%|█████████▊| 2200/2233 [1:16:12<01:08,  2.09s/it]"
     ]
    },
    {
     "name": "stdout",
     "output_type": "stream",
     "text": [
      " 2200/ 2233  <train> Loss: 0.0106  Acc: 0.9505  LR -> Group0: 5.0739e-06 / Group1: 1.5222e-05 / Group2: 2.5369e-05 / Group3: 2.5369e-04 / Group4: 2.5369e-04 / Group5: 5.0739e-04 / \n",
      "\n"
     ]
    },
    {
     "name": "stderr",
     "output_type": "stream",
     "text": [
      "train Epoch 1:  99%|█████████▉| 2220/2233 [1:16:53<00:26,  2.07s/it]"
     ]
    },
    {
     "name": "stdout",
     "output_type": "stream",
     "text": [
      " 2220/ 2233  <train> Loss: 0.0106  Acc: 0.9505  LR -> Group0: 5.0291e-06 / Group1: 1.5087e-05 / Group2: 2.5146e-05 / Group3: 2.5146e-04 / Group4: 2.5146e-04 / Group5: 5.0291e-04 / \n",
      "\n"
     ]
    },
    {
     "name": "stderr",
     "output_type": "stream",
     "text": [
      "/usr/local/lib/python3.11/dist-packages/sklearn/metrics/_classification.py:1565: UndefinedMetricWarning: Precision is ill-defined and being set to 0.0 in labels with no predicted samples. Use `zero_division` parameter to control this behavior.\n",
      "  _warn_prf(average, modifier, f\"{metric.capitalize()} is\", len(result))\n"
     ]
    },
    {
     "name": "stdout",
     "output_type": "stream",
     "text": [
      "<train> Loss: 0.0105  Acc: 0.9506  F1: 0.9268  Precision: 0.9042  Recall: 0.9506\n",
      "\n"
     ]
    },
    {
     "name": "stderr",
     "output_type": "stream",
     "text": [
      "/usr/local/lib/python3.11/dist-packages/sklearn/metrics/_classification.py:1565: UndefinedMetricWarning: Precision is ill-defined and being set to 0.0 in labels with no predicted samples. Use `zero_division` parameter to control this behavior.\n",
      "  _warn_prf(average, modifier, f\"{metric.capitalize()} is\", len(result))\n"
     ]
    },
    {
     "name": "stdout",
     "output_type": "stream",
     "text": [
      "<val> Loss: 0.0137  Acc: 0.9488  F1: 0.9238  Precision: 0.9002  Recall: 0.9488\n",
      "\n",
      "------------------------------------------------------------------------------------------------------------------------------------------------------\n",
      "【Epoch   2/  2】   LR -> Group0: 5.0000e-06 / Group1: 1.5000e-05 / Group2: 2.5000e-05 / Group3: 2.5000e-04 / Group4: 2.5000e-04 / Group5: 5.0000e-04 / \n"
     ]
    },
    {
     "name": "stderr",
     "output_type": "stream",
     "text": [
      "train Epoch 2:   1%|          | 20/2233 [00:42<1:18:12,  2.12s/it]"
     ]
    },
    {
     "name": "stdout",
     "output_type": "stream",
     "text": [
      "  20/ 2233  <train> Loss: 0.0059  Acc: 0.9656  LR -> Group0: 4.9552e-06 / Group1: 1.4866e-05 / Group2: 2.4776e-05 / Group3: 2.4776e-04 / Group4: 2.4776e-04 / Group5: 4.9552e-04 / \n",
      "\n"
     ]
    },
    {
     "name": "stderr",
     "output_type": "stream",
     "text": [
      "train Epoch 2:   2%|▏         | 40/2233 [01:23<1:15:26,  2.06s/it]"
     ]
    },
    {
     "name": "stdout",
     "output_type": "stream",
     "text": [
      "  40/ 2233  <train> Loss: 0.0087  Acc: 0.9422  LR -> Group0: 4.9104e-06 / Group1: 1.4731e-05 / Group2: 2.4552e-05 / Group3: 2.4552e-04 / Group4: 2.4552e-04 / Group5: 4.9104e-04 / \n",
      "\n"
     ]
    },
    {
     "name": "stderr",
     "output_type": "stream",
     "text": [
      "train Epoch 2:   3%|▎         | 60/2233 [02:05<1:15:35,  2.09s/it]"
     ]
    },
    {
     "name": "stdout",
     "output_type": "stream",
     "text": [
      "  60/ 2233  <train> Loss: 0.0082  Acc: 0.9438  LR -> Group0: 4.8657e-06 / Group1: 1.4597e-05 / Group2: 2.4328e-05 / Group3: 2.4328e-04 / Group4: 2.4328e-04 / Group5: 4.8657e-04 / \n",
      "\n"
     ]
    },
    {
     "name": "stderr",
     "output_type": "stream",
     "text": [
      "train Epoch 2:   4%|▎         | 80/2233 [02:46<1:14:25,  2.07s/it]"
     ]
    },
    {
     "name": "stdout",
     "output_type": "stream",
     "text": [
      "  80/ 2233  <train> Loss: 0.0080  Acc: 0.9445  LR -> Group0: 4.8209e-06 / Group1: 1.4463e-05 / Group2: 2.4104e-05 / Group3: 2.4104e-04 / Group4: 2.4104e-04 / Group5: 4.8209e-04 / \n",
      "\n"
     ]
    },
    {
     "name": "stderr",
     "output_type": "stream",
     "text": [
      "train Epoch 2:   4%|▍         | 100/2233 [03:28<1:14:02,  2.08s/it]"
     ]
    },
    {
     "name": "stdout",
     "output_type": "stream",
     "text": [
      " 100/ 2233  <train> Loss: 0.0079  Acc: 0.9431  LR -> Group0: 4.7761e-06 / Group1: 1.4328e-05 / Group2: 2.3880e-05 / Group3: 2.3880e-04 / Group4: 2.3880e-04 / Group5: 4.7761e-04 / \n",
      "\n"
     ]
    },
    {
     "name": "stderr",
     "output_type": "stream",
     "text": [
      "train Epoch 2:   5%|▌         | 120/2233 [04:10<1:13:30,  2.09s/it]"
     ]
    },
    {
     "name": "stdout",
     "output_type": "stream",
     "text": [
      " 120/ 2233  <train> Loss: 0.0076  Acc: 0.9479  LR -> Group0: 4.7313e-06 / Group1: 1.4194e-05 / Group2: 2.3657e-05 / Group3: 2.3657e-04 / Group4: 2.3657e-04 / Group5: 4.7313e-04 / \n",
      "\n"
     ]
    },
    {
     "name": "stderr",
     "output_type": "stream",
     "text": [
      "train Epoch 2:   6%|▋         | 140/2233 [04:51<1:12:48,  2.09s/it]"
     ]
    },
    {
     "name": "stdout",
     "output_type": "stream",
     "text": [
      " 140/ 2233  <train> Loss: 0.0078  Acc: 0.9500  LR -> Group0: 4.6865e-06 / Group1: 1.4060e-05 / Group2: 2.3433e-05 / Group3: 2.3433e-04 / Group4: 2.3433e-04 / Group5: 4.6865e-04 / \n",
      "\n"
     ]
    },
    {
     "name": "stderr",
     "output_type": "stream",
     "text": [
      "train Epoch 2:   7%|▋         | 160/2233 [05:33<1:11:56,  2.08s/it]"
     ]
    },
    {
     "name": "stdout",
     "output_type": "stream",
     "text": [
      " 160/ 2233  <train> Loss: 0.0076  Acc: 0.9508  LR -> Group0: 4.6417e-06 / Group1: 1.3925e-05 / Group2: 2.3209e-05 / Group3: 2.3209e-04 / Group4: 2.3209e-04 / Group5: 4.6417e-04 / \n",
      "\n"
     ]
    },
    {
     "name": "stderr",
     "output_type": "stream",
     "text": [
      "train Epoch 2:   8%|▊         | 180/2233 [06:15<1:11:09,  2.08s/it]"
     ]
    },
    {
     "name": "stdout",
     "output_type": "stream",
     "text": [
      " 180/ 2233  <train> Loss: 0.0075  Acc: 0.9514  LR -> Group0: 4.5970e-06 / Group1: 1.3791e-05 / Group2: 2.2985e-05 / Group3: 2.2985e-04 / Group4: 2.2985e-04 / Group5: 4.5970e-04 / \n",
      "\n"
     ]
    },
    {
     "name": "stderr",
     "output_type": "stream",
     "text": [
      "train Epoch 2:   9%|▉         | 200/2233 [06:56<1:10:14,  2.07s/it]"
     ]
    },
    {
     "name": "stdout",
     "output_type": "stream",
     "text": [
      " 200/ 2233  <train> Loss: 0.0074  Acc: 0.9512  LR -> Group0: 4.5522e-06 / Group1: 1.3657e-05 / Group2: 2.2761e-05 / Group3: 2.2761e-04 / Group4: 2.2761e-04 / Group5: 4.5522e-04 / \n",
      "\n"
     ]
    },
    {
     "name": "stderr",
     "output_type": "stream",
     "text": [
      "train Epoch 2:  10%|▉         | 220/2233 [07:38<1:09:59,  2.09s/it]"
     ]
    },
    {
     "name": "stdout",
     "output_type": "stream",
     "text": [
      " 220/ 2233  <train> Loss: 0.0077  Acc: 0.9503  LR -> Group0: 4.5074e-06 / Group1: 1.3522e-05 / Group2: 2.2537e-05 / Group3: 2.2537e-04 / Group4: 2.2537e-04 / Group5: 4.5074e-04 / \n",
      "\n"
     ]
    },
    {
     "name": "stderr",
     "output_type": "stream",
     "text": [
      "train Epoch 2:  11%|█         | 240/2233 [08:20<1:09:12,  2.08s/it]"
     ]
    },
    {
     "name": "stdout",
     "output_type": "stream",
     "text": [
      " 240/ 2233  <train> Loss: 0.0077  Acc: 0.9505  LR -> Group0: 4.4626e-06 / Group1: 1.3388e-05 / Group2: 2.2313e-05 / Group3: 2.2313e-04 / Group4: 2.2313e-04 / Group5: 4.4626e-04 / \n",
      "\n"
     ]
    },
    {
     "name": "stderr",
     "output_type": "stream",
     "text": [
      "train Epoch 2:  12%|█▏        | 260/2233 [09:01<1:08:22,  2.08s/it]"
     ]
    },
    {
     "name": "stdout",
     "output_type": "stream",
     "text": [
      " 260/ 2233  <train> Loss: 0.0077  Acc: 0.9500  LR -> Group0: 4.4178e-06 / Group1: 1.3253e-05 / Group2: 2.2089e-05 / Group3: 2.2089e-04 / Group4: 2.2089e-04 / Group5: 4.4178e-04 / \n",
      "\n"
     ]
    },
    {
     "name": "stderr",
     "output_type": "stream",
     "text": [
      "train Epoch 2:  13%|█▎        | 280/2233 [09:43<1:07:50,  2.08s/it]"
     ]
    },
    {
     "name": "stdout",
     "output_type": "stream",
     "text": [
      " 280/ 2233  <train> Loss: 0.0078  Acc: 0.9491  LR -> Group0: 4.3730e-06 / Group1: 1.3119e-05 / Group2: 2.1865e-05 / Group3: 2.1865e-04 / Group4: 2.1865e-04 / Group5: 4.3730e-04 / \n",
      "\n"
     ]
    },
    {
     "name": "stderr",
     "output_type": "stream",
     "text": [
      "train Epoch 2:  13%|█▎        | 300/2233 [10:25<1:07:08,  2.08s/it]"
     ]
    },
    {
     "name": "stdout",
     "output_type": "stream",
     "text": [
      " 300/ 2233  <train> Loss: 0.0078  Acc: 0.9492  LR -> Group0: 4.3283e-06 / Group1: 1.2985e-05 / Group2: 2.1641e-05 / Group3: 2.1641e-04 / Group4: 2.1641e-04 / Group5: 4.3283e-04 / \n",
      "\n"
     ]
    },
    {
     "name": "stderr",
     "output_type": "stream",
     "text": [
      "train Epoch 2:  14%|█▍        | 320/2233 [11:06<1:06:35,  2.09s/it]"
     ]
    },
    {
     "name": "stdout",
     "output_type": "stream",
     "text": [
      " 320/ 2233  <train> Loss: 0.0077  Acc: 0.9496  LR -> Group0: 4.2835e-06 / Group1: 1.2850e-05 / Group2: 2.1417e-05 / Group3: 2.1417e-04 / Group4: 2.1417e-04 / Group5: 4.2835e-04 / \n",
      "\n"
     ]
    },
    {
     "name": "stderr",
     "output_type": "stream",
     "text": [
      "train Epoch 2:  15%|█▌        | 340/2233 [11:48<1:05:33,  2.08s/it]"
     ]
    },
    {
     "name": "stdout",
     "output_type": "stream",
     "text": [
      " 340/ 2233  <train> Loss: 0.0078  Acc: 0.9498  LR -> Group0: 4.2387e-06 / Group1: 1.2716e-05 / Group2: 2.1193e-05 / Group3: 2.1193e-04 / Group4: 2.1193e-04 / Group5: 4.2387e-04 / \n",
      "\n"
     ]
    },
    {
     "name": "stderr",
     "output_type": "stream",
     "text": [
      "train Epoch 2:  16%|█▌        | 360/2233 [12:29<1:05:20,  2.09s/it]"
     ]
    },
    {
     "name": "stdout",
     "output_type": "stream",
     "text": [
      " 360/ 2233  <train> Loss: 0.0078  Acc: 0.9491  LR -> Group0: 4.1939e-06 / Group1: 1.2582e-05 / Group2: 2.0970e-05 / Group3: 2.0970e-04 / Group4: 2.0970e-04 / Group5: 4.1939e-04 / \n",
      "\n"
     ]
    },
    {
     "name": "stderr",
     "output_type": "stream",
     "text": [
      "train Epoch 2:  17%|█▋        | 380/2233 [13:11<1:04:26,  2.09s/it]"
     ]
    },
    {
     "name": "stdout",
     "output_type": "stream",
     "text": [
      " 380/ 2233  <train> Loss: 0.0079  Acc: 0.9487  LR -> Group0: 4.1491e-06 / Group1: 1.2447e-05 / Group2: 2.0746e-05 / Group3: 2.0746e-04 / Group4: 2.0746e-04 / Group5: 4.1491e-04 / \n",
      "\n"
     ]
    },
    {
     "name": "stderr",
     "output_type": "stream",
     "text": [
      "train Epoch 2:  18%|█▊        | 400/2233 [13:53<1:03:40,  2.08s/it]"
     ]
    },
    {
     "name": "stdout",
     "output_type": "stream",
     "text": [
      " 400/ 2233  <train> Loss: 0.0079  Acc: 0.9481  LR -> Group0: 4.1043e-06 / Group1: 1.2313e-05 / Group2: 2.0522e-05 / Group3: 2.0522e-04 / Group4: 2.0522e-04 / Group5: 4.1043e-04 / \n",
      "\n"
     ]
    },
    {
     "name": "stderr",
     "output_type": "stream",
     "text": [
      "train Epoch 2:  19%|█▉        | 420/2233 [14:34<1:03:01,  2.09s/it]"
     ]
    },
    {
     "name": "stdout",
     "output_type": "stream",
     "text": [
      " 420/ 2233  <train> Loss: 0.0079  Acc: 0.9482  LR -> Group0: 4.0596e-06 / Group1: 1.2179e-05 / Group2: 2.0298e-05 / Group3: 2.0298e-04 / Group4: 2.0298e-04 / Group5: 4.0596e-04 / \n",
      "\n"
     ]
    },
    {
     "name": "stderr",
     "output_type": "stream",
     "text": [
      "train Epoch 2:  20%|█▉        | 440/2233 [15:16<1:02:16,  2.08s/it]"
     ]
    },
    {
     "name": "stdout",
     "output_type": "stream",
     "text": [
      " 440/ 2233  <train> Loss: 0.0079  Acc: 0.9473  LR -> Group0: 4.0148e-06 / Group1: 1.2044e-05 / Group2: 2.0074e-05 / Group3: 2.0074e-04 / Group4: 2.0074e-04 / Group5: 4.0148e-04 / \n",
      "\n"
     ]
    },
    {
     "name": "stderr",
     "output_type": "stream",
     "text": [
      "train Epoch 2:  21%|██        | 460/2233 [15:58<1:01:32,  2.08s/it]"
     ]
    },
    {
     "name": "stdout",
     "output_type": "stream",
     "text": [
      " 460/ 2233  <train> Loss: 0.0078  Acc: 0.9480  LR -> Group0: 3.9700e-06 / Group1: 1.1910e-05 / Group2: 1.9850e-05 / Group3: 1.9850e-04 / Group4: 1.9850e-04 / Group5: 3.9700e-04 / \n",
      "\n"
     ]
    },
    {
     "name": "stderr",
     "output_type": "stream",
     "text": [
      "train Epoch 2:  21%|██▏       | 480/2233 [16:39<1:00:58,  2.09s/it]"
     ]
    },
    {
     "name": "stdout",
     "output_type": "stream",
     "text": [
      " 480/ 2233  <train> Loss: 0.0077  Acc: 0.9482  LR -> Group0: 3.9252e-06 / Group1: 1.1776e-05 / Group2: 1.9626e-05 / Group3: 1.9626e-04 / Group4: 1.9626e-04 / Group5: 3.9252e-04 / \n",
      "\n"
     ]
    },
    {
     "name": "stderr",
     "output_type": "stream",
     "text": [
      "train Epoch 2:  22%|██▏       | 500/2233 [17:21<1:00:13,  2.09s/it]"
     ]
    },
    {
     "name": "stdout",
     "output_type": "stream",
     "text": [
      " 500/ 2233  <train> Loss: 0.0077  Acc: 0.9483  LR -> Group0: 3.8804e-06 / Group1: 1.1641e-05 / Group2: 1.9402e-05 / Group3: 1.9402e-04 / Group4: 1.9402e-04 / Group5: 3.8804e-04 / \n",
      "\n"
     ]
    },
    {
     "name": "stderr",
     "output_type": "stream",
     "text": [
      "train Epoch 2:  23%|██▎       | 520/2233 [18:03<59:17,  2.08s/it]"
     ]
    },
    {
     "name": "stdout",
     "output_type": "stream",
     "text": [
      " 520/ 2233  <train> Loss: 0.0077  Acc: 0.9484  LR -> Group0: 3.8356e-06 / Group1: 1.1507e-05 / Group2: 1.9178e-05 / Group3: 1.9178e-04 / Group4: 1.9178e-04 / Group5: 3.8356e-04 / \n",
      "\n"
     ]
    },
    {
     "name": "stderr",
     "output_type": "stream",
     "text": [
      "train Epoch 2:  24%|██▍       | 540/2233 [18:44<58:47,  2.08s/it]"
     ]
    },
    {
     "name": "stdout",
     "output_type": "stream",
     "text": [
      " 540/ 2233  <train> Loss: 0.0077  Acc: 0.9486  LR -> Group0: 3.7909e-06 / Group1: 1.1373e-05 / Group2: 1.8954e-05 / Group3: 1.8954e-04 / Group4: 1.8954e-04 / Group5: 3.7909e-04 / \n",
      "\n"
     ]
    },
    {
     "name": "stderr",
     "output_type": "stream",
     "text": [
      "train Epoch 2:  25%|██▌       | 560/2233 [19:26<58:08,  2.09s/it]"
     ]
    },
    {
     "name": "stdout",
     "output_type": "stream",
     "text": [
      " 560/ 2233  <train> Loss: 0.0076  Acc: 0.9491  LR -> Group0: 3.7461e-06 / Group1: 1.1238e-05 / Group2: 1.8730e-05 / Group3: 1.8730e-04 / Group4: 1.8730e-04 / Group5: 3.7461e-04 / \n",
      "\n"
     ]
    },
    {
     "name": "stderr",
     "output_type": "stream",
     "text": [
      "train Epoch 2:  26%|██▌       | 580/2233 [20:08<57:28,  2.09s/it]"
     ]
    },
    {
     "name": "stdout",
     "output_type": "stream",
     "text": [
      " 580/ 2233  <train> Loss: 0.0075  Acc: 0.9494  LR -> Group0: 3.7013e-06 / Group1: 1.1104e-05 / Group2: 1.8506e-05 / Group3: 1.8506e-04 / Group4: 1.8506e-04 / Group5: 3.7013e-04 / \n",
      "\n"
     ]
    },
    {
     "name": "stderr",
     "output_type": "stream",
     "text": [
      "train Epoch 2:  27%|██▋       | 600/2233 [20:49<56:47,  2.09s/it]"
     ]
    },
    {
     "name": "stdout",
     "output_type": "stream",
     "text": [
      " 600/ 2233  <train> Loss: 0.0075  Acc: 0.9496  LR -> Group0: 3.6565e-06 / Group1: 1.0970e-05 / Group2: 1.8283e-05 / Group3: 1.8283e-04 / Group4: 1.8283e-04 / Group5: 3.6565e-04 / \n",
      "\n"
     ]
    },
    {
     "name": "stderr",
     "output_type": "stream",
     "text": [
      "train Epoch 2:  28%|██▊       | 620/2233 [21:31<55:50,  2.08s/it]"
     ]
    },
    {
     "name": "stdout",
     "output_type": "stream",
     "text": [
      " 620/ 2233  <train> Loss: 0.0074  Acc: 0.9500  LR -> Group0: 3.6117e-06 / Group1: 1.0835e-05 / Group2: 1.8059e-05 / Group3: 1.8059e-04 / Group4: 1.8059e-04 / Group5: 3.6117e-04 / \n",
      "\n"
     ]
    },
    {
     "name": "stderr",
     "output_type": "stream",
     "text": [
      "train Epoch 2:  29%|██▊       | 640/2233 [22:13<55:00,  2.07s/it]"
     ]
    },
    {
     "name": "stdout",
     "output_type": "stream",
     "text": [
      " 640/ 2233  <train> Loss: 0.0074  Acc: 0.9501  LR -> Group0: 3.5670e-06 / Group1: 1.0701e-05 / Group2: 1.7835e-05 / Group3: 1.7835e-04 / Group4: 1.7835e-04 / Group5: 3.5670e-04 / \n",
      "\n"
     ]
    },
    {
     "name": "stderr",
     "output_type": "stream",
     "text": [
      "train Epoch 2:  30%|██▉       | 660/2233 [22:54<54:46,  2.09s/it]"
     ]
    },
    {
     "name": "stdout",
     "output_type": "stream",
     "text": [
      " 660/ 2233  <train> Loss: 0.0074  Acc: 0.9495  LR -> Group0: 3.5222e-06 / Group1: 1.0567e-05 / Group2: 1.7611e-05 / Group3: 1.7611e-04 / Group4: 1.7611e-04 / Group5: 3.5222e-04 / \n",
      "\n"
     ]
    },
    {
     "name": "stderr",
     "output_type": "stream",
     "text": [
      "train Epoch 2:  30%|███       | 680/2233 [23:36<53:53,  2.08s/it]"
     ]
    },
    {
     "name": "stdout",
     "output_type": "stream",
     "text": [
      " 680/ 2233  <train> Loss: 0.0075  Acc: 0.9492  LR -> Group0: 3.4774e-06 / Group1: 1.0432e-05 / Group2: 1.7387e-05 / Group3: 1.7387e-04 / Group4: 1.7387e-04 / Group5: 3.4774e-04 / \n",
      "\n"
     ]
    },
    {
     "name": "stderr",
     "output_type": "stream",
     "text": [
      "train Epoch 2:  31%|███▏      | 700/2233 [24:17<52:53,  2.07s/it]"
     ]
    },
    {
     "name": "stdout",
     "output_type": "stream",
     "text": [
      " 700/ 2233  <train> Loss: 0.0075  Acc: 0.9496  LR -> Group0: 3.4326e-06 / Group1: 1.0298e-05 / Group2: 1.7163e-05 / Group3: 1.7163e-04 / Group4: 1.7163e-04 / Group5: 3.4326e-04 / \n",
      "\n"
     ]
    },
    {
     "name": "stderr",
     "output_type": "stream",
     "text": [
      "train Epoch 2:  32%|███▏      | 720/2233 [24:59<52:38,  2.09s/it]"
     ]
    },
    {
     "name": "stdout",
     "output_type": "stream",
     "text": [
      " 720/ 2233  <train> Loss: 0.0075  Acc: 0.9495  LR -> Group0: 3.3878e-06 / Group1: 1.0163e-05 / Group2: 1.6939e-05 / Group3: 1.6939e-04 / Group4: 1.6939e-04 / Group5: 3.3878e-04 / \n",
      "\n"
     ]
    },
    {
     "name": "stderr",
     "output_type": "stream",
     "text": [
      "train Epoch 2:  33%|███▎      | 740/2233 [25:41<52:06,  2.09s/it]"
     ]
    },
    {
     "name": "stdout",
     "output_type": "stream",
     "text": [
      " 740/ 2233  <train> Loss: 0.0075  Acc: 0.9497  LR -> Group0: 3.3430e-06 / Group1: 1.0029e-05 / Group2: 1.6715e-05 / Group3: 1.6715e-04 / Group4: 1.6715e-04 / Group5: 3.3430e-04 / \n",
      "\n"
     ]
    },
    {
     "name": "stderr",
     "output_type": "stream",
     "text": [
      "train Epoch 2:  34%|███▍      | 760/2233 [26:23<51:11,  2.09s/it]"
     ]
    },
    {
     "name": "stdout",
     "output_type": "stream",
     "text": [
      " 760/ 2233  <train> Loss: 0.0075  Acc: 0.9499  LR -> Group0: 3.2983e-06 / Group1: 9.8948e-06 / Group2: 1.6491e-05 / Group3: 1.6491e-04 / Group4: 1.6491e-04 / Group5: 3.2983e-04 / \n",
      "\n"
     ]
    },
    {
     "name": "stderr",
     "output_type": "stream",
     "text": [
      "train Epoch 2:  35%|███▍      | 780/2233 [27:04<50:28,  2.08s/it]"
     ]
    },
    {
     "name": "stdout",
     "output_type": "stream",
     "text": [
      " 780/ 2233  <train> Loss: 0.0075  Acc: 0.9499  LR -> Group0: 3.2535e-06 / Group1: 9.7604e-06 / Group2: 1.6267e-05 / Group3: 1.6267e-04 / Group4: 1.6267e-04 / Group5: 3.2535e-04 / \n",
      "\n"
     ]
    },
    {
     "name": "stderr",
     "output_type": "stream",
     "text": [
      "train Epoch 2:  36%|███▌      | 800/2233 [27:46<49:48,  2.09s/it]"
     ]
    },
    {
     "name": "stdout",
     "output_type": "stream",
     "text": [
      " 800/ 2233  <train> Loss: 0.0074  Acc: 0.9501  LR -> Group0: 3.2087e-06 / Group1: 9.6261e-06 / Group2: 1.6043e-05 / Group3: 1.6043e-04 / Group4: 1.6043e-04 / Group5: 3.2087e-04 / \n",
      "\n"
     ]
    },
    {
     "name": "stderr",
     "output_type": "stream",
     "text": [
      "train Epoch 2:  37%|███▋      | 820/2233 [28:27<49:13,  2.09s/it]"
     ]
    },
    {
     "name": "stdout",
     "output_type": "stream",
     "text": [
      " 820/ 2233  <train> Loss: 0.0075  Acc: 0.9500  LR -> Group0: 3.1639e-06 / Group1: 9.4917e-06 / Group2: 1.5820e-05 / Group3: 1.5820e-04 / Group4: 1.5820e-04 / Group5: 3.1639e-04 / \n",
      "\n"
     ]
    },
    {
     "name": "stderr",
     "output_type": "stream",
     "text": [
      "train Epoch 2:  38%|███▊      | 840/2233 [29:09<48:06,  2.07s/it]"
     ]
    },
    {
     "name": "stdout",
     "output_type": "stream",
     "text": [
      " 840/ 2233  <train> Loss: 0.0074  Acc: 0.9496  LR -> Group0: 3.1191e-06 / Group1: 9.3574e-06 / Group2: 1.5596e-05 / Group3: 1.5596e-04 / Group4: 1.5596e-04 / Group5: 3.1191e-04 / \n",
      "\n"
     ]
    },
    {
     "name": "stderr",
     "output_type": "stream",
     "text": [
      "train Epoch 2:  39%|███▊      | 860/2233 [29:51<47:56,  2.09s/it]"
     ]
    },
    {
     "name": "stdout",
     "output_type": "stream",
     "text": [
      " 860/ 2233  <train> Loss: 0.0075  Acc: 0.9495  LR -> Group0: 3.0743e-06 / Group1: 9.2230e-06 / Group2: 1.5372e-05 / Group3: 1.5372e-04 / Group4: 1.5372e-04 / Group5: 3.0743e-04 / \n",
      "\n"
     ]
    },
    {
     "name": "stderr",
     "output_type": "stream",
     "text": [
      "train Epoch 2:  39%|███▉      | 880/2233 [30:32<46:43,  2.07s/it]"
     ]
    },
    {
     "name": "stdout",
     "output_type": "stream",
     "text": [
      " 880/ 2233  <train> Loss: 0.0076  Acc: 0.9492  LR -> Group0: 3.0296e-06 / Group1: 9.0887e-06 / Group2: 1.5148e-05 / Group3: 1.5148e-04 / Group4: 1.5148e-04 / Group5: 3.0296e-04 / \n",
      "\n"
     ]
    },
    {
     "name": "stderr",
     "output_type": "stream",
     "text": [
      "train Epoch 2:  40%|████      | 900/2233 [31:14<46:23,  2.09s/it]"
     ]
    },
    {
     "name": "stdout",
     "output_type": "stream",
     "text": [
      " 900/ 2233  <train> Loss: 0.0076  Acc: 0.9493  LR -> Group0: 2.9848e-06 / Group1: 8.9543e-06 / Group2: 1.4924e-05 / Group3: 1.4924e-04 / Group4: 1.4924e-04 / Group5: 2.9848e-04 / \n",
      "\n"
     ]
    },
    {
     "name": "stderr",
     "output_type": "stream",
     "text": [
      "train Epoch 2:  41%|████      | 920/2233 [31:56<45:28,  2.08s/it]"
     ]
    },
    {
     "name": "stdout",
     "output_type": "stream",
     "text": [
      " 920/ 2233  <train> Loss: 0.0077  Acc: 0.9492  LR -> Group0: 2.9400e-06 / Group1: 8.8200e-06 / Group2: 1.4700e-05 / Group3: 1.4700e-04 / Group4: 1.4700e-04 / Group5: 2.9400e-04 / \n",
      "\n"
     ]
    },
    {
     "name": "stderr",
     "output_type": "stream",
     "text": [
      "train Epoch 2:  42%|████▏     | 940/2233 [32:37<44:45,  2.08s/it]"
     ]
    },
    {
     "name": "stdout",
     "output_type": "stream",
     "text": [
      " 940/ 2233  <train> Loss: 0.0076  Acc: 0.9497  LR -> Group0: 2.8952e-06 / Group1: 8.6856e-06 / Group2: 1.4476e-05 / Group3: 1.4476e-04 / Group4: 1.4476e-04 / Group5: 2.8952e-04 / \n",
      "\n"
     ]
    },
    {
     "name": "stderr",
     "output_type": "stream",
     "text": [
      "train Epoch 2:  43%|████▎     | 960/2233 [33:19<44:03,  2.08s/it]"
     ]
    },
    {
     "name": "stdout",
     "output_type": "stream",
     "text": [
      " 960/ 2233  <train> Loss: 0.0075  Acc: 0.9501  LR -> Group0: 2.8504e-06 / Group1: 8.5513e-06 / Group2: 1.4252e-05 / Group3: 1.4252e-04 / Group4: 1.4252e-04 / Group5: 2.8504e-04 / \n",
      "\n"
     ]
    },
    {
     "name": "stderr",
     "output_type": "stream",
     "text": [
      "train Epoch 2:  44%|████▍     | 980/2233 [34:00<43:29,  2.08s/it]"
     ]
    },
    {
     "name": "stdout",
     "output_type": "stream",
     "text": [
      " 980/ 2233  <train> Loss: 0.0075  Acc: 0.9502  LR -> Group0: 2.8056e-06 / Group1: 8.4169e-06 / Group2: 1.4028e-05 / Group3: 1.4028e-04 / Group4: 1.4028e-04 / Group5: 2.8056e-04 / \n",
      "\n"
     ]
    },
    {
     "name": "stderr",
     "output_type": "stream",
     "text": [
      "train Epoch 2:  45%|████▍     | 1000/2233 [34:42<42:42,  2.08s/it]"
     ]
    },
    {
     "name": "stdout",
     "output_type": "stream",
     "text": [
      " 1000/ 2233  <train> Loss: 0.0074  Acc: 0.9506  LR -> Group0: 2.7609e-06 / Group1: 8.2826e-06 / Group2: 1.3804e-05 / Group3: 1.3804e-04 / Group4: 1.3804e-04 / Group5: 2.7609e-04 / \n",
      "\n"
     ]
    },
    {
     "name": "stderr",
     "output_type": "stream",
     "text": [
      "train Epoch 2:  46%|████▌     | 1020/2233 [35:24<42:05,  2.08s/it]"
     ]
    },
    {
     "name": "stdout",
     "output_type": "stream",
     "text": [
      " 1020/ 2233  <train> Loss: 0.0075  Acc: 0.9504  LR -> Group0: 2.7161e-06 / Group1: 8.1482e-06 / Group2: 1.3580e-05 / Group3: 1.3580e-04 / Group4: 1.3580e-04 / Group5: 2.7161e-04 / \n",
      "\n"
     ]
    },
    {
     "name": "stderr",
     "output_type": "stream",
     "text": [
      "train Epoch 2:  47%|████▋     | 1040/2233 [36:05<41:25,  2.08s/it]"
     ]
    },
    {
     "name": "stdout",
     "output_type": "stream",
     "text": [
      " 1040/ 2233  <train> Loss: 0.0075  Acc: 0.9502  LR -> Group0: 2.6713e-06 / Group1: 8.0139e-06 / Group2: 1.3356e-05 / Group3: 1.3356e-04 / Group4: 1.3356e-04 / Group5: 2.6713e-04 / \n",
      "\n"
     ]
    },
    {
     "name": "stderr",
     "output_type": "stream",
     "text": [
      "train Epoch 2:  47%|████▋     | 1060/2233 [36:47<40:32,  2.07s/it]"
     ]
    },
    {
     "name": "stdout",
     "output_type": "stream",
     "text": [
      " 1060/ 2233  <train> Loss: 0.0075  Acc: 0.9499  LR -> Group0: 2.6265e-06 / Group1: 7.8795e-06 / Group2: 1.3133e-05 / Group3: 1.3133e-04 / Group4: 1.3133e-04 / Group5: 2.6265e-04 / \n",
      "\n"
     ]
    },
    {
     "name": "stderr",
     "output_type": "stream",
     "text": [
      "train Epoch 2:  48%|████▊     | 1080/2233 [37:28<40:05,  2.09s/it]"
     ]
    },
    {
     "name": "stdout",
     "output_type": "stream",
     "text": [
      " 1080/ 2233  <train> Loss: 0.0075  Acc: 0.9499  LR -> Group0: 2.5817e-06 / Group1: 7.7452e-06 / Group2: 1.2909e-05 / Group3: 1.2909e-04 / Group4: 1.2909e-04 / Group5: 2.5817e-04 / \n",
      "\n"
     ]
    },
    {
     "name": "stderr",
     "output_type": "stream",
     "text": [
      "train Epoch 2:  49%|████▉     | 1100/2233 [38:10<39:18,  2.08s/it]"
     ]
    },
    {
     "name": "stdout",
     "output_type": "stream",
     "text": [
      " 1100/ 2233  <train> Loss: 0.0076  Acc: 0.9498  LR -> Group0: 2.5369e-06 / Group1: 7.6108e-06 / Group2: 1.2685e-05 / Group3: 1.2685e-04 / Group4: 1.2685e-04 / Group5: 2.5369e-04 / \n",
      "\n"
     ]
    },
    {
     "name": "stderr",
     "output_type": "stream",
     "text": [
      "train Epoch 2:  50%|█████     | 1120/2233 [38:52<38:35,  2.08s/it]"
     ]
    },
    {
     "name": "stdout",
     "output_type": "stream",
     "text": [
      " 1120/ 2233  <train> Loss: 0.0076  Acc: 0.9497  LR -> Group0: 2.4922e-06 / Group1: 7.4765e-06 / Group2: 1.2461e-05 / Group3: 1.2461e-04 / Group4: 1.2461e-04 / Group5: 2.4922e-04 / \n",
      "\n"
     ]
    },
    {
     "name": "stderr",
     "output_type": "stream",
     "text": [
      "train Epoch 2:  51%|█████     | 1140/2233 [39:33<37:58,  2.08s/it]"
     ]
    },
    {
     "name": "stdout",
     "output_type": "stream",
     "text": [
      " 1140/ 2233  <train> Loss: 0.0076  Acc: 0.9499  LR -> Group0: 2.4474e-06 / Group1: 7.3421e-06 / Group2: 1.2237e-05 / Group3: 1.2237e-04 / Group4: 1.2237e-04 / Group5: 2.4474e-04 / \n",
      "\n"
     ]
    },
    {
     "name": "stderr",
     "output_type": "stream",
     "text": [
      "train Epoch 2:  52%|█████▏    | 1160/2233 [40:15<37:15,  2.08s/it]"
     ]
    },
    {
     "name": "stdout",
     "output_type": "stream",
     "text": [
      " 1160/ 2233  <train> Loss: 0.0076  Acc: 0.9498  LR -> Group0: 2.4026e-06 / Group1: 7.2078e-06 / Group2: 1.2013e-05 / Group3: 1.2013e-04 / Group4: 1.2013e-04 / Group5: 2.4026e-04 / \n",
      "\n"
     ]
    },
    {
     "name": "stderr",
     "output_type": "stream",
     "text": [
      "train Epoch 2:  53%|█████▎    | 1180/2233 [40:57<36:34,  2.08s/it]"
     ]
    },
    {
     "name": "stdout",
     "output_type": "stream",
     "text": [
      " 1180/ 2233  <train> Loss: 0.0075  Acc: 0.9503  LR -> Group0: 2.3578e-06 / Group1: 7.0734e-06 / Group2: 1.1789e-05 / Group3: 1.1789e-04 / Group4: 1.1789e-04 / Group5: 2.3578e-04 / \n",
      "\n"
     ]
    },
    {
     "name": "stderr",
     "output_type": "stream",
     "text": [
      "train Epoch 2:  54%|█████▎    | 1200/2233 [41:38<35:49,  2.08s/it]"
     ]
    },
    {
     "name": "stdout",
     "output_type": "stream",
     "text": [
      " 1200/ 2233  <train> Loss: 0.0075  Acc: 0.9502  LR -> Group0: 2.3130e-06 / Group1: 6.9391e-06 / Group2: 1.1565e-05 / Group3: 1.1565e-04 / Group4: 1.1565e-04 / Group5: 2.3130e-04 / \n",
      "\n"
     ]
    },
    {
     "name": "stderr",
     "output_type": "stream",
     "text": [
      "train Epoch 2:  55%|█████▍    | 1220/2233 [42:20<35:21,  2.09s/it]"
     ]
    },
    {
     "name": "stdout",
     "output_type": "stream",
     "text": [
      " 1220/ 2233  <train> Loss: 0.0076  Acc: 0.9500  LR -> Group0: 2.2682e-06 / Group1: 6.8047e-06 / Group2: 1.1341e-05 / Group3: 1.1341e-04 / Group4: 1.1341e-04 / Group5: 2.2682e-04 / \n",
      "\n"
     ]
    },
    {
     "name": "stderr",
     "output_type": "stream",
     "text": [
      "train Epoch 2:  56%|█████▌    | 1240/2233 [43:02<34:19,  2.07s/it]"
     ]
    },
    {
     "name": "stdout",
     "output_type": "stream",
     "text": [
      " 1240/ 2233  <train> Loss: 0.0075  Acc: 0.9502  LR -> Group0: 2.2235e-06 / Group1: 6.6704e-06 / Group2: 1.1117e-05 / Group3: 1.1117e-04 / Group4: 1.1117e-04 / Group5: 2.2235e-04 / \n",
      "\n"
     ]
    },
    {
     "name": "stderr",
     "output_type": "stream",
     "text": [
      "train Epoch 2:  56%|█████▋    | 1260/2233 [43:43<33:31,  2.07s/it]"
     ]
    },
    {
     "name": "stdout",
     "output_type": "stream",
     "text": [
      " 1260/ 2233  <train> Loss: 0.0075  Acc: 0.9504  LR -> Group0: 2.1787e-06 / Group1: 6.5361e-06 / Group2: 1.0893e-05 / Group3: 1.0893e-04 / Group4: 1.0893e-04 / Group5: 2.1787e-04 / \n",
      "\n"
     ]
    },
    {
     "name": "stderr",
     "output_type": "stream",
     "text": [
      "train Epoch 2:  57%|█████▋    | 1280/2233 [44:25<33:05,  2.08s/it]"
     ]
    },
    {
     "name": "stdout",
     "output_type": "stream",
     "text": [
      " 1280/ 2233  <train> Loss: 0.0075  Acc: 0.9506  LR -> Group0: 2.1339e-06 / Group1: 6.4017e-06 / Group2: 1.0670e-05 / Group3: 1.0670e-04 / Group4: 1.0670e-04 / Group5: 2.1339e-04 / \n",
      "\n"
     ]
    },
    {
     "name": "stderr",
     "output_type": "stream",
     "text": [
      "train Epoch 2:  58%|█████▊    | 1300/2233 [45:06<32:27,  2.09s/it]"
     ]
    },
    {
     "name": "stdout",
     "output_type": "stream",
     "text": [
      " 1300/ 2233  <train> Loss: 0.0074  Acc: 0.9508  LR -> Group0: 2.0891e-06 / Group1: 6.2674e-06 / Group2: 1.0446e-05 / Group3: 1.0446e-04 / Group4: 1.0446e-04 / Group5: 2.0891e-04 / \n",
      "\n"
     ]
    },
    {
     "name": "stderr",
     "output_type": "stream",
     "text": [
      "train Epoch 2:  59%|█████▉    | 1320/2233 [45:48<31:28,  2.07s/it]"
     ]
    },
    {
     "name": "stdout",
     "output_type": "stream",
     "text": [
      " 1320/ 2233  <train> Loss: 0.0074  Acc: 0.9508  LR -> Group0: 2.0443e-06 / Group1: 6.1330e-06 / Group2: 1.0222e-05 / Group3: 1.0222e-04 / Group4: 1.0222e-04 / Group5: 2.0443e-04 / \n",
      "\n"
     ]
    },
    {
     "name": "stderr",
     "output_type": "stream",
     "text": [
      "train Epoch 2:  60%|██████    | 1340/2233 [46:30<31:03,  2.09s/it]"
     ]
    },
    {
     "name": "stdout",
     "output_type": "stream",
     "text": [
      " 1340/ 2233  <train> Loss: 0.0074  Acc: 0.9508  LR -> Group0: 1.9996e-06 / Group1: 5.9987e-06 / Group2: 9.9978e-06 / Group3: 9.9978e-05 / Group4: 9.9978e-05 / Group5: 1.9996e-04 / \n",
      "\n"
     ]
    },
    {
     "name": "stderr",
     "output_type": "stream",
     "text": [
      "train Epoch 2:  61%|██████    | 1360/2233 [47:11<30:13,  2.08s/it]"
     ]
    },
    {
     "name": "stdout",
     "output_type": "stream",
     "text": [
      " 1360/ 2233  <train> Loss: 0.0074  Acc: 0.9507  LR -> Group0: 1.9548e-06 / Group1: 5.8643e-06 / Group2: 9.7738e-06 / Group3: 9.7738e-05 / Group4: 9.7738e-05 / Group5: 1.9548e-04 / \n",
      "\n"
     ]
    },
    {
     "name": "stderr",
     "output_type": "stream",
     "text": [
      "train Epoch 2:  62%|██████▏   | 1380/2233 [47:53<29:25,  2.07s/it]"
     ]
    },
    {
     "name": "stdout",
     "output_type": "stream",
     "text": [
      " 1380/ 2233  <train> Loss: 0.0074  Acc: 0.9508  LR -> Group0: 1.9100e-06 / Group1: 5.7300e-06 / Group2: 9.5499e-06 / Group3: 9.5499e-05 / Group4: 9.5499e-05 / Group5: 1.9100e-04 / \n",
      "\n"
     ]
    },
    {
     "name": "stderr",
     "output_type": "stream",
     "text": [
      "train Epoch 2:  63%|██████▎   | 1400/2233 [48:34<29:02,  2.09s/it]"
     ]
    },
    {
     "name": "stdout",
     "output_type": "stream",
     "text": [
      " 1400/ 2233  <train> Loss: 0.0073  Acc: 0.9508  LR -> Group0: 1.8652e-06 / Group1: 5.5956e-06 / Group2: 9.3260e-06 / Group3: 9.3260e-05 / Group4: 9.3260e-05 / Group5: 1.8652e-04 / \n",
      "\n"
     ]
    },
    {
     "name": "stderr",
     "output_type": "stream",
     "text": [
      "train Epoch 2:  64%|██████▎   | 1420/2233 [49:16<28:11,  2.08s/it]"
     ]
    },
    {
     "name": "stdout",
     "output_type": "stream",
     "text": [
      " 1420/ 2233  <train> Loss: 0.0073  Acc: 0.9511  LR -> Group0: 1.8204e-06 / Group1: 5.4613e-06 / Group2: 9.1021e-06 / Group3: 9.1021e-05 / Group4: 9.1021e-05 / Group5: 1.8204e-04 / \n",
      "\n"
     ]
    },
    {
     "name": "stderr",
     "output_type": "stream",
     "text": [
      "train Epoch 2:  64%|██████▍   | 1440/2233 [49:58<27:36,  2.09s/it]"
     ]
    },
    {
     "name": "stdout",
     "output_type": "stream",
     "text": [
      " 1440/ 2233  <train> Loss: 0.0073  Acc: 0.9513  LR -> Group0: 1.7756e-06 / Group1: 5.3269e-06 / Group2: 8.8782e-06 / Group3: 8.8782e-05 / Group4: 8.8782e-05 / Group5: 1.7756e-04 / \n",
      "\n"
     ]
    },
    {
     "name": "stderr",
     "output_type": "stream",
     "text": [
      "train Epoch 2:  65%|██████▌   | 1460/2233 [50:39<26:42,  2.07s/it]"
     ]
    },
    {
     "name": "stdout",
     "output_type": "stream",
     "text": [
      " 1460/ 2233  <train> Loss: 0.0073  Acc: 0.9516  LR -> Group0: 1.7309e-06 / Group1: 5.1926e-06 / Group2: 8.6543e-06 / Group3: 8.6543e-05 / Group4: 8.6543e-05 / Group5: 1.7309e-04 / \n",
      "\n"
     ]
    },
    {
     "name": "stderr",
     "output_type": "stream",
     "text": [
      "train Epoch 2:  66%|██████▋   | 1480/2233 [51:21<26:04,  2.08s/it]"
     ]
    },
    {
     "name": "stdout",
     "output_type": "stream",
     "text": [
      " 1480/ 2233  <train> Loss: 0.0073  Acc: 0.9515  LR -> Group0: 1.6861e-06 / Group1: 5.0582e-06 / Group2: 8.4304e-06 / Group3: 8.4304e-05 / Group4: 8.4304e-05 / Group5: 1.6861e-04 / \n",
      "\n"
     ]
    },
    {
     "name": "stderr",
     "output_type": "stream",
     "text": [
      "train Epoch 2:  67%|██████▋   | 1500/2233 [52:02<25:35,  2.10s/it]"
     ]
    },
    {
     "name": "stdout",
     "output_type": "stream",
     "text": [
      " 1500/ 2233  <train> Loss: 0.0073  Acc: 0.9515  LR -> Group0: 1.6413e-06 / Group1: 4.9239e-06 / Group2: 8.2064e-06 / Group3: 8.2064e-05 / Group4: 8.2064e-05 / Group5: 1.6413e-04 / \n",
      "\n"
     ]
    },
    {
     "name": "stderr",
     "output_type": "stream",
     "text": [
      "train Epoch 2:  68%|██████▊   | 1520/2233 [52:44<24:45,  2.08s/it]"
     ]
    },
    {
     "name": "stdout",
     "output_type": "stream",
     "text": [
      " 1520/ 2233  <train> Loss: 0.0073  Acc: 0.9516  LR -> Group0: 1.5965e-06 / Group1: 4.7895e-06 / Group2: 7.9825e-06 / Group3: 7.9825e-05 / Group4: 7.9825e-05 / Group5: 1.5965e-04 / \n",
      "\n"
     ]
    },
    {
     "name": "stderr",
     "output_type": "stream",
     "text": [
      "train Epoch 2:  69%|██████▉   | 1540/2233 [53:26<24:00,  2.08s/it]"
     ]
    },
    {
     "name": "stdout",
     "output_type": "stream",
     "text": [
      " 1540/ 2233  <train> Loss: 0.0072  Acc: 0.9519  LR -> Group0: 1.5517e-06 / Group1: 4.6552e-06 / Group2: 7.7586e-06 / Group3: 7.7586e-05 / Group4: 7.7586e-05 / Group5: 1.5517e-04 / \n",
      "\n"
     ]
    },
    {
     "name": "stderr",
     "output_type": "stream",
     "text": [
      "train Epoch 2:  70%|██████▉   | 1560/2233 [54:07<23:31,  2.10s/it]"
     ]
    },
    {
     "name": "stdout",
     "output_type": "stream",
     "text": [
      " 1560/ 2233  <train> Loss: 0.0072  Acc: 0.9520  LR -> Group0: 1.5069e-06 / Group1: 4.5208e-06 / Group2: 7.5347e-06 / Group3: 7.5347e-05 / Group4: 7.5347e-05 / Group5: 1.5069e-04 / \n",
      "\n"
     ]
    },
    {
     "name": "stderr",
     "output_type": "stream",
     "text": [
      "train Epoch 2:  71%|███████   | 1580/2233 [54:49<22:37,  2.08s/it]"
     ]
    },
    {
     "name": "stdout",
     "output_type": "stream",
     "text": [
      " 1580/ 2233  <train> Loss: 0.0072  Acc: 0.9519  LR -> Group0: 1.4622e-06 / Group1: 4.3865e-06 / Group2: 7.3108e-06 / Group3: 7.3108e-05 / Group4: 7.3108e-05 / Group5: 1.4622e-04 / \n",
      "\n"
     ]
    },
    {
     "name": "stderr",
     "output_type": "stream",
     "text": [
      "train Epoch 2:  72%|███████▏  | 1600/2233 [55:30<21:53,  2.08s/it]"
     ]
    },
    {
     "name": "stdout",
     "output_type": "stream",
     "text": [
      " 1600/ 2233  <train> Loss: 0.0071  Acc: 0.9523  LR -> Group0: 1.4174e-06 / Group1: 4.2521e-06 / Group2: 7.0869e-06 / Group3: 7.0869e-05 / Group4: 7.0869e-05 / Group5: 1.4174e-04 / \n",
      "\n"
     ]
    },
    {
     "name": "stderr",
     "output_type": "stream",
     "text": [
      "train Epoch 2:  73%|███████▎  | 1620/2233 [56:12<21:19,  2.09s/it]"
     ]
    },
    {
     "name": "stdout",
     "output_type": "stream",
     "text": [
      " 1620/ 2233  <train> Loss: 0.0071  Acc: 0.9525  LR -> Group0: 1.3726e-06 / Group1: 4.1178e-06 / Group2: 6.8630e-06 / Group3: 6.8630e-05 / Group4: 6.8630e-05 / Group5: 1.3726e-04 / \n",
      "\n"
     ]
    },
    {
     "name": "stderr",
     "output_type": "stream",
     "text": [
      "train Epoch 2:  73%|███████▎  | 1640/2233 [56:54<20:37,  2.09s/it]"
     ]
    },
    {
     "name": "stdout",
     "output_type": "stream",
     "text": [
      " 1640/ 2233  <train> Loss: 0.0071  Acc: 0.9526  LR -> Group0: 1.3278e-06 / Group1: 3.9834e-06 / Group2: 6.6391e-06 / Group3: 6.6391e-05 / Group4: 6.6391e-05 / Group5: 1.3278e-04 / \n",
      "\n"
     ]
    },
    {
     "name": "stderr",
     "output_type": "stream",
     "text": [
      "train Epoch 2:  74%|███████▍  | 1660/2233 [57:36<19:56,  2.09s/it]"
     ]
    },
    {
     "name": "stdout",
     "output_type": "stream",
     "text": [
      " 1660/ 2233  <train> Loss: 0.0071  Acc: 0.9526  LR -> Group0: 1.2830e-06 / Group1: 3.8491e-06 / Group2: 6.4151e-06 / Group3: 6.4151e-05 / Group4: 6.4151e-05 / Group5: 1.2830e-04 / \n",
      "\n"
     ]
    },
    {
     "name": "stderr",
     "output_type": "stream",
     "text": [
      "train Epoch 2:  75%|███████▌  | 1680/2233 [58:17<19:13,  2.09s/it]"
     ]
    },
    {
     "name": "stdout",
     "output_type": "stream",
     "text": [
      " 1680/ 2233  <train> Loss: 0.0071  Acc: 0.9526  LR -> Group0: 1.2382e-06 / Group1: 3.7147e-06 / Group2: 6.1912e-06 / Group3: 6.1912e-05 / Group4: 6.1912e-05 / Group5: 1.2382e-04 / \n",
      "\n"
     ]
    },
    {
     "name": "stderr",
     "output_type": "stream",
     "text": [
      "train Epoch 2:  76%|███████▌  | 1700/2233 [58:59<18:21,  2.07s/it]"
     ]
    },
    {
     "name": "stdout",
     "output_type": "stream",
     "text": [
      " 1700/ 2233  <train> Loss: 0.0071  Acc: 0.9526  LR -> Group0: 1.1935e-06 / Group1: 3.5804e-06 / Group2: 5.9673e-06 / Group3: 5.9673e-05 / Group4: 5.9673e-05 / Group5: 1.1935e-04 / \n",
      "\n"
     ]
    },
    {
     "name": "stderr",
     "output_type": "stream",
     "text": [
      "train Epoch 2:  77%|███████▋  | 1720/2233 [59:41<17:50,  2.09s/it]"
     ]
    },
    {
     "name": "stdout",
     "output_type": "stream",
     "text": [
      " 1720/ 2233  <train> Loss: 0.0071  Acc: 0.9527  LR -> Group0: 1.1487e-06 / Group1: 3.4460e-06 / Group2: 5.7434e-06 / Group3: 5.7434e-05 / Group4: 5.7434e-05 / Group5: 1.1487e-04 / \n",
      "\n"
     ]
    },
    {
     "name": "stderr",
     "output_type": "stream",
     "text": [
      "train Epoch 2:  78%|███████▊  | 1740/2233 [1:00:22<17:01,  2.07s/it]"
     ]
    },
    {
     "name": "stdout",
     "output_type": "stream",
     "text": [
      " 1740/ 2233  <train> Loss: 0.0071  Acc: 0.9528  LR -> Group0: 1.1039e-06 / Group1: 3.3117e-06 / Group2: 5.5195e-06 / Group3: 5.5195e-05 / Group4: 5.5195e-05 / Group5: 1.1039e-04 / \n",
      "\n"
     ]
    },
    {
     "name": "stderr",
     "output_type": "stream",
     "text": [
      "train Epoch 2:  79%|███████▉  | 1760/2233 [1:01:04<16:29,  2.09s/it]"
     ]
    },
    {
     "name": "stdout",
     "output_type": "stream",
     "text": [
      " 1760/ 2233  <train> Loss: 0.0070  Acc: 0.9528  LR -> Group0: 1.0591e-06 / Group1: 3.1773e-06 / Group2: 5.2956e-06 / Group3: 5.2956e-05 / Group4: 5.2956e-05 / Group5: 1.0591e-04 / \n",
      "\n"
     ]
    },
    {
     "name": "stderr",
     "output_type": "stream",
     "text": [
      "train Epoch 2:  80%|███████▉  | 1780/2233 [1:01:46<15:41,  2.08s/it]"
     ]
    },
    {
     "name": "stdout",
     "output_type": "stream",
     "text": [
      " 1780/ 2233  <train> Loss: 0.0070  Acc: 0.9528  LR -> Group0: 1.0143e-06 / Group1: 3.0430e-06 / Group2: 5.0717e-06 / Group3: 5.0717e-05 / Group4: 5.0717e-05 / Group5: 1.0143e-04 / \n",
      "\n"
     ]
    },
    {
     "name": "stderr",
     "output_type": "stream",
     "text": [
      "train Epoch 2:  81%|████████  | 1800/2233 [1:02:27<14:58,  2.08s/it]"
     ]
    },
    {
     "name": "stdout",
     "output_type": "stream",
     "text": [
      " 1800/ 2233  <train> Loss: 0.0070  Acc: 0.9528  LR -> Group0: 9.6955e-07 / Group1: 2.9086e-06 / Group2: 4.8477e-06 / Group3: 4.8477e-05 / Group4: 4.8477e-05 / Group5: 9.6955e-05 / \n",
      "\n"
     ]
    },
    {
     "name": "stderr",
     "output_type": "stream",
     "text": [
      "train Epoch 2:  82%|████████▏ | 1820/2233 [1:03:09<14:23,  2.09s/it]"
     ]
    },
    {
     "name": "stdout",
     "output_type": "stream",
     "text": [
      " 1820/ 2233  <train> Loss: 0.0071  Acc: 0.9529  LR -> Group0: 9.2476e-07 / Group1: 2.7743e-06 / Group2: 4.6238e-06 / Group3: 4.6238e-05 / Group4: 4.6238e-05 / Group5: 9.2476e-05 / \n",
      "\n"
     ]
    },
    {
     "name": "stderr",
     "output_type": "stream",
     "text": [
      "train Epoch 2:  82%|████████▏ | 1840/2233 [1:03:50<13:40,  2.09s/it]"
     ]
    },
    {
     "name": "stdout",
     "output_type": "stream",
     "text": [
      " 1840/ 2233  <train> Loss: 0.0070  Acc: 0.9531  LR -> Group0: 8.7998e-07 / Group1: 2.6399e-06 / Group2: 4.3999e-06 / Group3: 4.3999e-05 / Group4: 4.3999e-05 / Group5: 8.7998e-05 / \n",
      "\n"
     ]
    },
    {
     "name": "stderr",
     "output_type": "stream",
     "text": [
      "train Epoch 2:  83%|████████▎ | 1860/2233 [1:04:32<12:55,  2.08s/it]"
     ]
    },
    {
     "name": "stdout",
     "output_type": "stream",
     "text": [
      " 1860/ 2233  <train> Loss: 0.0070  Acc: 0.9532  LR -> Group0: 8.3520e-07 / Group1: 2.5056e-06 / Group2: 4.1760e-06 / Group3: 4.1760e-05 / Group4: 4.1760e-05 / Group5: 8.3520e-05 / \n",
      "\n"
     ]
    },
    {
     "name": "stderr",
     "output_type": "stream",
     "text": [
      "train Epoch 2:  84%|████████▍ | 1880/2233 [1:05:14<12:18,  2.09s/it]"
     ]
    },
    {
     "name": "stdout",
     "output_type": "stream",
     "text": [
      " 1880/ 2233  <train> Loss: 0.0070  Acc: 0.9531  LR -> Group0: 7.9042e-07 / Group1: 2.3712e-06 / Group2: 3.9521e-06 / Group3: 3.9521e-05 / Group4: 3.9521e-05 / Group5: 7.9042e-05 / \n",
      "\n"
     ]
    },
    {
     "name": "stderr",
     "output_type": "stream",
     "text": [
      "train Epoch 2:  85%|████████▌ | 1900/2233 [1:05:55<11:34,  2.08s/it]"
     ]
    },
    {
     "name": "stdout",
     "output_type": "stream",
     "text": [
      " 1900/ 2233  <train> Loss: 0.0070  Acc: 0.9531  LR -> Group0: 7.4563e-07 / Group1: 2.2369e-06 / Group2: 3.7282e-06 / Group3: 3.7282e-05 / Group4: 3.7282e-05 / Group5: 7.4563e-05 / \n",
      "\n"
     ]
    },
    {
     "name": "stderr",
     "output_type": "stream",
     "text": [
      "train Epoch 2:  86%|████████▌ | 1920/2233 [1:06:37<10:48,  2.07s/it]"
     ]
    },
    {
     "name": "stdout",
     "output_type": "stream",
     "text": [
      " 1920/ 2233  <train> Loss: 0.0070  Acc: 0.9529  LR -> Group0: 7.0085e-07 / Group1: 2.1026e-06 / Group2: 3.5043e-06 / Group3: 3.5043e-05 / Group4: 3.5043e-05 / Group5: 7.0085e-05 / \n",
      "\n"
     ]
    },
    {
     "name": "stderr",
     "output_type": "stream",
     "text": [
      "train Epoch 2:  87%|████████▋ | 1940/2233 [1:07:18<10:12,  2.09s/it]"
     ]
    },
    {
     "name": "stdout",
     "output_type": "stream",
     "text": [
      " 1940/ 2233  <train> Loss: 0.0070  Acc: 0.9529  LR -> Group0: 6.5607e-07 / Group1: 1.9682e-06 / Group2: 3.2803e-06 / Group3: 3.2803e-05 / Group4: 3.2803e-05 / Group5: 6.5607e-05 / \n",
      "\n"
     ]
    },
    {
     "name": "stderr",
     "output_type": "stream",
     "text": [
      "train Epoch 2:  88%|████████▊ | 1960/2233 [1:08:00<09:25,  2.07s/it]"
     ]
    },
    {
     "name": "stdout",
     "output_type": "stream",
     "text": [
      " 1960/ 2233  <train> Loss: 0.0070  Acc: 0.9528  LR -> Group0: 6.1129e-07 / Group1: 1.8339e-06 / Group2: 3.0564e-06 / Group3: 3.0564e-05 / Group4: 3.0564e-05 / Group5: 6.1129e-05 / \n",
      "\n"
     ]
    },
    {
     "name": "stderr",
     "output_type": "stream",
     "text": [
      "train Epoch 2:  89%|████████▊ | 1980/2233 [1:08:42<08:47,  2.09s/it]"
     ]
    },
    {
     "name": "stdout",
     "output_type": "stream",
     "text": [
      " 1980/ 2233  <train> Loss: 0.0070  Acc: 0.9529  LR -> Group0: 5.6650e-07 / Group1: 1.6995e-06 / Group2: 2.8325e-06 / Group3: 2.8325e-05 / Group4: 2.8325e-05 / Group5: 5.6650e-05 / \n",
      "\n"
     ]
    },
    {
     "name": "stderr",
     "output_type": "stream",
     "text": [
      "train Epoch 2:  90%|████████▉ | 2000/2233 [1:09:23<08:03,  2.07s/it]"
     ]
    },
    {
     "name": "stdout",
     "output_type": "stream",
     "text": [
      " 2000/ 2233  <train> Loss: 0.0070  Acc: 0.9530  LR -> Group0: 5.2172e-07 / Group1: 1.5652e-06 / Group2: 2.6086e-06 / Group3: 2.6086e-05 / Group4: 2.6086e-05 / Group5: 5.2172e-05 / \n",
      "\n"
     ]
    },
    {
     "name": "stderr",
     "output_type": "stream",
     "text": [
      "train Epoch 2:  90%|█████████ | 2020/2233 [1:10:05<07:22,  2.08s/it]"
     ]
    },
    {
     "name": "stdout",
     "output_type": "stream",
     "text": [
      " 2020/ 2233  <train> Loss: 0.0070  Acc: 0.9532  LR -> Group0: 4.7694e-07 / Group1: 1.4308e-06 / Group2: 2.3847e-06 / Group3: 2.3847e-05 / Group4: 2.3847e-05 / Group5: 4.7694e-05 / \n",
      "\n"
     ]
    },
    {
     "name": "stderr",
     "output_type": "stream",
     "text": [
      "train Epoch 2:  91%|█████████▏| 2040/2233 [1:10:46<06:42,  2.09s/it]"
     ]
    },
    {
     "name": "stdout",
     "output_type": "stream",
     "text": [
      " 2040/ 2233  <train> Loss: 0.0070  Acc: 0.9531  LR -> Group0: 4.3215e-07 / Group1: 1.2965e-06 / Group2: 2.1608e-06 / Group3: 2.1608e-05 / Group4: 2.1608e-05 / Group5: 4.3215e-05 / \n",
      "\n"
     ]
    },
    {
     "name": "stderr",
     "output_type": "stream",
     "text": [
      "train Epoch 2:  92%|█████████▏| 2060/2233 [1:11:28<06:01,  2.09s/it]"
     ]
    },
    {
     "name": "stdout",
     "output_type": "stream",
     "text": [
      " 2060/ 2233  <train> Loss: 0.0069  Acc: 0.9531  LR -> Group0: 3.8737e-07 / Group1: 1.1621e-06 / Group2: 1.9369e-06 / Group3: 1.9369e-05 / Group4: 1.9369e-05 / Group5: 3.8737e-05 / \n",
      "\n"
     ]
    },
    {
     "name": "stderr",
     "output_type": "stream",
     "text": [
      "train Epoch 2:  93%|█████████▎| 2080/2233 [1:12:10<05:18,  2.08s/it]"
     ]
    },
    {
     "name": "stdout",
     "output_type": "stream",
     "text": [
      " 2080/ 2233  <train> Loss: 0.0070  Acc: 0.9530  LR -> Group0: 3.4259e-07 / Group1: 1.0278e-06 / Group2: 1.7129e-06 / Group3: 1.7129e-05 / Group4: 1.7129e-05 / Group5: 3.4259e-05 / \n",
      "\n"
     ]
    },
    {
     "name": "stderr",
     "output_type": "stream",
     "text": [
      "train Epoch 2:  94%|█████████▍| 2100/2233 [1:12:52<04:36,  2.08s/it]"
     ]
    },
    {
     "name": "stdout",
     "output_type": "stream",
     "text": [
      " 2100/ 2233  <train> Loss: 0.0070  Acc: 0.9529  LR -> Group0: 2.9781e-07 / Group1: 8.9342e-07 / Group2: 1.4890e-06 / Group3: 1.4890e-05 / Group4: 1.4890e-05 / Group5: 2.9781e-05 / \n",
      "\n"
     ]
    },
    {
     "name": "stderr",
     "output_type": "stream",
     "text": [
      "train Epoch 2:  95%|█████████▍| 2120/2233 [1:13:33<03:55,  2.08s/it]"
     ]
    },
    {
     "name": "stdout",
     "output_type": "stream",
     "text": [
      " 2120/ 2233  <train> Loss: 0.0070  Acc: 0.9530  LR -> Group0: 2.5302e-07 / Group1: 7.5907e-07 / Group2: 1.2651e-06 / Group3: 1.2651e-05 / Group4: 1.2651e-05 / Group5: 2.5302e-05 / \n",
      "\n"
     ]
    },
    {
     "name": "stderr",
     "output_type": "stream",
     "text": [
      "train Epoch 2:  96%|█████████▌| 2140/2233 [1:14:15<03:13,  2.08s/it]"
     ]
    },
    {
     "name": "stdout",
     "output_type": "stream",
     "text": [
      " 2140/ 2233  <train> Loss: 0.0070  Acc: 0.9527  LR -> Group0: 2.0824e-07 / Group1: 6.2472e-07 / Group2: 1.0412e-06 / Group3: 1.0412e-05 / Group4: 1.0412e-05 / Group5: 2.0824e-05 / \n",
      "\n"
     ]
    },
    {
     "name": "stderr",
     "output_type": "stream",
     "text": [
      "train Epoch 2:  97%|█████████▋| 2160/2233 [1:14:56<02:31,  2.07s/it]"
     ]
    },
    {
     "name": "stdout",
     "output_type": "stream",
     "text": [
      " 2160/ 2233  <train> Loss: 0.0070  Acc: 0.9528  LR -> Group0: 1.6346e-07 / Group1: 4.9037e-07 / Group2: 8.1729e-07 / Group3: 8.1729e-06 / Group4: 8.1729e-06 / Group5: 1.6346e-05 / \n",
      "\n"
     ]
    },
    {
     "name": "stderr",
     "output_type": "stream",
     "text": [
      "train Epoch 2:  98%|█████████▊| 2180/2233 [1:15:38<01:50,  2.08s/it]"
     ]
    },
    {
     "name": "stdout",
     "output_type": "stream",
     "text": [
      " 2180/ 2233  <train> Loss: 0.0070  Acc: 0.9529  LR -> Group0: 1.1867e-07 / Group1: 3.5602e-07 / Group2: 5.9337e-07 / Group3: 5.9337e-06 / Group4: 5.9337e-06 / Group5: 1.1867e-05 / \n",
      "\n"
     ]
    },
    {
     "name": "stderr",
     "output_type": "stream",
     "text": [
      "train Epoch 2:  99%|█████████▊| 2200/2233 [1:16:20<01:08,  2.08s/it]"
     ]
    },
    {
     "name": "stdout",
     "output_type": "stream",
     "text": [
      " 2200/ 2233  <train> Loss: 0.0069  Acc: 0.9529  LR -> Group0: 7.3892e-08 / Group1: 2.2167e-07 / Group2: 3.6946e-07 / Group3: 3.6946e-06 / Group4: 3.6946e-06 / Group5: 7.3892e-06 / \n",
      "\n"
     ]
    },
    {
     "name": "stderr",
     "output_type": "stream",
     "text": [
      "train Epoch 2:  99%|█████████▉| 2220/2233 [1:17:01<00:27,  2.09s/it]"
     ]
    },
    {
     "name": "stdout",
     "output_type": "stream",
     "text": [
      " 2220/ 2233  <train> Loss: 0.0070  Acc: 0.9529  LR -> Group0: 2.9109e-08 / Group1: 8.7326e-08 / Group2: 1.4554e-07 / Group3: 1.4554e-06 / Group4: 1.4554e-06 / Group5: 2.9109e-06 / \n",
      "\n"
     ]
    },
    {
     "name": "stderr",
     "output_type": "stream",
     "text": [
      "/usr/local/lib/python3.11/dist-packages/sklearn/metrics/_classification.py:1565: UndefinedMetricWarning: Precision is ill-defined and being set to 0.0 in labels with no predicted samples. Use `zero_division` parameter to control this behavior.\n",
      "  _warn_prf(average, modifier, f\"{metric.capitalize()} is\", len(result))\n"
     ]
    },
    {
     "name": "stdout",
     "output_type": "stream",
     "text": [
      "<train> Loss: 0.0069  Acc: 0.9529  F1: 0.9320  Precision: 0.9272  Recall: 0.9529\n",
      "\n"
     ]
    },
    {
     "name": "stderr",
     "output_type": "stream",
     "text": [
      "/usr/local/lib/python3.11/dist-packages/sklearn/metrics/_classification.py:1565: UndefinedMetricWarning: Precision is ill-defined and being set to 0.0 in labels with no predicted samples. Use `zero_division` parameter to control this behavior.\n",
      "  _warn_prf(average, modifier, f\"{metric.capitalize()} is\", len(result))\n"
     ]
    },
    {
     "name": "stdout",
     "output_type": "stream",
     "text": [
      "<val> Loss: 0.0103  Acc: 0.9608  F1: 0.9482  Precision: 0.9367  Recall: 0.9608\n",
      "\n",
      "------------------------------------------------------------------------------------------------------------------------------------------------------\n"
     ]
    },
    {
     "data": {
      "image/png": "[encoded data removed]",
      "text/plain": [
       "<Figure size 1500x2000 with 4 Axes>"
      ]
     },
     "metadata": {},
     "output_type": "display_data"
    }
   ],
   "source": [
    "# モデルとオプティマイザの初期化\n",
    "checkpoint_path = hps.model_state  # 以前に保存したチェックポイントのパスを設定\n",
    "model_name = hps.model_name\n",
    "device = torch.device(\"cuda\" if torch.cuda.is_available() else \"cpu\")\n",
    "model, optimizer, start_epoch, best_loss, best_acc, best_f1, best_precision, best_recall, past_epochs, new_epochs, total_epochs, checkpoint = initialize_model_and_optimizer(checkpoint_path, model_name, device)\n",
    "\n",
    "# スケジューラの設定\n",
    "num_training_steps = new_epochs * len(train_loader)\n",
    "scheduler = get_linear_schedule_with_warmup(optimizer, num_warmup_steps=0, num_training_steps=num_training_steps)\n",
    "\n",
    "# クラスウェイトの計算\n",
    "class_weights = hps.class_weights\n",
    "\n",
    "# トレーニングの実行\n",
    "%cd '/content/drive/MyDrive/成果物3/'\n",
    "model, history = fit(\n",
    "    dataloaders={'train': train_loader, 'val': dev_loader},\n",
    "    model=model,\n",
    "    optimizer=optimizer,\n",
    "    past_epochs=past_epochs,  # 過去のトレーニング回数\n",
    "    new_epochs=new_epochs,  # 新しいトレーニング回数\n",
    "    batch_size=hps.batch_size,\n",
    "    scheduler=scheduler,\n",
    "    class_weights_tensor=torch.tensor(class_weights, device=device, dtype=torch.float32),\n",
    "    start_epoch=start_epoch,\n",
    "    checkpoint=checkpoint  # checkpointインスタンスを渡す\n",
    ")\n",
    "\n",
    "\n",
    "# 学習履歴のプロット\n",
    "def history_plot(history, past_epochs, new_epochs):\n",
    "    total_epochs = past_epochs + new_epochs  # 合計エポック数を計算\n",
    "    fig, axs = plt.subplots(4, 1, figsize=(15, 20))\n",
    "\n",
    "    metrics = ['loss', 'acc', 'f1']\n",
    "    phases = ['train', 'val']\n",
    "\n",
    "    for i, metric in enumerate(metrics):\n",
    "        for phase in phases:\n",
    "            axs[i].plot(range(1, total_epochs + 1), history[phase][metric], marker='o', label=f'{phase} {metric}')\n",
    "        axs[i].set_title(metric)\n",
    "        axs[i].legend()\n",
    "        axs[i].grid()\n",
    "\n",
    "    axs[3].plot(range(1, len(history['lr']) + 1), history['lr'], marker='o', label='lr')\n",
    "    axs[3].set_title('Learning Rate')\n",
    "    axs[3].legend()\n",
    "    axs[3].grid()\n",
    "\n",
    "    fig.tight_layout()\n",
    "    plt.show()\n",
    "\n",
    "# プロット関数の呼び出し\n",
    "history_plot(history, past_epochs, new_epochs)\n"
   ]
  },
  {
   "cell_type": "code",
   "execution_count": 11,
   "metadata": {
    "colab": {
     "base_uri": "https://localhost:8080/"
    },
    "id": "EE0c9yDJjVvf",
    "outputId": "4034f228-f301-47fd-9df3-42a1f79806bf"
   },
   "outputs": [
    {
     "name": "stderr",
     "output_type": "stream",
     "text": [
      "100%|██████████| 745/745 [11:40<00:00,  1.06it/s]\n",
      "/usr/local/lib/python3.11/dist-packages/sklearn/metrics/_classification.py:1565: UndefinedMetricWarning: Precision is ill-defined and being set to 0.0 in labels with no predicted samples. Use `zero_division` parameter to control this behavior.\n",
      "  _warn_prf(average, modifier, f\"{metric.capitalize()} is\", len(result))\n"
     ]
    },
    {
     "name": "stdout",
     "output_type": "stream",
     "text": [
      "Loss: 0.0105, Acc: 0.9599, F1: 0.9467, Precision: 0.9349, Recall: 0.9599\n",
      "{'accuracy': tensor(0.9599, device='cuda:0', dtype=torch.float64), 'f1': 0.9467050055493429, 'precision': 0.9348711957794406, 'recall': 0.9599462591317491}\n"
     ]
    }
   ],
   "source": [
    "def inference(model, dataloader, device, class_weights_tensor):\n",
    "    model.eval()\n",
    "    running_loss = 0.0\n",
    "    running_corrects = 0\n",
    "    preds_labels_dict = {'preds': [], 'labels': []}\n",
    "\n",
    "    criterion = nn.CrossEntropyLoss(weight=class_weights_tensor)\n",
    "\n",
    "    with torch.no_grad():\n",
    "        for batch in tqdm(dataloader):\n",
    "            inputs = batch\n",
    "            labels = batch['labels']\n",
    "            input_ids = inputs['input_ids'].to(device)\n",
    "            attention_mask = inputs['attention_mask'].to(device)\n",
    "            labels = labels.to(device)\n",
    "\n",
    "            outputs = model(input_ids=input_ids, attention_mask=attention_mask)\n",
    "            loss = criterion(outputs, labels)\n",
    "            running_loss += loss.item() * input_ids.size(0)\n",
    "\n",
    "            _, preds = torch.max(outputs, 1)\n",
    "            running_corrects += torch.sum(preds == labels)\n",
    "\n",
    "            preds_labels_dict['preds'].extend(preds.cpu().numpy())\n",
    "            preds_labels_dict['labels'].extend(labels.cpu().numpy())\n",
    "\n",
    "    total_loss = running_loss / len(dataloader.dataset)\n",
    "    total_acc = running_corrects.double() / len(dataloader.dataset)\n",
    "    total_f1 = f1_score(preds_labels_dict['labels'], preds_labels_dict['preds'], average='weighted')\n",
    "    precision = precision_score(preds_labels_dict['labels'], preds_labels_dict['preds'], average='weighted')\n",
    "    recall = recall_score(preds_labels_dict['labels'], preds_labels_dict['preds'], average='weighted')\n",
    "\n",
    "    print(f\"Loss: {total_loss:.4f}, Acc: {total_acc:.4f}, F1: {total_f1:.4f}, Precision: {precision:.4f}, Recall: {recall:.4f}\")\n",
    "\n",
    "    return {\n",
    "        'accuracy': total_acc,\n",
    "        'f1': total_f1,\n",
    "        'precision': precision,\n",
    "        'recall': recall,\n",
    "    }\n",
    "\n",
    "# テストデータでの推論\n",
    "class_weights_tensor = torch.tensor(class_weights, device=device, dtype=torch.float32)\n",
    "evaluation_metrics = inference(model, test_loader, device, class_weights_tensor)\n",
    "print(evaluation_metrics)\n"
   ]
  },
  {
   "cell_type": "code",
   "execution_count": 12,
   "metadata": {
    "colab": {
     "base_uri": "https://localhost:8080/",
     "height": 411
    },
    "id": "zGkKohMtQQgQ",
    "outputId": "a7bf7382-03d3-4515-ca51-559147361516"
   },
   "outputs": [
    {
     "name": "stderr",
     "output_type": "stream",
     "text": [
      "<ipython-input-12-6900aedcce9c>:3: FutureWarning: You are using `torch.load` with `weights_only=False` (the current default value), which uses the default pickle module implicitly. It is possible to construct malicious pickle data which will execute arbitrary code during unpickling (See https://github.com/pytorch/pytorch/blob/main/SECURITY.md#untrusted-models for more details). In a future release, the default value for `weights_only` will be flipped to `True`. This limits the functions that could be executed during unpickling. Arbitrary objects will no longer be allowed to be loaded via this mode unless they are explicitly allowlisted by the user via `torch.serialization.add_safe_globals`. We recommend you start setting `weights_only=True` for any use case where you don't have full control of the loaded file. Please open an issue on GitHub for any issues related to this experimental feature.\n",
      "  checkpoint = torch.load(checkpoint_path, map_location=device)\n"
     ]
    },
    {
     "ename": "FileNotFoundError",
     "evalue": "[Errno 2] No such file or directory: '/content/drive/MyDrive/成果物3/Angerbert+_norm/tohoku-nlp_bert-base-japanese-v3__epoch001__20250110_1151.pth'",
     "output_type": "error",
     "traceback": [
      "\u001b[0;31m---------------------------------------------------------------------------\u001b[0m",
      "\u001b[0;31mFileNotFoundError\u001b[0m                         Traceback (most recent call last)",
      "\u001b[0;32m<ipython-input-12-6900aedcce9c>\u001b[0m in \u001b[0;36m<cell line: 0>\u001b[0;34m()\u001b[0m\n\u001b[1;32m     25\u001b[0m \u001b[0mcheckpoint_path\u001b[0m \u001b[0;34m=\u001b[0m \u001b[0;34m'/content/drive/MyDrive/成果物3/'\u001b[0m\u001b[0;34m+\u001b[0m\u001b[0mhps\u001b[0m\u001b[0;34m.\u001b[0m\u001b[0mmodel_state\u001b[0m\u001b[0;34m\u001b[0m\u001b[0;34m\u001b[0m\u001b[0m\n\u001b[1;32m     26\u001b[0m \u001b[0mmodel\u001b[0m \u001b[0;34m=\u001b[0m \u001b[0mBertLstmCnnModel\u001b[0m\u001b[0;34m(\u001b[0m\u001b[0mmodel_name\u001b[0m\u001b[0;34m=\u001b[0m\u001b[0mhps\u001b[0m\u001b[0;34m.\u001b[0m\u001b[0mmodel_name\u001b[0m\u001b[0;34m)\u001b[0m\u001b[0;34m\u001b[0m\u001b[0;34m\u001b[0m\u001b[0m\n\u001b[0;32m---> 27\u001b[0;31m \u001b[0mmodel\u001b[0m \u001b[0;34m=\u001b[0m \u001b[0mload_model_weights\u001b[0m\u001b[0;34m(\u001b[0m\u001b[0mmodel\u001b[0m\u001b[0;34m,\u001b[0m \u001b[0mcheckpoint_path\u001b[0m\u001b[0;34m,\u001b[0m \u001b[0mdevice\u001b[0m\u001b[0;34m)\u001b[0m\u001b[0;34m\u001b[0m\u001b[0;34m\u001b[0m\u001b[0m\n\u001b[0m\u001b[1;32m     28\u001b[0m \u001b[0mmodel\u001b[0m\u001b[0;34m.\u001b[0m\u001b[0mto\u001b[0m\u001b[0;34m(\u001b[0m\u001b[0mdevice\u001b[0m\u001b[0;34m)\u001b[0m\u001b[0;34m\u001b[0m\u001b[0;34m\u001b[0m\u001b[0m\n\u001b[1;32m     29\u001b[0m \u001b[0mtokenizer\u001b[0m \u001b[0;34m=\u001b[0m \u001b[0mBertTokenizer\u001b[0m\u001b[0;34m.\u001b[0m\u001b[0mfrom_pretrained\u001b[0m\u001b[0;34m(\u001b[0m\u001b[0mhps\u001b[0m\u001b[0;34m.\u001b[0m\u001b[0mmodel_name\u001b[0m\u001b[0;34m)\u001b[0m\u001b[0;34m\u001b[0m\u001b[0;34m\u001b[0m\u001b[0m\n",
      "\u001b[0;32m<ipython-input-12-6900aedcce9c>\u001b[0m in \u001b[0;36mload_model_weights\u001b[0;34m(model, checkpoint_path, device)\u001b[0m\n\u001b[1;32m      1\u001b[0m \u001b[0;31m# モデルの重みをロードする関数\u001b[0m\u001b[0;34m\u001b[0m\u001b[0;34m\u001b[0m\u001b[0m\n\u001b[1;32m      2\u001b[0m \u001b[0;32mdef\u001b[0m \u001b[0mload_model_weights\u001b[0m\u001b[0;34m(\u001b[0m\u001b[0mmodel\u001b[0m\u001b[0;34m,\u001b[0m \u001b[0mcheckpoint_path\u001b[0m\u001b[0;34m,\u001b[0m \u001b[0mdevice\u001b[0m\u001b[0;34m)\u001b[0m\u001b[0;34m:\u001b[0m\u001b[0;34m\u001b[0m\u001b[0;34m\u001b[0m\u001b[0m\n\u001b[0;32m----> 3\u001b[0;31m     \u001b[0mcheckpoint\u001b[0m \u001b[0;34m=\u001b[0m \u001b[0mtorch\u001b[0m\u001b[0;34m.\u001b[0m\u001b[0mload\u001b[0m\u001b[0;34m(\u001b[0m\u001b[0mcheckpoint_path\u001b[0m\u001b[0;34m,\u001b[0m \u001b[0mmap_location\u001b[0m\u001b[0;34m=\u001b[0m\u001b[0mdevice\u001b[0m\u001b[0;34m)\u001b[0m\u001b[0;34m\u001b[0m\u001b[0;34m\u001b[0m\u001b[0m\n\u001b[0m\u001b[1;32m      4\u001b[0m     \u001b[0mmodel\u001b[0m\u001b[0;34m.\u001b[0m\u001b[0mload_state_dict\u001b[0m\u001b[0;34m(\u001b[0m\u001b[0mcheckpoint\u001b[0m\u001b[0;34m[\u001b[0m\u001b[0;34m'model_state_dict'\u001b[0m\u001b[0;34m]\u001b[0m\u001b[0;34m)\u001b[0m\u001b[0;34m\u001b[0m\u001b[0;34m\u001b[0m\u001b[0m\n\u001b[1;32m      5\u001b[0m     \u001b[0;32mreturn\u001b[0m \u001b[0mmodel\u001b[0m\u001b[0;34m\u001b[0m\u001b[0;34m\u001b[0m\u001b[0m\n",
      "\u001b[0;32m/usr/local/lib/python3.11/dist-packages/torch/serialization.py\u001b[0m in \u001b[0;36mload\u001b[0;34m(f, map_location, pickle_module, weights_only, mmap, **pickle_load_args)\u001b[0m\n\u001b[1;32m   1317\u001b[0m         \u001b[0mpickle_load_args\u001b[0m\u001b[0;34m[\u001b[0m\u001b[0;34m\"encoding\"\u001b[0m\u001b[0;34m]\u001b[0m \u001b[0;34m=\u001b[0m \u001b[0;34m\"utf-8\"\u001b[0m\u001b[0;34m\u001b[0m\u001b[0;34m\u001b[0m\u001b[0m\n\u001b[1;32m   1318\u001b[0m \u001b[0;34m\u001b[0m\u001b[0m\n\u001b[0;32m-> 1319\u001b[0;31m     \u001b[0;32mwith\u001b[0m \u001b[0m_open_file_like\u001b[0m\u001b[0;34m(\u001b[0m\u001b[0mf\u001b[0m\u001b[0;34m,\u001b[0m \u001b[0;34m\"rb\"\u001b[0m\u001b[0;34m)\u001b[0m \u001b[0;32mas\u001b[0m \u001b[0mopened_file\u001b[0m\u001b[0;34m:\u001b[0m\u001b[0;34m\u001b[0m\u001b[0;34m\u001b[0m\u001b[0m\n\u001b[0m\u001b[1;32m   1320\u001b[0m         \u001b[0;32mif\u001b[0m \u001b[0m_is_zipfile\u001b[0m\u001b[0;34m(\u001b[0m\u001b[0mopened_file\u001b[0m\u001b[0;34m)\u001b[0m\u001b[0;34m:\u001b[0m\u001b[0;34m\u001b[0m\u001b[0;34m\u001b[0m\u001b[0m\n\u001b[1;32m   1321\u001b[0m             \u001b[0;31m# The zipfile reader is going to advance the current file position.\u001b[0m\u001b[0;34m\u001b[0m\u001b[0;34m\u001b[0m\u001b[0m\n",
      "\u001b[0;32m/usr/local/lib/python3.11/dist-packages/torch/serialization.py\u001b[0m in \u001b[0;36m_open_file_like\u001b[0;34m(name_or_buffer, mode)\u001b[0m\n\u001b[1;32m    657\u001b[0m \u001b[0;32mdef\u001b[0m \u001b[0m_open_file_like\u001b[0m\u001b[0;34m(\u001b[0m\u001b[0mname_or_buffer\u001b[0m\u001b[0;34m,\u001b[0m \u001b[0mmode\u001b[0m\u001b[0;34m)\u001b[0m\u001b[0;34m:\u001b[0m\u001b[0;34m\u001b[0m\u001b[0;34m\u001b[0m\u001b[0m\n\u001b[1;32m    658\u001b[0m     \u001b[0;32mif\u001b[0m \u001b[0m_is_path\u001b[0m\u001b[0;34m(\u001b[0m\u001b[0mname_or_buffer\u001b[0m\u001b[0;34m)\u001b[0m\u001b[0;34m:\u001b[0m\u001b[0;34m\u001b[0m\u001b[0;34m\u001b[0m\u001b[0m\n\u001b[0;32m--> 659\u001b[0;31m         \u001b[0;32mreturn\u001b[0m \u001b[0m_open_file\u001b[0m\u001b[0;34m(\u001b[0m\u001b[0mname_or_buffer\u001b[0m\u001b[0;34m,\u001b[0m \u001b[0mmode\u001b[0m\u001b[0;34m)\u001b[0m\u001b[0;34m\u001b[0m\u001b[0;34m\u001b[0m\u001b[0m\n\u001b[0m\u001b[1;32m    660\u001b[0m     \u001b[0;32melse\u001b[0m\u001b[0;34m:\u001b[0m\u001b[0;34m\u001b[0m\u001b[0;34m\u001b[0m\u001b[0m\n\u001b[1;32m    661\u001b[0m         \u001b[0;32mif\u001b[0m \u001b[0;34m\"w\"\u001b[0m \u001b[0;32min\u001b[0m \u001b[0mmode\u001b[0m\u001b[0;34m:\u001b[0m\u001b[0;34m\u001b[0m\u001b[0;34m\u001b[0m\u001b[0m\n",
      "\u001b[0;32m/usr/local/lib/python3.11/dist-packages/torch/serialization.py\u001b[0m in \u001b[0;36m__init__\u001b[0;34m(self, name, mode)\u001b[0m\n\u001b[1;32m    638\u001b[0m \u001b[0;32mclass\u001b[0m \u001b[0m_open_file\u001b[0m\u001b[0;34m(\u001b[0m\u001b[0m_opener\u001b[0m\u001b[0;34m)\u001b[0m\u001b[0;34m:\u001b[0m\u001b[0;34m\u001b[0m\u001b[0;34m\u001b[0m\u001b[0m\n\u001b[1;32m    639\u001b[0m     \u001b[0;32mdef\u001b[0m \u001b[0m__init__\u001b[0m\u001b[0;34m(\u001b[0m\u001b[0mself\u001b[0m\u001b[0;34m,\u001b[0m \u001b[0mname\u001b[0m\u001b[0;34m,\u001b[0m \u001b[0mmode\u001b[0m\u001b[0;34m)\u001b[0m\u001b[0;34m:\u001b[0m\u001b[0;34m\u001b[0m\u001b[0;34m\u001b[0m\u001b[0m\n\u001b[0;32m--> 640\u001b[0;31m         \u001b[0msuper\u001b[0m\u001b[0;34m(\u001b[0m\u001b[0;34m)\u001b[0m\u001b[0;34m.\u001b[0m\u001b[0m__init__\u001b[0m\u001b[0;34m(\u001b[0m\u001b[0mopen\u001b[0m\u001b[0;34m(\u001b[0m\u001b[0mname\u001b[0m\u001b[0;34m,\u001b[0m \u001b[0mmode\u001b[0m\u001b[0;34m)\u001b[0m\u001b[0;34m)\u001b[0m\u001b[0;34m\u001b[0m\u001b[0;34m\u001b[0m\u001b[0m\n\u001b[0m\u001b[1;32m    641\u001b[0m \u001b[0;34m\u001b[0m\u001b[0m\n\u001b[1;32m    642\u001b[0m     \u001b[0;32mdef\u001b[0m \u001b[0m__exit__\u001b[0m\u001b[0;34m(\u001b[0m\u001b[0mself\u001b[0m\u001b[0;34m,\u001b[0m \u001b[0;34m*\u001b[0m\u001b[0margs\u001b[0m\u001b[0;34m)\u001b[0m\u001b[0;34m:\u001b[0m\u001b[0;34m\u001b[0m\u001b[0;34m\u001b[0m\u001b[0m\n",
      "\u001b[0;31mFileNotFoundError\u001b[0m: [Errno 2] No such file or directory: '/content/drive/MyDrive/成果物3/Angerbert+_norm/tohoku-nlp_bert-base-japanese-v3__epoch001__20250110_1151.pth'"
     ]
    }
   ],
   "source": [
    "# モデルの重みをロードする関数\n",
    "def load_model_weights(model, checkpoint_path, device):\n",
    "    checkpoint = torch.load(checkpoint_path, map_location=device)\n",
    "    model.load_state_dict(checkpoint['model_state_dict'])\n",
    "    return model\n",
    "\n",
    "# 推測用の関数\n",
    "def predict(model, dataloader, device):\n",
    "    model.eval()\n",
    "    preds = []\n",
    "\n",
    "    with torch.no_grad():\n",
    "        for batch in tqdm(dataloader, desc=\"Predicting\"):\n",
    "            inputs = batch\n",
    "            input_ids = inputs['input_ids'].to(device)\n",
    "            attention_mask = inputs['attention_mask'].to(device)\n",
    "\n",
    "            outputs = model(input_ids=input_ids, attention_mask=attention_mask)\n",
    "            _, batch_preds = torch.max(outputs, 1)\n",
    "            preds.extend(batch_preds.cpu().numpy())\n",
    "\n",
    "    return preds\n",
    "\n",
    "# モデルの重みをロード\n",
    "checkpoint_path = '/content/drive/MyDrive/成果物3/'+hps.model_state\n",
    "model = BertLstmCnnModel(model_name=hps.model_name)\n",
    "model = load_model_weights(model, checkpoint_path, device)\n",
    "model.to(device)\n",
    "tokenizer = BertTokenizer.from_pretrained(hps.model_name)\n",
    "# 新たな文章をトークン化する関数\n",
    "def predict_tokenize_function(batch):\n",
    "    tokenized_batch = tokenizer(batch['歌い出し'], padding='max_length', truncation=True, max_length=256)\n",
    "    return tokenized_batch\n",
    "\n",
    "# 新たなデータを読み込んでトークン化\n",
    "dfp = pd.read_csv('artist_combined.csv', encoding='shift_jis')\n",
    "dfp['歌い出し'] = dfp['歌い出し'].str.replace('\\\\U3000', '')\n",
    "df_pre = Dataset.from_pandas(dfp['歌い出し'].to_frame())\n",
    "predict_tokenized_dataset = df_pre.map(predict_tokenize_function, batched=True)\n",
    "\n",
    "def collate_fn(batch):\n",
    "    \"\"\"バッチを辞書として返すcollate関数\"\"\"\n",
    "    input_ids = torch.stack([torch.tensor(item['input_ids']) for item in batch])\n",
    "    attention_mask = torch.stack([torch.tensor(item['attention_mask']) for item in batch])\n",
    "    # labelsは予測時には不要なので除外\n",
    "    return {'input_ids': input_ids, 'attention_mask': attention_mask}\n",
    "\n",
    "# DataLoaderを作成\n",
    "predict_loader = DataLoader(predict_tokenized_dataset,\n",
    "                          batch_size=hps.batch_size,\n",
    "                          shuffle=False,\n",
    "                          collate_fn=collate_fn) # collate_fnを指定\n",
    "\n",
    "# 推測を実行\n",
    "predictions = predict(model, predict_loader, device)\n",
    "\n",
    "# 推測結果をデータフレームに保存\n",
    "dfe = pd.DataFrame()\n",
    "dfe['Anger'] = predictions\n",
    "dfe.to_csv(hps.emotion + 'predictions.csv', index=False, encoding='utf-8-sig')\n",
    "print(\"Predictions saved to 'predictions.csv'\")\n"
   ]
  }
 ],
 "metadata": {
  "accelerator": "GPU",
  "colab": {
   "gpuType": "T4",
   "provenance": []
  },
  "kernelspec": {
   "display_name": "Python 3 (ipykernel)",
   "language": "python",
   "name": "python3"
  },
  "language_info": {
   "codemirror_mode": {
    "name": "ipython",
    "version": 3
   },
   "file_extension": ".py",
   "mimetype": "text/x-python",
   "name": "python",
   "nbconvert_exporter": "python",
   "pygments_lexer": "ipython3",
   "version": "3.11.5"
  },
  "widgets": {
   "application/vnd.jupyter.widget-state+json": {
    "049fe745765240c9bdf8e93456be322a": {
     "model_module": "@jupyter-widgets/controls",
     "model_module_version": "1.5.0",
     "model_name": "HBoxModel",
     "state": {
      "_dom_classes": [],
      "_model_module": "@jupyter-widgets/controls",
      "_model_module_version": "1.5.0",
      "_model_name": "HBoxModel",
      "_view_count": null,
      "_view_module": "@jupyter-widgets/controls",
      "_view_module_version": "1.5.0",
      "_view_name": "HBoxView",
      "box_style": "",
      "children": [
       "IPY_MODEL_d642ca95ef4345e0a728e26d0f4ed708",
       "IPY_MODEL_d9ca9cb641734e41bc3c17d904a9bf4f",
       "IPY_MODEL_dd2a7058278e42b485f3adc1381ec239"
      ],
      "layout": "IPY_MODEL_4bfff687658649b687ed3ba94ea179ec"
     }
    },
    "05ae4845e2e14b07851b839f8ad9a8d9": {
     "model_module": "@jupyter-widgets/controls",
     "model_module_version": "1.5.0",
     "model_name": "HBoxModel",
     "state": {
      "_dom_classes": [],
      "_model_module": "@jupyter-widgets/controls",
      "_model_module_version": "1.5.0",
      "_model_name": "HBoxModel",
      "_view_count": null,
      "_view_module": "@jupyter-widgets/controls",
      "_view_module_version": "1.5.0",
      "_view_name": "HBoxView",
      "box_style": "",
      "children": [
       "IPY_MODEL_de83c1bcf76444cbab6f1dec2af8b2d6",
       "IPY_MODEL_964455efbff6444fbceede9c13825327",
       "IPY_MODEL_8f23320d50f147d1a2c8b877470e48f3"
      ],
      "layout": "IPY_MODEL_ed12ae70f6574412a46a46d615a054e2"
     }
    },
    "080e7f840f5b4531b54015addcf51d99": {
     "model_module": "@jupyter-widgets/controls",
     "model_module_version": "1.5.0",
     "model_name": "FloatProgressModel",
     "state": {
      "_dom_classes": [],
      "_model_module": "@jupyter-widgets/controls",
      "_model_module_version": "1.5.0",
      "_model_name": "FloatProgressModel",
      "_view_count": null,
      "_view_module": "@jupyter-widgets/controls",
      "_view_module_version": "1.5.0",
      "_view_name": "ProgressView",
      "bar_style": "success",
      "description": "",
      "description_tooltip": null,
      "layout": "IPY_MODEL_89713677008249fe8c88de77110126c9",
      "max": 447406217,
      "min": 0,
      "orientation": "horizontal",
      "style": "IPY_MODEL_4a7a095dfc3e4a668fd682c5815adfad",
      "value": 447406217
     }
    },
    "0d59d4853edd478793771ab18ad2e29c": {
     "model_module": "@jupyter-widgets/base",
     "model_module_version": "1.2.0",
     "model_name": "LayoutModel",
     "state": {
      "_model_module": "@jupyter-widgets/base",
      "_model_module_version": "1.2.0",
      "_model_name": "LayoutModel",
      "_view_count": null,
      "_view_module": "@jupyter-widgets/base",
      "_view_module_version": "1.2.0",
      "_view_name": "LayoutView",
      "align_content": null,
      "align_items": null,
      "align_self": null,
      "border": null,
      "bottom": null,
      "display": null,
      "flex": null,
      "flex_flow": null,
      "grid_area": null,
      "grid_auto_columns": null,
      "grid_auto_flow": null,
      "grid_auto_rows": null,
      "grid_column": null,
      "grid_gap": null,
      "grid_row": null,
      "grid_template_areas": null,
      "grid_template_columns": null,
      "grid_template_rows": null,
      "height": null,
      "justify_content": null,
      "justify_items": null,
      "left": null,
      "margin": null,
      "max_height": null,
      "max_width": null,
      "min_height": null,
      "min_width": null,
      "object_fit": null,
      "object_position": null,
      "order": null,
      "overflow": null,
      "overflow_x": null,
      "overflow_y": null,
      "padding": null,
      "right": null,
      "top": null,
      "visibility": null,
      "width": null
     }
    },
    "173b01bc656148c390a927d1d957dcf2": {
     "model_module": "@jupyter-widgets/base",
     "model_module_version": "1.2.0",
     "model_name": "LayoutModel",
     "state": {
      "_model_module": "@jupyter-widgets/base",
      "_model_module_version": "1.2.0",
      "_model_name": "LayoutModel",
      "_view_count": null,
      "_view_module": "@jupyter-widgets/base",
      "_view_module_version": "1.2.0",
      "_view_name": "LayoutView",
      "align_content": null,
      "align_items": null,
      "align_self": null,
      "border": null,
      "bottom": null,
      "display": null,
      "flex": null,
      "flex_flow": null,
      "grid_area": null,
      "grid_auto_columns": null,
      "grid_auto_flow": null,
      "grid_auto_rows": null,
      "grid_column": null,
      "grid_gap": null,
      "grid_row": null,
      "grid_template_areas": null,
      "grid_template_columns": null,
      "grid_template_rows": null,
      "height": null,
      "justify_content": null,
      "justify_items": null,
      "left": null,
      "margin": null,
      "max_height": null,
      "max_width": null,
      "min_height": null,
      "min_width": null,
      "object_fit": null,
      "object_position": null,
      "order": null,
      "overflow": null,
      "overflow_x": null,
      "overflow_y": null,
      "padding": null,
      "right": null,
      "top": null,
      "visibility": null,
      "width": null
     }
    },
    "1db0df2e23314fed99e2ff501f861a17": {
     "model_module": "@jupyter-widgets/controls",
     "model_module_version": "1.5.0",
     "model_name": "FloatProgressModel",
     "state": {
      "_dom_classes": [],
      "_model_module": "@jupyter-widgets/controls",
      "_model_module_version": "1.5.0",
      "_model_name": "FloatProgressModel",
      "_view_count": null,
      "_view_module": "@jupyter-widgets/controls",
      "_view_module_version": "1.5.0",
      "_view_name": "ProgressView",
      "bar_style": "success",
      "description": "",
      "description_tooltip": null,
      "layout": "IPY_MODEL_ba0a2ddf0fc04ff68800d98f1af25018",
      "max": 251,
      "min": 0,
      "orientation": "horizontal",
      "style": "IPY_MODEL_6f4cfdd2f8d14d8594ae1705e1b3dfd8",
      "value": 251
     }
    },
    "1ee17a181aaf42fdaa4e63d1e38a3b9e": {
     "model_module": "@jupyter-widgets/controls",
     "model_module_version": "1.5.0",
     "model_name": "HTMLModel",
     "state": {
      "_dom_classes": [],
      "_model_module": "@jupyter-widgets/controls",
      "_model_module_version": "1.5.0",
      "_model_name": "HTMLModel",
      "_view_count": null,
      "_view_module": "@jupyter-widgets/controls",
      "_view_module_version": "1.5.0",
      "_view_name": "HTMLView",
      "description": "",
      "description_tooltip": null,
      "layout": "IPY_MODEL_4b7c6c7bb78244b182bc614aaacaead4",
      "placeholder": "​",
      "style": "IPY_MODEL_3b6b3c2ffca44ad196274739e1990968",
      "value": "tokenizer_config.json: 100%"
     }
    },
    "209a7ae70e4d486686e7757c1dd93705": {
     "model_module": "@jupyter-widgets/controls",
     "model_module_version": "1.5.0",
     "model_name": "HTMLModel",
     "state": {
      "_dom_classes": [],
      "_model_module": "@jupyter-widgets/controls",
      "_model_module_version": "1.5.0",
      "_model_name": "HTMLModel",
      "_view_count": null,
      "_view_module": "@jupyter-widgets/controls",
      "_view_module_version": "1.5.0",
      "_view_name": "HTMLView",
      "description": "",
      "description_tooltip": null,
      "layout": "IPY_MODEL_b9452c9dab08437bbb3ff083af6582db",
      "placeholder": "​",
      "style": "IPY_MODEL_7dbb5fc6413545d1895ec06aa8064b38",
      "value": " 447M/447M [00:04&lt;00:00, 41.1MB/s]"
     }
    },
    "2327cc5c3f154ea4973c79802ebb017c": {
     "model_module": "@jupyter-widgets/base",
     "model_module_version": "1.2.0",
     "model_name": "LayoutModel",
     "state": {
      "_model_module": "@jupyter-widgets/base",
      "_model_module_version": "1.2.0",
      "_model_name": "LayoutModel",
      "_view_count": null,
      "_view_module": "@jupyter-widgets/base",
      "_view_module_version": "1.2.0",
      "_view_name": "LayoutView",
      "align_content": null,
      "align_items": null,
      "align_self": null,
      "border": null,
      "bottom": null,
      "display": null,
      "flex": null,
      "flex_flow": null,
      "grid_area": null,
      "grid_auto_columns": null,
      "grid_auto_flow": null,
      "grid_auto_rows": null,
      "grid_column": null,
      "grid_gap": null,
      "grid_row": null,
      "grid_template_areas": null,
      "grid_template_columns": null,
      "grid_template_rows": null,
      "height": null,
      "justify_content": null,
      "justify_items": null,
      "left": null,
      "margin": null,
      "max_height": null,
      "max_width": null,
      "min_height": null,
      "min_width": null,
      "object_fit": null,
      "object_position": null,
      "order": null,
      "overflow": null,
      "overflow_x": null,
      "overflow_y": null,
      "padding": null,
      "right": null,
      "top": null,
      "visibility": null,
      "width": null
     }
    },
    "23984ac7f79e4240b6d268fe99917475": {
     "model_module": "@jupyter-widgets/base",
     "model_module_version": "1.2.0",
     "model_name": "LayoutModel",
     "state": {
      "_model_module": "@jupyter-widgets/base",
      "_model_module_version": "1.2.0",
      "_model_name": "LayoutModel",
      "_view_count": null,
      "_view_module": "@jupyter-widgets/base",
      "_view_module_version": "1.2.0",
      "_view_name": "LayoutView",
      "align_content": null,
      "align_items": null,
      "align_self": null,
      "border": null,
      "bottom": null,
      "display": null,
      "flex": null,
      "flex_flow": null,
      "grid_area": null,
      "grid_auto_columns": null,
      "grid_auto_flow": null,
      "grid_auto_rows": null,
      "grid_column": null,
      "grid_gap": null,
      "grid_row": null,
      "grid_template_areas": null,
      "grid_template_columns": null,
      "grid_template_rows": null,
      "height": null,
      "justify_content": null,
      "justify_items": null,
      "left": null,
      "margin": null,
      "max_height": null,
      "max_width": null,
      "min_height": null,
      "min_width": null,
      "object_fit": null,
      "object_position": null,
      "order": null,
      "overflow": null,
      "overflow_x": null,
      "overflow_y": null,
      "padding": null,
      "right": null,
      "top": null,
      "visibility": null,
      "width": null
     }
    },
    "2da2d7e462d4413a88afb6c9e3508abb": {
     "model_module": "@jupyter-widgets/controls",
     "model_module_version": "1.5.0",
     "model_name": "HTMLModel",
     "state": {
      "_dom_classes": [],
      "_model_module": "@jupyter-widgets/controls",
      "_model_module_version": "1.5.0",
      "_model_name": "HTMLModel",
      "_view_count": null,
      "_view_module": "@jupyter-widgets/controls",
      "_view_module_version": "1.5.0",
      "_view_name": "HTMLView",
      "description": "",
      "description_tooltip": null,
      "layout": "IPY_MODEL_23984ac7f79e4240b6d268fe99917475",
      "placeholder": "​",
      "style": "IPY_MODEL_63026499ca12459e90a3d615decafb54",
      "value": " 472/472 [00:00&lt;00:00, 29.4kB/s]"
     }
    },
    "2e8d2a5e16534999a55748fab97e6f92": {
     "model_module": "@jupyter-widgets/base",
     "model_module_version": "1.2.0",
     "model_name": "LayoutModel",
     "state": {
      "_model_module": "@jupyter-widgets/base",
      "_model_module_version": "1.2.0",
      "_model_name": "LayoutModel",
      "_view_count": null,
      "_view_module": "@jupyter-widgets/base",
      "_view_module_version": "1.2.0",
      "_view_name": "LayoutView",
      "align_content": null,
      "align_items": null,
      "align_self": null,
      "border": null,
      "bottom": null,
      "display": null,
      "flex": null,
      "flex_flow": null,
      "grid_area": null,
      "grid_auto_columns": null,
      "grid_auto_flow": null,
      "grid_auto_rows": null,
      "grid_column": null,
      "grid_gap": null,
      "grid_row": null,
      "grid_template_areas": null,
      "grid_template_columns": null,
      "grid_template_rows": null,
      "height": null,
      "justify_content": null,
      "justify_items": null,
      "left": null,
      "margin": null,
      "max_height": null,
      "max_width": null,
      "min_height": null,
      "min_width": null,
      "object_fit": null,
      "object_position": null,
      "order": null,
      "overflow": null,
      "overflow_x": null,
      "overflow_y": null,
      "padding": null,
      "right": null,
      "top": null,
      "visibility": null,
      "width": null
     }
    },
    "356c761e2e8645a79fc338f59875c2db": {
     "model_module": "@jupyter-widgets/controls",
     "model_module_version": "1.5.0",
     "model_name": "HTMLModel",
     "state": {
      "_dom_classes": [],
      "_model_module": "@jupyter-widgets/controls",
      "_model_module_version": "1.5.0",
      "_model_name": "HTMLModel",
      "_view_count": null,
      "_view_module": "@jupyter-widgets/controls",
      "_view_module_version": "1.5.0",
      "_view_name": "HTMLView",
      "description": "",
      "description_tooltip": null,
      "layout": "IPY_MODEL_9b9af20817fb4e7096e44e8a77ac8d00",
      "placeholder": "​",
      "style": "IPY_MODEL_6ef6a509da7742199b15f80207953de3",
      "value": "Map: 100%"
     }
    },
    "3647cb0dfe2e48249b291d2f58ff7a81": {
     "model_module": "@jupyter-widgets/controls",
     "model_module_version": "1.5.0",
     "model_name": "HBoxModel",
     "state": {
      "_dom_classes": [],
      "_model_module": "@jupyter-widgets/controls",
      "_model_module_version": "1.5.0",
      "_model_name": "HBoxModel",
      "_view_count": null,
      "_view_module": "@jupyter-widgets/controls",
      "_view_module_version": "1.5.0",
      "_view_name": "HBoxView",
      "box_style": "",
      "children": [
       "IPY_MODEL_8ef604f705cb49a08f43acdd731ad166",
       "IPY_MODEL_080e7f840f5b4531b54015addcf51d99",
       "IPY_MODEL_209a7ae70e4d486686e7757c1dd93705"
      ],
      "layout": "IPY_MODEL_2327cc5c3f154ea4973c79802ebb017c"
     }
    },
    "3b1e9bf1922a4017b39bcadf3be242db": {
     "model_module": "@jupyter-widgets/base",
     "model_module_version": "1.2.0",
     "model_name": "LayoutModel",
     "state": {
      "_model_module": "@jupyter-widgets/base",
      "_model_module_version": "1.2.0",
      "_model_name": "LayoutModel",
      "_view_count": null,
      "_view_module": "@jupyter-widgets/base",
      "_view_module_version": "1.2.0",
      "_view_name": "LayoutView",
      "align_content": null,
      "align_items": null,
      "align_self": null,
      "border": null,
      "bottom": null,
      "display": null,
      "flex": null,
      "flex_flow": null,
      "grid_area": null,
      "grid_auto_columns": null,
      "grid_auto_flow": null,
      "grid_auto_rows": null,
      "grid_column": null,
      "grid_gap": null,
      "grid_row": null,
      "grid_template_areas": null,
      "grid_template_columns": null,
      "grid_template_rows": null,
      "height": null,
      "justify_content": null,
      "justify_items": null,
      "left": null,
      "margin": null,
      "max_height": null,
      "max_width": null,
      "min_height": null,
      "min_width": null,
      "object_fit": null,
      "object_position": null,
      "order": null,
      "overflow": null,
      "overflow_x": null,
      "overflow_y": null,
      "padding": null,
      "right": null,
      "top": null,
      "visibility": null,
      "width": null
     }
    },
    "3b6b3c2ffca44ad196274739e1990968": {
     "model_module": "@jupyter-widgets/controls",
     "model_module_version": "1.5.0",
     "model_name": "DescriptionStyleModel",
     "state": {
      "_model_module": "@jupyter-widgets/controls",
      "_model_module_version": "1.5.0",
      "_model_name": "DescriptionStyleModel",
      "_view_count": null,
      "_view_module": "@jupyter-widgets/base",
      "_view_module_version": "1.2.0",
      "_view_name": "StyleView",
      "description_width": ""
     }
    },
    "3cf5c752902643ebb480a62e256c261f": {
     "model_module": "@jupyter-widgets/controls",
     "model_module_version": "1.5.0",
     "model_name": "HTMLModel",
     "state": {
      "_dom_classes": [],
      "_model_module": "@jupyter-widgets/controls",
      "_model_module_version": "1.5.0",
      "_model_name": "HTMLModel",
      "_view_count": null,
      "_view_module": "@jupyter-widgets/controls",
      "_view_module_version": "1.5.0",
      "_view_name": "HTMLView",
      "description": "",
      "description_tooltip": null,
      "layout": "IPY_MODEL_c9e94209c0434dc988f98ced719561bf",
      "placeholder": "​",
      "style": "IPY_MODEL_7005da4c76cd4f79a43b70ab596d6a3b",
      "value": " 231k/231k [00:00&lt;00:00, 1.08MB/s]"
     }
    },
    "3dca914f08b24eae87b15676428876d1": {
     "model_module": "@jupyter-widgets/controls",
     "model_module_version": "1.5.0",
     "model_name": "HTMLModel",
     "state": {
      "_dom_classes": [],
      "_model_module": "@jupyter-widgets/controls",
      "_model_module_version": "1.5.0",
      "_model_name": "HTMLModel",
      "_view_count": null,
      "_view_module": "@jupyter-widgets/controls",
      "_view_module_version": "1.5.0",
      "_view_name": "HTMLView",
      "description": "",
      "description_tooltip": null,
      "layout": "IPY_MODEL_6b9bae82ba4e48a783d40a9298e860d5",
      "placeholder": "​",
      "style": "IPY_MODEL_eb6b405699a4434fbf3b0473d820208f",
      "value": " 11909/11909 [00:04&lt;00:00, 2414.53 examples/s]"
     }
    },
    "450a3fd5fdf4464999724cda98d6cfce": {
     "model_module": "@jupyter-widgets/base",
     "model_module_version": "1.2.0",
     "model_name": "LayoutModel",
     "state": {
      "_model_module": "@jupyter-widgets/base",
      "_model_module_version": "1.2.0",
      "_model_name": "LayoutModel",
      "_view_count": null,
      "_view_module": "@jupyter-widgets/base",
      "_view_module_version": "1.2.0",
      "_view_name": "LayoutView",
      "align_content": null,
      "align_items": null,
      "align_self": null,
      "border": null,
      "bottom": null,
      "display": null,
      "flex": null,
      "flex_flow": null,
      "grid_area": null,
      "grid_auto_columns": null,
      "grid_auto_flow": null,
      "grid_auto_rows": null,
      "grid_column": null,
      "grid_gap": null,
      "grid_row": null,
      "grid_template_areas": null,
      "grid_template_columns": null,
      "grid_template_rows": null,
      "height": null,
      "justify_content": null,
      "justify_items": null,
      "left": null,
      "margin": null,
      "max_height": null,
      "max_width": null,
      "min_height": null,
      "min_width": null,
      "object_fit": null,
      "object_position": null,
      "order": null,
      "overflow": null,
      "overflow_x": null,
      "overflow_y": null,
      "padding": null,
      "right": null,
      "top": null,
      "visibility": null,
      "width": null
     }
    },
    "4a7a095dfc3e4a668fd682c5815adfad": {
     "model_module": "@jupyter-widgets/controls",
     "model_module_version": "1.5.0",
     "model_name": "ProgressStyleModel",
     "state": {
      "_model_module": "@jupyter-widgets/controls",
      "_model_module_version": "1.5.0",
      "_model_name": "ProgressStyleModel",
      "_view_count": null,
      "_view_module": "@jupyter-widgets/base",
      "_view_module_version": "1.2.0",
      "_view_name": "StyleView",
      "bar_color": null,
      "description_width": ""
     }
    },
    "4b7c6c7bb78244b182bc614aaacaead4": {
     "model_module": "@jupyter-widgets/base",
     "model_module_version": "1.2.0",
     "model_name": "LayoutModel",
     "state": {
      "_model_module": "@jupyter-widgets/base",
      "_model_module_version": "1.2.0",
      "_model_name": "LayoutModel",
      "_view_count": null,
      "_view_module": "@jupyter-widgets/base",
      "_view_module_version": "1.2.0",
      "_view_name": "LayoutView",
      "align_content": null,
      "align_items": null,
      "align_self": null,
      "border": null,
      "bottom": null,
      "display": null,
      "flex": null,
      "flex_flow": null,
      "grid_area": null,
      "grid_auto_columns": null,
      "grid_auto_flow": null,
      "grid_auto_rows": null,
      "grid_column": null,
      "grid_gap": null,
      "grid_row": null,
      "grid_template_areas": null,
      "grid_template_columns": null,
      "grid_template_rows": null,
      "height": null,
      "justify_content": null,
      "justify_items": null,
      "left": null,
      "margin": null,
      "max_height": null,
      "max_width": null,
      "min_height": null,
      "min_width": null,
      "object_fit": null,
      "object_position": null,
      "order": null,
      "overflow": null,
      "overflow_x": null,
      "overflow_y": null,
      "padding": null,
      "right": null,
      "top": null,
      "visibility": null,
      "width": null
     }
    },
    "4be0241a80184c98959ffa741adc699b": {
     "model_module": "@jupyter-widgets/base",
     "model_module_version": "1.2.0",
     "model_name": "LayoutModel",
     "state": {
      "_model_module": "@jupyter-widgets/base",
      "_model_module_version": "1.2.0",
      "_model_name": "LayoutModel",
      "_view_count": null,
      "_view_module": "@jupyter-widgets/base",
      "_view_module_version": "1.2.0",
      "_view_name": "LayoutView",
      "align_content": null,
      "align_items": null,
      "align_self": null,
      "border": null,
      "bottom": null,
      "display": null,
      "flex": null,
      "flex_flow": null,
      "grid_area": null,
      "grid_auto_columns": null,
      "grid_auto_flow": null,
      "grid_auto_rows": null,
      "grid_column": null,
      "grid_gap": null,
      "grid_row": null,
      "grid_template_areas": null,
      "grid_template_columns": null,
      "grid_template_rows": null,
      "height": null,
      "justify_content": null,
      "justify_items": null,
      "left": null,
      "margin": null,
      "max_height": null,
      "max_width": null,
      "min_height": null,
      "min_width": null,
      "object_fit": null,
      "object_position": null,
      "order": null,
      "overflow": null,
      "overflow_x": null,
      "overflow_y": null,
      "padding": null,
      "right": null,
      "top": null,
      "visibility": null,
      "width": null
     }
    },
    "4bfff687658649b687ed3ba94ea179ec": {
     "model_module": "@jupyter-widgets/base",
     "model_module_version": "1.2.0",
     "model_name": "LayoutModel",
     "state": {
      "_model_module": "@jupyter-widgets/base",
      "_model_module_version": "1.2.0",
      "_model_name": "LayoutModel",
      "_view_count": null,
      "_view_module": "@jupyter-widgets/base",
      "_view_module_version": "1.2.0",
      "_view_name": "LayoutView",
      "align_content": null,
      "align_items": null,
      "align_self": null,
      "border": null,
      "bottom": null,
      "display": null,
      "flex": null,
      "flex_flow": null,
      "grid_area": null,
      "grid_auto_columns": null,
      "grid_auto_flow": null,
      "grid_auto_rows": null,
      "grid_column": null,
      "grid_gap": null,
      "grid_row": null,
      "grid_template_areas": null,
      "grid_template_columns": null,
      "grid_template_rows": null,
      "height": null,
      "justify_content": null,
      "justify_items": null,
      "left": null,
      "margin": null,
      "max_height": null,
      "max_width": null,
      "min_height": null,
      "min_width": null,
      "object_fit": null,
      "object_position": null,
      "order": null,
      "overflow": null,
      "overflow_x": null,
      "overflow_y": null,
      "padding": null,
      "right": null,
      "top": null,
      "visibility": null,
      "width": null
     }
    },
    "50c7b936068d41b6a59d209406e43f9b": {
     "model_module": "@jupyter-widgets/base",
     "model_module_version": "1.2.0",
     "model_name": "LayoutModel",
     "state": {
      "_model_module": "@jupyter-widgets/base",
      "_model_module_version": "1.2.0",
      "_model_name": "LayoutModel",
      "_view_count": null,
      "_view_module": "@jupyter-widgets/base",
      "_view_module_version": "1.2.0",
      "_view_name": "LayoutView",
      "align_content": null,
      "align_items": null,
      "align_self": null,
      "border": null,
      "bottom": null,
      "display": null,
      "flex": null,
      "flex_flow": null,
      "grid_area": null,
      "grid_auto_columns": null,
      "grid_auto_flow": null,
      "grid_auto_rows": null,
      "grid_column": null,
      "grid_gap": null,
      "grid_row": null,
      "grid_template_areas": null,
      "grid_template_columns": null,
      "grid_template_rows": null,
      "height": null,
      "justify_content": null,
      "justify_items": null,
      "left": null,
      "margin": null,
      "max_height": null,
      "max_width": null,
      "min_height": null,
      "min_width": null,
      "object_fit": null,
      "object_position": null,
      "order": null,
      "overflow": null,
      "overflow_x": null,
      "overflow_y": null,
      "padding": null,
      "right": null,
      "top": null,
      "visibility": null,
      "width": null
     }
    },
    "51dc77b0501442ee9722d7bdce864b18": {
     "model_module": "@jupyter-widgets/base",
     "model_module_version": "1.2.0",
     "model_name": "LayoutModel",
     "state": {
      "_model_module": "@jupyter-widgets/base",
      "_model_module_version": "1.2.0",
      "_model_name": "LayoutModel",
      "_view_count": null,
      "_view_module": "@jupyter-widgets/base",
      "_view_module_version": "1.2.0",
      "_view_name": "LayoutView",
      "align_content": null,
      "align_items": null,
      "align_self": null,
      "border": null,
      "bottom": null,
      "display": null,
      "flex": null,
      "flex_flow": null,
      "grid_area": null,
      "grid_auto_columns": null,
      "grid_auto_flow": null,
      "grid_auto_rows": null,
      "grid_column": null,
      "grid_gap": null,
      "grid_row": null,
      "grid_template_areas": null,
      "grid_template_columns": null,
      "grid_template_rows": null,
      "height": null,
      "justify_content": null,
      "justify_items": null,
      "left": null,
      "margin": null,
      "max_height": null,
      "max_width": null,
      "min_height": null,
      "min_width": null,
      "object_fit": null,
      "object_position": null,
      "order": null,
      "overflow": null,
      "overflow_x": null,
      "overflow_y": null,
      "padding": null,
      "right": null,
      "top": null,
      "visibility": null,
      "width": null
     }
    },
    "571bbbbf04fc4971812b0051fde8ef24": {
     "model_module": "@jupyter-widgets/controls",
     "model_module_version": "1.5.0",
     "model_name": "ProgressStyleModel",
     "state": {
      "_model_module": "@jupyter-widgets/controls",
      "_model_module_version": "1.5.0",
      "_model_name": "ProgressStyleModel",
      "_view_count": null,
      "_view_module": "@jupyter-widgets/base",
      "_view_module_version": "1.2.0",
      "_view_name": "StyleView",
      "bar_color": null,
      "description_width": ""
     }
    },
    "5a19f255699f4e299022b0c630dbf9e6": {
     "model_module": "@jupyter-widgets/controls",
     "model_module_version": "1.5.0",
     "model_name": "DescriptionStyleModel",
     "state": {
      "_model_module": "@jupyter-widgets/controls",
      "_model_module_version": "1.5.0",
      "_model_name": "DescriptionStyleModel",
      "_view_count": null,
      "_view_module": "@jupyter-widgets/base",
      "_view_module_version": "1.2.0",
      "_view_name": "StyleView",
      "description_width": ""
     }
    },
    "5fe618d2338243fb9ac6918bc52351a8": {
     "model_module": "@jupyter-widgets/controls",
     "model_module_version": "1.5.0",
     "model_name": "ProgressStyleModel",
     "state": {
      "_model_module": "@jupyter-widgets/controls",
      "_model_module_version": "1.5.0",
      "_model_name": "ProgressStyleModel",
      "_view_count": null,
      "_view_module": "@jupyter-widgets/base",
      "_view_module_version": "1.2.0",
      "_view_name": "StyleView",
      "bar_color": null,
      "description_width": ""
     }
    },
    "63026499ca12459e90a3d615decafb54": {
     "model_module": "@jupyter-widgets/controls",
     "model_module_version": "1.5.0",
     "model_name": "DescriptionStyleModel",
     "state": {
      "_model_module": "@jupyter-widgets/controls",
      "_model_module_version": "1.5.0",
      "_model_name": "DescriptionStyleModel",
      "_view_count": null,
      "_view_module": "@jupyter-widgets/base",
      "_view_module_version": "1.2.0",
      "_view_name": "StyleView",
      "description_width": ""
     }
    },
    "6367131cd7e6402583c6c3dcc91ca192": {
     "model_module": "@jupyter-widgets/controls",
     "model_module_version": "1.5.0",
     "model_name": "ProgressStyleModel",
     "state": {
      "_model_module": "@jupyter-widgets/controls",
      "_model_module_version": "1.5.0",
      "_model_name": "ProgressStyleModel",
      "_view_count": null,
      "_view_module": "@jupyter-widgets/base",
      "_view_module_version": "1.2.0",
      "_view_name": "StyleView",
      "bar_color": null,
      "description_width": ""
     }
    },
    "6584aba534ef4d94848ed8bc0e5beace": {
     "model_module": "@jupyter-widgets/base",
     "model_module_version": "1.2.0",
     "model_name": "LayoutModel",
     "state": {
      "_model_module": "@jupyter-widgets/base",
      "_model_module_version": "1.2.0",
      "_model_name": "LayoutModel",
      "_view_count": null,
      "_view_module": "@jupyter-widgets/base",
      "_view_module_version": "1.2.0",
      "_view_name": "LayoutView",
      "align_content": null,
      "align_items": null,
      "align_self": null,
      "border": null,
      "bottom": null,
      "display": null,
      "flex": null,
      "flex_flow": null,
      "grid_area": null,
      "grid_auto_columns": null,
      "grid_auto_flow": null,
      "grid_auto_rows": null,
      "grid_column": null,
      "grid_gap": null,
      "grid_row": null,
      "grid_template_areas": null,
      "grid_template_columns": null,
      "grid_template_rows": null,
      "height": null,
      "justify_content": null,
      "justify_items": null,
      "left": null,
      "margin": null,
      "max_height": null,
      "max_width": null,
      "min_height": null,
      "min_width": null,
      "object_fit": null,
      "object_position": null,
      "order": null,
      "overflow": null,
      "overflow_x": null,
      "overflow_y": null,
      "padding": null,
      "right": null,
      "top": null,
      "visibility": null,
      "width": null
     }
    },
    "6b9bae82ba4e48a783d40a9298e860d5": {
     "model_module": "@jupyter-widgets/base",
     "model_module_version": "1.2.0",
     "model_name": "LayoutModel",
     "state": {
      "_model_module": "@jupyter-widgets/base",
      "_model_module_version": "1.2.0",
      "_model_name": "LayoutModel",
      "_view_count": null,
      "_view_module": "@jupyter-widgets/base",
      "_view_module_version": "1.2.0",
      "_view_name": "LayoutView",
      "align_content": null,
      "align_items": null,
      "align_self": null,
      "border": null,
      "bottom": null,
      "display": null,
      "flex": null,
      "flex_flow": null,
      "grid_area": null,
      "grid_auto_columns": null,
      "grid_auto_flow": null,
      "grid_auto_rows": null,
      "grid_column": null,
      "grid_gap": null,
      "grid_row": null,
      "grid_template_areas": null,
      "grid_template_columns": null,
      "grid_template_rows": null,
      "height": null,
      "justify_content": null,
      "justify_items": null,
      "left": null,
      "margin": null,
      "max_height": null,
      "max_width": null,
      "min_height": null,
      "min_width": null,
      "object_fit": null,
      "object_position": null,
      "order": null,
      "overflow": null,
      "overflow_x": null,
      "overflow_y": null,
      "padding": null,
      "right": null,
      "top": null,
      "visibility": null,
      "width": null
     }
    },
    "6ef6a509da7742199b15f80207953de3": {
     "model_module": "@jupyter-widgets/controls",
     "model_module_version": "1.5.0",
     "model_name": "DescriptionStyleModel",
     "state": {
      "_model_module": "@jupyter-widgets/controls",
      "_model_module_version": "1.5.0",
      "_model_name": "DescriptionStyleModel",
      "_view_count": null,
      "_view_module": "@jupyter-widgets/base",
      "_view_module_version": "1.2.0",
      "_view_name": "StyleView",
      "description_width": ""
     }
    },
    "6f4cfdd2f8d14d8594ae1705e1b3dfd8": {
     "model_module": "@jupyter-widgets/controls",
     "model_module_version": "1.5.0",
     "model_name": "ProgressStyleModel",
     "state": {
      "_model_module": "@jupyter-widgets/controls",
      "_model_module_version": "1.5.0",
      "_model_name": "ProgressStyleModel",
      "_view_count": null,
      "_view_module": "@jupyter-widgets/base",
      "_view_module_version": "1.2.0",
      "_view_name": "StyleView",
      "bar_color": null,
      "description_width": ""
     }
    },
    "7005da4c76cd4f79a43b70ab596d6a3b": {
     "model_module": "@jupyter-widgets/controls",
     "model_module_version": "1.5.0",
     "model_name": "DescriptionStyleModel",
     "state": {
      "_model_module": "@jupyter-widgets/controls",
      "_model_module_version": "1.5.0",
      "_model_name": "DescriptionStyleModel",
      "_view_count": null,
      "_view_module": "@jupyter-widgets/base",
      "_view_module_version": "1.2.0",
      "_view_name": "StyleView",
      "description_width": ""
     }
    },
    "7266ff13661d456abe26f857212cb873": {
     "model_module": "@jupyter-widgets/base",
     "model_module_version": "1.2.0",
     "model_name": "LayoutModel",
     "state": {
      "_model_module": "@jupyter-widgets/base",
      "_model_module_version": "1.2.0",
      "_model_name": "LayoutModel",
      "_view_count": null,
      "_view_module": "@jupyter-widgets/base",
      "_view_module_version": "1.2.0",
      "_view_name": "LayoutView",
      "align_content": null,
      "align_items": null,
      "align_self": null,
      "border": null,
      "bottom": null,
      "display": null,
      "flex": null,
      "flex_flow": null,
      "grid_area": null,
      "grid_auto_columns": null,
      "grid_auto_flow": null,
      "grid_auto_rows": null,
      "grid_column": null,
      "grid_gap": null,
      "grid_row": null,
      "grid_template_areas": null,
      "grid_template_columns": null,
      "grid_template_rows": null,
      "height": null,
      "justify_content": null,
      "justify_items": null,
      "left": null,
      "margin": null,
      "max_height": null,
      "max_width": null,
      "min_height": null,
      "min_width": null,
      "object_fit": null,
      "object_position": null,
      "order": null,
      "overflow": null,
      "overflow_x": null,
      "overflow_y": null,
      "padding": null,
      "right": null,
      "top": null,
      "visibility": null,
      "width": null
     }
    },
    "72e3ac3228f74df5b829d12cc6aae243": {
     "model_module": "@jupyter-widgets/controls",
     "model_module_version": "1.5.0",
     "model_name": "DescriptionStyleModel",
     "state": {
      "_model_module": "@jupyter-widgets/controls",
      "_model_module_version": "1.5.0",
      "_model_name": "DescriptionStyleModel",
      "_view_count": null,
      "_view_module": "@jupyter-widgets/base",
      "_view_module_version": "1.2.0",
      "_view_name": "StyleView",
      "description_width": ""
     }
    },
    "79ebedeefb414a72b2358c1d13d0c969": {
     "model_module": "@jupyter-widgets/controls",
     "model_module_version": "1.5.0",
     "model_name": "DescriptionStyleModel",
     "state": {
      "_model_module": "@jupyter-widgets/controls",
      "_model_module_version": "1.5.0",
      "_model_name": "DescriptionStyleModel",
      "_view_count": null,
      "_view_module": "@jupyter-widgets/base",
      "_view_module_version": "1.2.0",
      "_view_name": "StyleView",
      "description_width": ""
     }
    },
    "7dbb5fc6413545d1895ec06aa8064b38": {
     "model_module": "@jupyter-widgets/controls",
     "model_module_version": "1.5.0",
     "model_name": "DescriptionStyleModel",
     "state": {
      "_model_module": "@jupyter-widgets/controls",
      "_model_module_version": "1.5.0",
      "_model_name": "DescriptionStyleModel",
      "_view_count": null,
      "_view_module": "@jupyter-widgets/base",
      "_view_module_version": "1.2.0",
      "_view_name": "StyleView",
      "description_width": ""
     }
    },
    "83e49c4d066b4d7da4466f37df0c455c": {
     "model_module": "@jupyter-widgets/controls",
     "model_module_version": "1.5.0",
     "model_name": "HTMLModel",
     "state": {
      "_dom_classes": [],
      "_model_module": "@jupyter-widgets/controls",
      "_model_module_version": "1.5.0",
      "_model_name": "HTMLModel",
      "_view_count": null,
      "_view_module": "@jupyter-widgets/controls",
      "_view_module_version": "1.5.0",
      "_view_name": "HTMLView",
      "description": "",
      "description_tooltip": null,
      "layout": "IPY_MODEL_0d59d4853edd478793771ab18ad2e29c",
      "placeholder": "​",
      "style": "IPY_MODEL_c71b9d3992d947818f04770a31ca2f2e",
      "value": " 11908/11908 [00:06&lt;00:00, 1835.19 examples/s]"
     }
    },
    "85452e7350d141c0a46b20aca4a8da56": {
     "model_module": "@jupyter-widgets/base",
     "model_module_version": "1.2.0",
     "model_name": "LayoutModel",
     "state": {
      "_model_module": "@jupyter-widgets/base",
      "_model_module_version": "1.2.0",
      "_model_name": "LayoutModel",
      "_view_count": null,
      "_view_module": "@jupyter-widgets/base",
      "_view_module_version": "1.2.0",
      "_view_name": "LayoutView",
      "align_content": null,
      "align_items": null,
      "align_self": null,
      "border": null,
      "bottom": null,
      "display": null,
      "flex": null,
      "flex_flow": null,
      "grid_area": null,
      "grid_auto_columns": null,
      "grid_auto_flow": null,
      "grid_auto_rows": null,
      "grid_column": null,
      "grid_gap": null,
      "grid_row": null,
      "grid_template_areas": null,
      "grid_template_columns": null,
      "grid_template_rows": null,
      "height": null,
      "justify_content": null,
      "justify_items": null,
      "left": null,
      "margin": null,
      "max_height": null,
      "max_width": null,
      "min_height": null,
      "min_width": null,
      "object_fit": null,
      "object_position": null,
      "order": null,
      "overflow": null,
      "overflow_x": null,
      "overflow_y": null,
      "padding": null,
      "right": null,
      "top": null,
      "visibility": null,
      "width": null
     }
    },
    "87c8ed9c9d05448ab8b3b95e5c59b73f": {
     "model_module": "@jupyter-widgets/controls",
     "model_module_version": "1.5.0",
     "model_name": "HBoxModel",
     "state": {
      "_dom_classes": [],
      "_model_module": "@jupyter-widgets/controls",
      "_model_module_version": "1.5.0",
      "_model_name": "HBoxModel",
      "_view_count": null,
      "_view_module": "@jupyter-widgets/controls",
      "_view_module_version": "1.5.0",
      "_view_name": "HBoxView",
      "box_style": "",
      "children": [
       "IPY_MODEL_a05dfed8064b49e6a578fb686ee86721",
       "IPY_MODEL_de58fa16de424b2d8bbe34e665068751",
       "IPY_MODEL_3cf5c752902643ebb480a62e256c261f"
      ],
      "layout": "IPY_MODEL_85452e7350d141c0a46b20aca4a8da56"
     }
    },
    "89713677008249fe8c88de77110126c9": {
     "model_module": "@jupyter-widgets/base",
     "model_module_version": "1.2.0",
     "model_name": "LayoutModel",
     "state": {
      "_model_module": "@jupyter-widgets/base",
      "_model_module_version": "1.2.0",
      "_model_name": "LayoutModel",
      "_view_count": null,
      "_view_module": "@jupyter-widgets/base",
      "_view_module_version": "1.2.0",
      "_view_name": "LayoutView",
      "align_content": null,
      "align_items": null,
      "align_self": null,
      "border": null,
      "bottom": null,
      "display": null,
      "flex": null,
      "flex_flow": null,
      "grid_area": null,
      "grid_auto_columns": null,
      "grid_auto_flow": null,
      "grid_auto_rows": null,
      "grid_column": null,
      "grid_gap": null,
      "grid_row": null,
      "grid_template_areas": null,
      "grid_template_columns": null,
      "grid_template_rows": null,
      "height": null,
      "justify_content": null,
      "justify_items": null,
      "left": null,
      "margin": null,
      "max_height": null,
      "max_width": null,
      "min_height": null,
      "min_width": null,
      "object_fit": null,
      "object_position": null,
      "order": null,
      "overflow": null,
      "overflow_x": null,
      "overflow_y": null,
      "padding": null,
      "right": null,
      "top": null,
      "visibility": null,
      "width": null
     }
    },
    "8ef604f705cb49a08f43acdd731ad166": {
     "model_module": "@jupyter-widgets/controls",
     "model_module_version": "1.5.0",
     "model_name": "HTMLModel",
     "state": {
      "_dom_classes": [],
      "_model_module": "@jupyter-widgets/controls",
      "_model_module_version": "1.5.0",
      "_model_name": "HTMLModel",
      "_view_count": null,
      "_view_module": "@jupyter-widgets/controls",
      "_view_module_version": "1.5.0",
      "_view_name": "HTMLView",
      "description": "",
      "description_tooltip": null,
      "layout": "IPY_MODEL_7266ff13661d456abe26f857212cb873",
      "placeholder": "​",
      "style": "IPY_MODEL_9423a2422e9b466fae2464da205df750",
      "value": "pytorch_model.bin: 100%"
     }
    },
    "8f23320d50f147d1a2c8b877470e48f3": {
     "model_module": "@jupyter-widgets/controls",
     "model_module_version": "1.5.0",
     "model_name": "HTMLModel",
     "state": {
      "_dom_classes": [],
      "_model_module": "@jupyter-widgets/controls",
      "_model_module_version": "1.5.0",
      "_model_name": "HTMLModel",
      "_view_count": null,
      "_view_module": "@jupyter-widgets/controls",
      "_view_module_version": "1.5.0",
      "_view_name": "HTMLView",
      "description": "",
      "description_tooltip": null,
      "layout": "IPY_MODEL_a6a74ebb063b463d84a15da3d9d710bb",
      "placeholder": "​",
      "style": "IPY_MODEL_a973d31a79c8416f9d89fa6b6b429861",
      "value": " 447M/447M [00:01&lt;00:00, 226MB/s]"
     }
    },
    "9123d42ab7244001b1c8af54bed9cd16": {
     "model_module": "@jupyter-widgets/controls",
     "model_module_version": "1.5.0",
     "model_name": "DescriptionStyleModel",
     "state": {
      "_model_module": "@jupyter-widgets/controls",
      "_model_module_version": "1.5.0",
      "_model_name": "DescriptionStyleModel",
      "_view_count": null,
      "_view_module": "@jupyter-widgets/base",
      "_view_module_version": "1.2.0",
      "_view_name": "StyleView",
      "description_width": ""
     }
    },
    "920dbc16e22c496090c5194040e33594": {
     "model_module": "@jupyter-widgets/controls",
     "model_module_version": "1.5.0",
     "model_name": "DescriptionStyleModel",
     "state": {
      "_model_module": "@jupyter-widgets/controls",
      "_model_module_version": "1.5.0",
      "_model_name": "DescriptionStyleModel",
      "_view_count": null,
      "_view_module": "@jupyter-widgets/base",
      "_view_module_version": "1.2.0",
      "_view_name": "StyleView",
      "description_width": ""
     }
    },
    "942282fed980443ba2ad393440eea219": {
     "model_module": "@jupyter-widgets/controls",
     "model_module_version": "1.5.0",
     "model_name": "FloatProgressModel",
     "state": {
      "_dom_classes": [],
      "_model_module": "@jupyter-widgets/controls",
      "_model_module_version": "1.5.0",
      "_model_name": "FloatProgressModel",
      "_view_count": null,
      "_view_module": "@jupyter-widgets/controls",
      "_view_module_version": "1.5.0",
      "_view_name": "ProgressView",
      "bar_style": "success",
      "description": "",
      "description_tooltip": null,
      "layout": "IPY_MODEL_f1e488b6e70f472e8b20a212af5d6e4a",
      "max": 11909,
      "min": 0,
      "orientation": "horizontal",
      "style": "IPY_MODEL_fd917e38b98f4c06a3e5caaa2ce8019e",
      "value": 11909
     }
    },
    "9423a2422e9b466fae2464da205df750": {
     "model_module": "@jupyter-widgets/controls",
     "model_module_version": "1.5.0",
     "model_name": "DescriptionStyleModel",
     "state": {
      "_model_module": "@jupyter-widgets/controls",
      "_model_module_version": "1.5.0",
      "_model_name": "DescriptionStyleModel",
      "_view_count": null,
      "_view_module": "@jupyter-widgets/base",
      "_view_module_version": "1.2.0",
      "_view_name": "StyleView",
      "description_width": ""
     }
    },
    "964455efbff6444fbceede9c13825327": {
     "model_module": "@jupyter-widgets/controls",
     "model_module_version": "1.5.0",
     "model_name": "FloatProgressModel",
     "state": {
      "_dom_classes": [],
      "_model_module": "@jupyter-widgets/controls",
      "_model_module_version": "1.5.0",
      "_model_name": "FloatProgressModel",
      "_view_count": null,
      "_view_module": "@jupyter-widgets/controls",
      "_view_module_version": "1.5.0",
      "_view_name": "ProgressView",
      "bar_style": "success",
      "description": "",
      "description_tooltip": null,
      "layout": "IPY_MODEL_d9ecd67bea69408992ab3ceb12f6bd81",
      "max": 447362824,
      "min": 0,
      "orientation": "horizontal",
      "style": "IPY_MODEL_bbd9c7225b194a5684db5673843c5882",
      "value": 447362824
     }
    },
    "97d4503fc96041dbbcc69968cfb9171f": {
     "model_module": "@jupyter-widgets/controls",
     "model_module_version": "1.5.0",
     "model_name": "HBoxModel",
     "state": {
      "_dom_classes": [],
      "_model_module": "@jupyter-widgets/controls",
      "_model_module_version": "1.5.0",
      "_model_name": "HBoxModel",
      "_view_count": null,
      "_view_module": "@jupyter-widgets/controls",
      "_view_module_version": "1.5.0",
      "_view_name": "HBoxView",
      "box_style": "",
      "children": [
       "IPY_MODEL_b383b38d83c94e4e96789dd7b686593d",
       "IPY_MODEL_942282fed980443ba2ad393440eea219",
       "IPY_MODEL_3dca914f08b24eae87b15676428876d1"
      ],
      "layout": "IPY_MODEL_2e8d2a5e16534999a55748fab97e6f92"
     }
    },
    "9b9af20817fb4e7096e44e8a77ac8d00": {
     "model_module": "@jupyter-widgets/base",
     "model_module_version": "1.2.0",
     "model_name": "LayoutModel",
     "state": {
      "_model_module": "@jupyter-widgets/base",
      "_model_module_version": "1.2.0",
      "_model_name": "LayoutModel",
      "_view_count": null,
      "_view_module": "@jupyter-widgets/base",
      "_view_module_version": "1.2.0",
      "_view_name": "LayoutView",
      "align_content": null,
      "align_items": null,
      "align_self": null,
      "border": null,
      "bottom": null,
      "display": null,
      "flex": null,
      "flex_flow": null,
      "grid_area": null,
      "grid_auto_columns": null,
      "grid_auto_flow": null,
      "grid_auto_rows": null,
      "grid_column": null,
      "grid_gap": null,
      "grid_row": null,
      "grid_template_areas": null,
      "grid_template_columns": null,
      "grid_template_rows": null,
      "height": null,
      "justify_content": null,
      "justify_items": null,
      "left": null,
      "margin": null,
      "max_height": null,
      "max_width": null,
      "min_height": null,
      "min_width": null,
      "object_fit": null,
      "object_position": null,
      "order": null,
      "overflow": null,
      "overflow_x": null,
      "overflow_y": null,
      "padding": null,
      "right": null,
      "top": null,
      "visibility": null,
      "width": null
     }
    },
    "9df4c4413def4424aeafcd2d805bacb9": {
     "model_module": "@jupyter-widgets/controls",
     "model_module_version": "1.5.0",
     "model_name": "FloatProgressModel",
     "state": {
      "_dom_classes": [],
      "_model_module": "@jupyter-widgets/controls",
      "_model_module_version": "1.5.0",
      "_model_name": "FloatProgressModel",
      "_view_count": null,
      "_view_module": "@jupyter-widgets/controls",
      "_view_module_version": "1.5.0",
      "_view_name": "ProgressView",
      "bar_style": "success",
      "description": "",
      "description_tooltip": null,
      "layout": "IPY_MODEL_c451bbec988e4b1d838fb47b0ac5166e",
      "max": 472,
      "min": 0,
      "orientation": "horizontal",
      "style": "IPY_MODEL_a9ece5ecd93a4cbd9f90477f14964273",
      "value": 472
     }
    },
    "a05dfed8064b49e6a578fb686ee86721": {
     "model_module": "@jupyter-widgets/controls",
     "model_module_version": "1.5.0",
     "model_name": "HTMLModel",
     "state": {
      "_dom_classes": [],
      "_model_module": "@jupyter-widgets/controls",
      "_model_module_version": "1.5.0",
      "_model_name": "HTMLModel",
      "_view_count": null,
      "_view_module": "@jupyter-widgets/controls",
      "_view_module_version": "1.5.0",
      "_view_name": "HTMLView",
      "description": "",
      "description_tooltip": null,
      "layout": "IPY_MODEL_51dc77b0501442ee9722d7bdce864b18",
      "placeholder": "​",
      "style": "IPY_MODEL_79ebedeefb414a72b2358c1d13d0c969",
      "value": "vocab.txt: 100%"
     }
    },
    "a145b5d719d1459aa798ba84ab629306": {
     "model_module": "@jupyter-widgets/controls",
     "model_module_version": "1.5.0",
     "model_name": "HBoxModel",
     "state": {
      "_dom_classes": [],
      "_model_module": "@jupyter-widgets/controls",
      "_model_module_version": "1.5.0",
      "_model_name": "HBoxModel",
      "_view_count": null,
      "_view_module": "@jupyter-widgets/controls",
      "_view_module_version": "1.5.0",
      "_view_name": "HBoxView",
      "box_style": "",
      "children": [
       "IPY_MODEL_1ee17a181aaf42fdaa4e63d1e38a3b9e",
       "IPY_MODEL_1db0df2e23314fed99e2ff501f861a17",
       "IPY_MODEL_a4f0a8a4ca17427497b7603bc2132739"
      ],
      "layout": "IPY_MODEL_a26a61c2f6244768ae512b43f40ee3ef"
     }
    },
    "a26a61c2f6244768ae512b43f40ee3ef": {
     "model_module": "@jupyter-widgets/base",
     "model_module_version": "1.2.0",
     "model_name": "LayoutModel",
     "state": {
      "_model_module": "@jupyter-widgets/base",
      "_model_module_version": "1.2.0",
      "_model_name": "LayoutModel",
      "_view_count": null,
      "_view_module": "@jupyter-widgets/base",
      "_view_module_version": "1.2.0",
      "_view_name": "LayoutView",
      "align_content": null,
      "align_items": null,
      "align_self": null,
      "border": null,
      "bottom": null,
      "display": null,
      "flex": null,
      "flex_flow": null,
      "grid_area": null,
      "grid_auto_columns": null,
      "grid_auto_flow": null,
      "grid_auto_rows": null,
      "grid_column": null,
      "grid_gap": null,
      "grid_row": null,
      "grid_template_areas": null,
      "grid_template_columns": null,
      "grid_template_rows": null,
      "height": null,
      "justify_content": null,
      "justify_items": null,
      "left": null,
      "margin": null,
      "max_height": null,
      "max_width": null,
      "min_height": null,
      "min_width": null,
      "object_fit": null,
      "object_position": null,
      "order": null,
      "overflow": null,
      "overflow_x": null,
      "overflow_y": null,
      "padding": null,
      "right": null,
      "top": null,
      "visibility": null,
      "width": null
     }
    },
    "a4f0a8a4ca17427497b7603bc2132739": {
     "model_module": "@jupyter-widgets/controls",
     "model_module_version": "1.5.0",
     "model_name": "HTMLModel",
     "state": {
      "_dom_classes": [],
      "_model_module": "@jupyter-widgets/controls",
      "_model_module_version": "1.5.0",
      "_model_name": "HTMLModel",
      "_view_count": null,
      "_view_module": "@jupyter-widgets/controls",
      "_view_module_version": "1.5.0",
      "_view_name": "HTMLView",
      "description": "",
      "description_tooltip": null,
      "layout": "IPY_MODEL_e99e66d5f3604aaeb204662d9042f33c",
      "placeholder": "​",
      "style": "IPY_MODEL_5a19f255699f4e299022b0c630dbf9e6",
      "value": " 251/251 [00:00&lt;00:00, 6.34kB/s]"
     }
    },
    "a5cebf2f0e314b83a4204704eb044605": {
     "model_module": "@jupyter-widgets/controls",
     "model_module_version": "1.5.0",
     "model_name": "HBoxModel",
     "state": {
      "_dom_classes": [],
      "_model_module": "@jupyter-widgets/controls",
      "_model_module_version": "1.5.0",
      "_model_name": "HBoxModel",
      "_view_count": null,
      "_view_module": "@jupyter-widgets/controls",
      "_view_module_version": "1.5.0",
      "_view_name": "HBoxView",
      "box_style": "",
      "children": [
       "IPY_MODEL_356c761e2e8645a79fc338f59875c2db",
       "IPY_MODEL_b29adfb2eca74af9bd5a3e2a8ca4d0f8",
       "IPY_MODEL_83e49c4d066b4d7da4466f37df0c455c"
      ],
      "layout": "IPY_MODEL_f170e9fd150842159733e63b8acd530a"
     }
    },
    "a6703505933349718850c79b0cce2cc8": {
     "model_module": "@jupyter-widgets/controls",
     "model_module_version": "1.5.0",
     "model_name": "DescriptionStyleModel",
     "state": {
      "_model_module": "@jupyter-widgets/controls",
      "_model_module_version": "1.5.0",
      "_model_name": "DescriptionStyleModel",
      "_view_count": null,
      "_view_module": "@jupyter-widgets/base",
      "_view_module_version": "1.2.0",
      "_view_name": "StyleView",
      "description_width": ""
     }
    },
    "a6a74ebb063b463d84a15da3d9d710bb": {
     "model_module": "@jupyter-widgets/base",
     "model_module_version": "1.2.0",
     "model_name": "LayoutModel",
     "state": {
      "_model_module": "@jupyter-widgets/base",
      "_model_module_version": "1.2.0",
      "_model_name": "LayoutModel",
      "_view_count": null,
      "_view_module": "@jupyter-widgets/base",
      "_view_module_version": "1.2.0",
      "_view_name": "LayoutView",
      "align_content": null,
      "align_items": null,
      "align_self": null,
      "border": null,
      "bottom": null,
      "display": null,
      "flex": null,
      "flex_flow": null,
      "grid_area": null,
      "grid_auto_columns": null,
      "grid_auto_flow": null,
      "grid_auto_rows": null,
      "grid_column": null,
      "grid_gap": null,
      "grid_row": null,
      "grid_template_areas": null,
      "grid_template_columns": null,
      "grid_template_rows": null,
      "height": null,
      "justify_content": null,
      "justify_items": null,
      "left": null,
      "margin": null,
      "max_height": null,
      "max_width": null,
      "min_height": null,
      "min_width": null,
      "object_fit": null,
      "object_position": null,
      "order": null,
      "overflow": null,
      "overflow_x": null,
      "overflow_y": null,
      "padding": null,
      "right": null,
      "top": null,
      "visibility": null,
      "width": null
     }
    },
    "a973d31a79c8416f9d89fa6b6b429861": {
     "model_module": "@jupyter-widgets/controls",
     "model_module_version": "1.5.0",
     "model_name": "DescriptionStyleModel",
     "state": {
      "_model_module": "@jupyter-widgets/controls",
      "_model_module_version": "1.5.0",
      "_model_name": "DescriptionStyleModel",
      "_view_count": null,
      "_view_module": "@jupyter-widgets/base",
      "_view_module_version": "1.2.0",
      "_view_name": "StyleView",
      "description_width": ""
     }
    },
    "a9ece5ecd93a4cbd9f90477f14964273": {
     "model_module": "@jupyter-widgets/controls",
     "model_module_version": "1.5.0",
     "model_name": "ProgressStyleModel",
     "state": {
      "_model_module": "@jupyter-widgets/controls",
      "_model_module_version": "1.5.0",
      "_model_name": "ProgressStyleModel",
      "_view_count": null,
      "_view_module": "@jupyter-widgets/base",
      "_view_module_version": "1.2.0",
      "_view_name": "StyleView",
      "bar_color": null,
      "description_width": ""
     }
    },
    "aaa4138588a54fc683fbf17cb8715aa1": {
     "model_module": "@jupyter-widgets/controls",
     "model_module_version": "1.5.0",
     "model_name": "HTMLModel",
     "state": {
      "_dom_classes": [],
      "_model_module": "@jupyter-widgets/controls",
      "_model_module_version": "1.5.0",
      "_model_name": "HTMLModel",
      "_view_count": null,
      "_view_module": "@jupyter-widgets/controls",
      "_view_module_version": "1.5.0",
      "_view_name": "HTMLView",
      "description": "",
      "description_tooltip": null,
      "layout": "IPY_MODEL_6584aba534ef4d94848ed8bc0e5beace",
      "placeholder": "​",
      "style": "IPY_MODEL_a6703505933349718850c79b0cce2cc8",
      "value": "config.json: 100%"
     }
    },
    "ad44ac71509841aeb9477a01c07ec242": {
     "model_module": "@jupyter-widgets/base",
     "model_module_version": "1.2.0",
     "model_name": "LayoutModel",
     "state": {
      "_model_module": "@jupyter-widgets/base",
      "_model_module_version": "1.2.0",
      "_model_name": "LayoutModel",
      "_view_count": null,
      "_view_module": "@jupyter-widgets/base",
      "_view_module_version": "1.2.0",
      "_view_name": "LayoutView",
      "align_content": null,
      "align_items": null,
      "align_self": null,
      "border": null,
      "bottom": null,
      "display": null,
      "flex": null,
      "flex_flow": null,
      "grid_area": null,
      "grid_auto_columns": null,
      "grid_auto_flow": null,
      "grid_auto_rows": null,
      "grid_column": null,
      "grid_gap": null,
      "grid_row": null,
      "grid_template_areas": null,
      "grid_template_columns": null,
      "grid_template_rows": null,
      "height": null,
      "justify_content": null,
      "justify_items": null,
      "left": null,
      "margin": null,
      "max_height": null,
      "max_width": null,
      "min_height": null,
      "min_width": null,
      "object_fit": null,
      "object_position": null,
      "order": null,
      "overflow": null,
      "overflow_x": null,
      "overflow_y": null,
      "padding": null,
      "right": null,
      "top": null,
      "visibility": null,
      "width": null
     }
    },
    "ad5bf2a8776f408a8d24742c6dc131f2": {
     "model_module": "@jupyter-widgets/base",
     "model_module_version": "1.2.0",
     "model_name": "LayoutModel",
     "state": {
      "_model_module": "@jupyter-widgets/base",
      "_model_module_version": "1.2.0",
      "_model_name": "LayoutModel",
      "_view_count": null,
      "_view_module": "@jupyter-widgets/base",
      "_view_module_version": "1.2.0",
      "_view_name": "LayoutView",
      "align_content": null,
      "align_items": null,
      "align_self": null,
      "border": null,
      "bottom": null,
      "display": null,
      "flex": null,
      "flex_flow": null,
      "grid_area": null,
      "grid_auto_columns": null,
      "grid_auto_flow": null,
      "grid_auto_rows": null,
      "grid_column": null,
      "grid_gap": null,
      "grid_row": null,
      "grid_template_areas": null,
      "grid_template_columns": null,
      "grid_template_rows": null,
      "height": null,
      "justify_content": null,
      "justify_items": null,
      "left": null,
      "margin": null,
      "max_height": null,
      "max_width": null,
      "min_height": null,
      "min_width": null,
      "object_fit": null,
      "object_position": null,
      "order": null,
      "overflow": null,
      "overflow_x": null,
      "overflow_y": null,
      "padding": null,
      "right": null,
      "top": null,
      "visibility": null,
      "width": null
     }
    },
    "b29adfb2eca74af9bd5a3e2a8ca4d0f8": {
     "model_module": "@jupyter-widgets/controls",
     "model_module_version": "1.5.0",
     "model_name": "FloatProgressModel",
     "state": {
      "_dom_classes": [],
      "_model_module": "@jupyter-widgets/controls",
      "_model_module_version": "1.5.0",
      "_model_name": "FloatProgressModel",
      "_view_count": null,
      "_view_module": "@jupyter-widgets/controls",
      "_view_module_version": "1.5.0",
      "_view_name": "ProgressView",
      "bar_style": "success",
      "description": "",
      "description_tooltip": null,
      "layout": "IPY_MODEL_ad44ac71509841aeb9477a01c07ec242",
      "max": 11908,
      "min": 0,
      "orientation": "horizontal",
      "style": "IPY_MODEL_6367131cd7e6402583c6c3dcc91ca192",
      "value": 11908
     }
    },
    "b383b38d83c94e4e96789dd7b686593d": {
     "model_module": "@jupyter-widgets/controls",
     "model_module_version": "1.5.0",
     "model_name": "HTMLModel",
     "state": {
      "_dom_classes": [],
      "_model_module": "@jupyter-widgets/controls",
      "_model_module_version": "1.5.0",
      "_model_name": "HTMLModel",
      "_view_count": null,
      "_view_module": "@jupyter-widgets/controls",
      "_view_module_version": "1.5.0",
      "_view_name": "HTMLView",
      "description": "",
      "description_tooltip": null,
      "layout": "IPY_MODEL_4be0241a80184c98959ffa741adc699b",
      "placeholder": "​",
      "style": "IPY_MODEL_9123d42ab7244001b1c8af54bed9cd16",
      "value": "Map: 100%"
     }
    },
    "b9452c9dab08437bbb3ff083af6582db": {
     "model_module": "@jupyter-widgets/base",
     "model_module_version": "1.2.0",
     "model_name": "LayoutModel",
     "state": {
      "_model_module": "@jupyter-widgets/base",
      "_model_module_version": "1.2.0",
      "_model_name": "LayoutModel",
      "_view_count": null,
      "_view_module": "@jupyter-widgets/base",
      "_view_module_version": "1.2.0",
      "_view_name": "LayoutView",
      "align_content": null,
      "align_items": null,
      "align_self": null,
      "border": null,
      "bottom": null,
      "display": null,
      "flex": null,
      "flex_flow": null,
      "grid_area": null,
      "grid_auto_columns": null,
      "grid_auto_flow": null,
      "grid_auto_rows": null,
      "grid_column": null,
      "grid_gap": null,
      "grid_row": null,
      "grid_template_areas": null,
      "grid_template_columns": null,
      "grid_template_rows": null,
      "height": null,
      "justify_content": null,
      "justify_items": null,
      "left": null,
      "margin": null,
      "max_height": null,
      "max_width": null,
      "min_height": null,
      "min_width": null,
      "object_fit": null,
      "object_position": null,
      "order": null,
      "overflow": null,
      "overflow_x": null,
      "overflow_y": null,
      "padding": null,
      "right": null,
      "top": null,
      "visibility": null,
      "width": null
     }
    },
    "ba0a2ddf0fc04ff68800d98f1af25018": {
     "model_module": "@jupyter-widgets/base",
     "model_module_version": "1.2.0",
     "model_name": "LayoutModel",
     "state": {
      "_model_module": "@jupyter-widgets/base",
      "_model_module_version": "1.2.0",
      "_model_name": "LayoutModel",
      "_view_count": null,
      "_view_module": "@jupyter-widgets/base",
      "_view_module_version": "1.2.0",
      "_view_name": "LayoutView",
      "align_content": null,
      "align_items": null,
      "align_self": null,
      "border": null,
      "bottom": null,
      "display": null,
      "flex": null,
      "flex_flow": null,
      "grid_area": null,
      "grid_auto_columns": null,
      "grid_auto_flow": null,
      "grid_auto_rows": null,
      "grid_column": null,
      "grid_gap": null,
      "grid_row": null,
      "grid_template_areas": null,
      "grid_template_columns": null,
      "grid_template_rows": null,
      "height": null,
      "justify_content": null,
      "justify_items": null,
      "left": null,
      "margin": null,
      "max_height": null,
      "max_width": null,
      "min_height": null,
      "min_width": null,
      "object_fit": null,
      "object_position": null,
      "order": null,
      "overflow": null,
      "overflow_x": null,
      "overflow_y": null,
      "padding": null,
      "right": null,
      "top": null,
      "visibility": null,
      "width": null
     }
    },
    "bbd9c7225b194a5684db5673843c5882": {
     "model_module": "@jupyter-widgets/controls",
     "model_module_version": "1.5.0",
     "model_name": "ProgressStyleModel",
     "state": {
      "_model_module": "@jupyter-widgets/controls",
      "_model_module_version": "1.5.0",
      "_model_name": "ProgressStyleModel",
      "_view_count": null,
      "_view_module": "@jupyter-widgets/base",
      "_view_module_version": "1.2.0",
      "_view_name": "StyleView",
      "bar_color": null,
      "description_width": ""
     }
    },
    "c451bbec988e4b1d838fb47b0ac5166e": {
     "model_module": "@jupyter-widgets/base",
     "model_module_version": "1.2.0",
     "model_name": "LayoutModel",
     "state": {
      "_model_module": "@jupyter-widgets/base",
      "_model_module_version": "1.2.0",
      "_model_name": "LayoutModel",
      "_view_count": null,
      "_view_module": "@jupyter-widgets/base",
      "_view_module_version": "1.2.0",
      "_view_name": "LayoutView",
      "align_content": null,
      "align_items": null,
      "align_self": null,
      "border": null,
      "bottom": null,
      "display": null,
      "flex": null,
      "flex_flow": null,
      "grid_area": null,
      "grid_auto_columns": null,
      "grid_auto_flow": null,
      "grid_auto_rows": null,
      "grid_column": null,
      "grid_gap": null,
      "grid_row": null,
      "grid_template_areas": null,
      "grid_template_columns": null,
      "grid_template_rows": null,
      "height": null,
      "justify_content": null,
      "justify_items": null,
      "left": null,
      "margin": null,
      "max_height": null,
      "max_width": null,
      "min_height": null,
      "min_width": null,
      "object_fit": null,
      "object_position": null,
      "order": null,
      "overflow": null,
      "overflow_x": null,
      "overflow_y": null,
      "padding": null,
      "right": null,
      "top": null,
      "visibility": null,
      "width": null
     }
    },
    "c71b9d3992d947818f04770a31ca2f2e": {
     "model_module": "@jupyter-widgets/controls",
     "model_module_version": "1.5.0",
     "model_name": "DescriptionStyleModel",
     "state": {
      "_model_module": "@jupyter-widgets/controls",
      "_model_module_version": "1.5.0",
      "_model_name": "DescriptionStyleModel",
      "_view_count": null,
      "_view_module": "@jupyter-widgets/base",
      "_view_module_version": "1.2.0",
      "_view_name": "StyleView",
      "description_width": ""
     }
    },
    "c9e94209c0434dc988f98ced719561bf": {
     "model_module": "@jupyter-widgets/base",
     "model_module_version": "1.2.0",
     "model_name": "LayoutModel",
     "state": {
      "_model_module": "@jupyter-widgets/base",
      "_model_module_version": "1.2.0",
      "_model_name": "LayoutModel",
      "_view_count": null,
      "_view_module": "@jupyter-widgets/base",
      "_view_module_version": "1.2.0",
      "_view_name": "LayoutView",
      "align_content": null,
      "align_items": null,
      "align_self": null,
      "border": null,
      "bottom": null,
      "display": null,
      "flex": null,
      "flex_flow": null,
      "grid_area": null,
      "grid_auto_columns": null,
      "grid_auto_flow": null,
      "grid_auto_rows": null,
      "grid_column": null,
      "grid_gap": null,
      "grid_row": null,
      "grid_template_areas": null,
      "grid_template_columns": null,
      "grid_template_rows": null,
      "height": null,
      "justify_content": null,
      "justify_items": null,
      "left": null,
      "margin": null,
      "max_height": null,
      "max_width": null,
      "min_height": null,
      "min_width": null,
      "object_fit": null,
      "object_position": null,
      "order": null,
      "overflow": null,
      "overflow_x": null,
      "overflow_y": null,
      "padding": null,
      "right": null,
      "top": null,
      "visibility": null,
      "width": null
     }
    },
    "d4e34e7bad474a2d80bd155ae3e49681": {
     "model_module": "@jupyter-widgets/controls",
     "model_module_version": "1.5.0",
     "model_name": "DescriptionStyleModel",
     "state": {
      "_model_module": "@jupyter-widgets/controls",
      "_model_module_version": "1.5.0",
      "_model_name": "DescriptionStyleModel",
      "_view_count": null,
      "_view_module": "@jupyter-widgets/base",
      "_view_module_version": "1.2.0",
      "_view_name": "StyleView",
      "description_width": ""
     }
    },
    "d642ca95ef4345e0a728e26d0f4ed708": {
     "model_module": "@jupyter-widgets/controls",
     "model_module_version": "1.5.0",
     "model_name": "HTMLModel",
     "state": {
      "_dom_classes": [],
      "_model_module": "@jupyter-widgets/controls",
      "_model_module_version": "1.5.0",
      "_model_name": "HTMLModel",
      "_view_count": null,
      "_view_module": "@jupyter-widgets/controls",
      "_view_module_version": "1.5.0",
      "_view_name": "HTMLView",
      "description": "",
      "description_tooltip": null,
      "layout": "IPY_MODEL_ad5bf2a8776f408a8d24742c6dc131f2",
      "placeholder": "​",
      "style": "IPY_MODEL_72e3ac3228f74df5b829d12cc6aae243",
      "value": "Map: 100%"
     }
    },
    "d9ca9cb641734e41bc3c17d904a9bf4f": {
     "model_module": "@jupyter-widgets/controls",
     "model_module_version": "1.5.0",
     "model_name": "FloatProgressModel",
     "state": {
      "_dom_classes": [],
      "_model_module": "@jupyter-widgets/controls",
      "_model_module_version": "1.5.0",
      "_model_name": "FloatProgressModel",
      "_view_count": null,
      "_view_module": "@jupyter-widgets/controls",
      "_view_module_version": "1.5.0",
      "_view_name": "ProgressView",
      "bar_style": "success",
      "description": "",
      "description_tooltip": null,
      "layout": "IPY_MODEL_173b01bc656148c390a927d1d957dcf2",
      "max": 35724,
      "min": 0,
      "orientation": "horizontal",
      "style": "IPY_MODEL_5fe618d2338243fb9ac6918bc52351a8",
      "value": 35724
     }
    },
    "d9ecd67bea69408992ab3ceb12f6bd81": {
     "model_module": "@jupyter-widgets/base",
     "model_module_version": "1.2.0",
     "model_name": "LayoutModel",
     "state": {
      "_model_module": "@jupyter-widgets/base",
      "_model_module_version": "1.2.0",
      "_model_name": "LayoutModel",
      "_view_count": null,
      "_view_module": "@jupyter-widgets/base",
      "_view_module_version": "1.2.0",
      "_view_name": "LayoutView",
      "align_content": null,
      "align_items": null,
      "align_self": null,
      "border": null,
      "bottom": null,
      "display": null,
      "flex": null,
      "flex_flow": null,
      "grid_area": null,
      "grid_auto_columns": null,
      "grid_auto_flow": null,
      "grid_auto_rows": null,
      "grid_column": null,
      "grid_gap": null,
      "grid_row": null,
      "grid_template_areas": null,
      "grid_template_columns": null,
      "grid_template_rows": null,
      "height": null,
      "justify_content": null,
      "justify_items": null,
      "left": null,
      "margin": null,
      "max_height": null,
      "max_width": null,
      "min_height": null,
      "min_width": null,
      "object_fit": null,
      "object_position": null,
      "order": null,
      "overflow": null,
      "overflow_x": null,
      "overflow_y": null,
      "padding": null,
      "right": null,
      "top": null,
      "visibility": null,
      "width": null
     }
    },
    "dd2a7058278e42b485f3adc1381ec239": {
     "model_module": "@jupyter-widgets/controls",
     "model_module_version": "1.5.0",
     "model_name": "HTMLModel",
     "state": {
      "_dom_classes": [],
      "_model_module": "@jupyter-widgets/controls",
      "_model_module_version": "1.5.0",
      "_model_name": "HTMLModel",
      "_view_count": null,
      "_view_module": "@jupyter-widgets/controls",
      "_view_module_version": "1.5.0",
      "_view_name": "HTMLView",
      "description": "",
      "description_tooltip": null,
      "layout": "IPY_MODEL_e8b389b8c3ca44258295b3b0491c66fb",
      "placeholder": "​",
      "style": "IPY_MODEL_d4e34e7bad474a2d80bd155ae3e49681",
      "value": " 35724/35724 [00:25&lt;00:00, 2436.77 examples/s]"
     }
    },
    "de58fa16de424b2d8bbe34e665068751": {
     "model_module": "@jupyter-widgets/controls",
     "model_module_version": "1.5.0",
     "model_name": "FloatProgressModel",
     "state": {
      "_dom_classes": [],
      "_model_module": "@jupyter-widgets/controls",
      "_model_module_version": "1.5.0",
      "_model_name": "FloatProgressModel",
      "_view_count": null,
      "_view_module": "@jupyter-widgets/controls",
      "_view_module_version": "1.5.0",
      "_view_name": "ProgressView",
      "bar_style": "success",
      "description": "",
      "description_tooltip": null,
      "layout": "IPY_MODEL_50c7b936068d41b6a59d209406e43f9b",
      "max": 231026,
      "min": 0,
      "orientation": "horizontal",
      "style": "IPY_MODEL_571bbbbf04fc4971812b0051fde8ef24",
      "value": 231026
     }
    },
    "de83c1bcf76444cbab6f1dec2af8b2d6": {
     "model_module": "@jupyter-widgets/controls",
     "model_module_version": "1.5.0",
     "model_name": "HTMLModel",
     "state": {
      "_dom_classes": [],
      "_model_module": "@jupyter-widgets/controls",
      "_model_module_version": "1.5.0",
      "_model_name": "HTMLModel",
      "_view_count": null,
      "_view_module": "@jupyter-widgets/controls",
      "_view_module_version": "1.5.0",
      "_view_name": "HTMLView",
      "description": "",
      "description_tooltip": null,
      "layout": "IPY_MODEL_3b1e9bf1922a4017b39bcadf3be242db",
      "placeholder": "​",
      "style": "IPY_MODEL_920dbc16e22c496090c5194040e33594",
      "value": "model.safetensors: 100%"
     }
    },
    "e7a98356f97b43d2abc4639b7214375b": {
     "model_module": "@jupyter-widgets/controls",
     "model_module_version": "1.5.0",
     "model_name": "HBoxModel",
     "state": {
      "_dom_classes": [],
      "_model_module": "@jupyter-widgets/controls",
      "_model_module_version": "1.5.0",
      "_model_name": "HBoxModel",
      "_view_count": null,
      "_view_module": "@jupyter-widgets/controls",
      "_view_module_version": "1.5.0",
      "_view_name": "HBoxView",
      "box_style": "",
      "children": [
       "IPY_MODEL_aaa4138588a54fc683fbf17cb8715aa1",
       "IPY_MODEL_9df4c4413def4424aeafcd2d805bacb9",
       "IPY_MODEL_2da2d7e462d4413a88afb6c9e3508abb"
      ],
      "layout": "IPY_MODEL_450a3fd5fdf4464999724cda98d6cfce"
     }
    },
    "e8b389b8c3ca44258295b3b0491c66fb": {
     "model_module": "@jupyter-widgets/base",
     "model_module_version": "1.2.0",
     "model_name": "LayoutModel",
     "state": {
      "_model_module": "@jupyter-widgets/base",
      "_model_module_version": "1.2.0",
      "_model_name": "LayoutModel",
      "_view_count": null,
      "_view_module": "@jupyter-widgets/base",
      "_view_module_version": "1.2.0",
      "_view_name": "LayoutView",
      "align_content": null,
      "align_items": null,
      "align_self": null,
      "border": null,
      "bottom": null,
      "display": null,
      "flex": null,
      "flex_flow": null,
      "grid_area": null,
      "grid_auto_columns": null,
      "grid_auto_flow": null,
      "grid_auto_rows": null,
      "grid_column": null,
      "grid_gap": null,
      "grid_row": null,
      "grid_template_areas": null,
      "grid_template_columns": null,
      "grid_template_rows": null,
      "height": null,
      "justify_content": null,
      "justify_items": null,
      "left": null,
      "margin": null,
      "max_height": null,
      "max_width": null,
      "min_height": null,
      "min_width": null,
      "object_fit": null,
      "object_position": null,
      "order": null,
      "overflow": null,
      "overflow_x": null,
      "overflow_y": null,
      "padding": null,
      "right": null,
      "top": null,
      "visibility": null,
      "width": null
     }
    },
    "e99e66d5f3604aaeb204662d9042f33c": {
     "model_module": "@jupyter-widgets/base",
     "model_module_version": "1.2.0",
     "model_name": "LayoutModel",
     "state": {
      "_model_module": "@jupyter-widgets/base",
      "_model_module_version": "1.2.0",
      "_model_name": "LayoutModel",
      "_view_count": null,
      "_view_module": "@jupyter-widgets/base",
      "_view_module_version": "1.2.0",
      "_view_name": "LayoutView",
      "align_content": null,
      "align_items": null,
      "align_self": null,
      "border": null,
      "bottom": null,
      "display": null,
      "flex": null,
      "flex_flow": null,
      "grid_area": null,
      "grid_auto_columns": null,
      "grid_auto_flow": null,
      "grid_auto_rows": null,
      "grid_column": null,
      "grid_gap": null,
      "grid_row": null,
      "grid_template_areas": null,
      "grid_template_columns": null,
      "grid_template_rows": null,
      "height": null,
      "justify_content": null,
      "justify_items": null,
      "left": null,
      "margin": null,
      "max_height": null,
      "max_width": null,
      "min_height": null,
      "min_width": null,
      "object_fit": null,
      "object_position": null,
      "order": null,
      "overflow": null,
      "overflow_x": null,
      "overflow_y": null,
      "padding": null,
      "right": null,
      "top": null,
      "visibility": null,
      "width": null
     }
    },
    "eb6b405699a4434fbf3b0473d820208f": {
     "model_module": "@jupyter-widgets/controls",
     "model_module_version": "1.5.0",
     "model_name": "DescriptionStyleModel",
     "state": {
      "_model_module": "@jupyter-widgets/controls",
      "_model_module_version": "1.5.0",
      "_model_name": "DescriptionStyleModel",
      "_view_count": null,
      "_view_module": "@jupyter-widgets/base",
      "_view_module_version": "1.2.0",
      "_view_name": "StyleView",
      "description_width": ""
     }
    },
    "ed12ae70f6574412a46a46d615a054e2": {
     "model_module": "@jupyter-widgets/base",
     "model_module_version": "1.2.0",
     "model_name": "LayoutModel",
     "state": {
      "_model_module": "@jupyter-widgets/base",
      "_model_module_version": "1.2.0",
      "_model_name": "LayoutModel",
      "_view_count": null,
      "_view_module": "@jupyter-widgets/base",
      "_view_module_version": "1.2.0",
      "_view_name": "LayoutView",
      "align_content": null,
      "align_items": null,
      "align_self": null,
      "border": null,
      "bottom": null,
      "display": null,
      "flex": null,
      "flex_flow": null,
      "grid_area": null,
      "grid_auto_columns": null,
      "grid_auto_flow": null,
      "grid_auto_rows": null,
      "grid_column": null,
      "grid_gap": null,
      "grid_row": null,
      "grid_template_areas": null,
      "grid_template_columns": null,
      "grid_template_rows": null,
      "height": null,
      "justify_content": null,
      "justify_items": null,
      "left": null,
      "margin": null,
      "max_height": null,
      "max_width": null,
      "min_height": null,
      "min_width": null,
      "object_fit": null,
      "object_position": null,
      "order": null,
      "overflow": null,
      "overflow_x": null,
      "overflow_y": null,
      "padding": null,
      "right": null,
      "top": null,
      "visibility": null,
      "width": null
     }
    },
    "f170e9fd150842159733e63b8acd530a": {
     "model_module": "@jupyter-widgets/base",
     "model_module_version": "1.2.0",
     "model_name": "LayoutModel",
     "state": {
      "_model_module": "@jupyter-widgets/base",
      "_model_module_version": "1.2.0",
      "_model_name": "LayoutModel",
      "_view_count": null,
      "_view_module": "@jupyter-widgets/base",
      "_view_module_version": "1.2.0",
      "_view_name": "LayoutView",
      "align_content": null,
      "align_items": null,
      "align_self": null,
      "border": null,
      "bottom": null,
      "display": null,
      "flex": null,
      "flex_flow": null,
      "grid_area": null,
      "grid_auto_columns": null,
      "grid_auto_flow": null,
      "grid_auto_rows": null,
      "grid_column": null,
      "grid_gap": null,
      "grid_row": null,
      "grid_template_areas": null,
      "grid_template_columns": null,
      "grid_template_rows": null,
      "height": null,
      "justify_content": null,
      "justify_items": null,
      "left": null,
      "margin": null,
      "max_height": null,
      "max_width": null,
      "min_height": null,
      "min_width": null,
      "object_fit": null,
      "object_position": null,
      "order": null,
      "overflow": null,
      "overflow_x": null,
      "overflow_y": null,
      "padding": null,
      "right": null,
      "top": null,
      "visibility": null,
      "width": null
     }
    },
    "f1e488b6e70f472e8b20a212af5d6e4a": {
     "model_module": "@jupyter-widgets/base",
     "model_module_version": "1.2.0",
     "model_name": "LayoutModel",
     "state": {
      "_model_module": "@jupyter-widgets/base",
      "_model_module_version": "1.2.0",
      "_model_name": "LayoutModel",
      "_view_count": null,
      "_view_module": "@jupyter-widgets/base",
      "_view_module_version": "1.2.0",
      "_view_name": "LayoutView",
      "align_content": null,
      "align_items": null,
      "align_self": null,
      "border": null,
      "bottom": null,
      "display": null,
      "flex": null,
      "flex_flow": null,
      "grid_area": null,
      "grid_auto_columns": null,
      "grid_auto_flow": null,
      "grid_auto_rows": null,
      "grid_column": null,
      "grid_gap": null,
      "grid_row": null,
      "grid_template_areas": null,
      "grid_template_columns": null,
      "grid_template_rows": null,
      "height": null,
      "justify_content": null,
      "justify_items": null,
      "left": null,
      "margin": null,
      "max_height": null,
      "max_width": null,
      "min_height": null,
      "min_width": null,
      "object_fit": null,
      "object_position": null,
      "order": null,
      "overflow": null,
      "overflow_x": null,
      "overflow_y": null,
      "padding": null,
      "right": null,
      "top": null,
      "visibility": null,
      "width": null
     }
    },
    "fd917e38b98f4c06a3e5caaa2ce8019e": {
     "model_module": "@jupyter-widgets/controls",
     "model_module_version": "1.5.0",
     "model_name": "ProgressStyleModel",
     "state": {
      "_model_module": "@jupyter-widgets/controls",
      "_model_module_version": "1.5.0",
      "_model_name": "ProgressStyleModel",
      "_view_count": null,
      "_view_module": "@jupyter-widgets/base",
      "_view_module_version": "1.2.0",
      "_view_name": "StyleView",
      "bar_color": null,
      "description_width": ""
     }
    }
   }
  }
 },
 "nbformat": 4,
 "nbformat_minor": 1
}
